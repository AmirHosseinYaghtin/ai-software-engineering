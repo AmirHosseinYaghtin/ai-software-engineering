{
  "cells": [
    {
      "cell_type": "code",
      "execution_count": 1,
      "metadata": {
        "colab": {
          "base_uri": "https://localhost:8080/"
        },
        "collapsed": true,
        "id": "rV5MPwY3gbsb",
        "outputId": "efa00ca4-c315-45c6-f74e-0d6554b66fb3"
      },
      "outputs": [
        {
          "output_type": "stream",
          "name": "stdout",
          "text": [
            "Requirement already satisfied: langchain-google-genai in /usr/local/lib/python3.11/dist-packages (2.1.6)\n",
            "Requirement already satisfied: langchain_community in /usr/local/lib/python3.11/dist-packages (0.3.27)\n",
            "Requirement already satisfied: tiktoken in /usr/local/lib/python3.11/dist-packages (0.9.0)\n",
            "Requirement already satisfied: langchain in /usr/local/lib/python3.11/dist-packages (0.3.26)\n",
            "Requirement already satisfied: filetype<2.0.0,>=1.2.0 in /usr/local/lib/python3.11/dist-packages (from langchain-google-genai) (1.2.0)\n",
            "Requirement already satisfied: google-ai-generativelanguage<0.7.0,>=0.6.18 in /usr/local/lib/python3.11/dist-packages (from langchain-google-genai) (0.6.18)\n",
            "Requirement already satisfied: langchain-core<0.4.0,>=0.3.66 in /usr/local/lib/python3.11/dist-packages (from langchain-google-genai) (0.3.67)\n",
            "Requirement already satisfied: pydantic<3,>=2 in /usr/local/lib/python3.11/dist-packages (from langchain-google-genai) (2.11.7)\n",
            "Requirement already satisfied: SQLAlchemy<3,>=1.4 in /usr/local/lib/python3.11/dist-packages (from langchain_community) (2.0.41)\n",
            "Requirement already satisfied: requests<3,>=2 in /usr/local/lib/python3.11/dist-packages (from langchain_community) (2.32.3)\n",
            "Requirement already satisfied: PyYAML>=5.3 in /usr/local/lib/python3.11/dist-packages (from langchain_community) (6.0.2)\n",
            "Requirement already satisfied: aiohttp<4.0.0,>=3.8.3 in /usr/local/lib/python3.11/dist-packages (from langchain_community) (3.11.15)\n",
            "Requirement already satisfied: tenacity!=8.4.0,<10,>=8.1.0 in /usr/local/lib/python3.11/dist-packages (from langchain_community) (8.5.0)\n",
            "Requirement already satisfied: dataclasses-json<0.7,>=0.5.7 in /usr/local/lib/python3.11/dist-packages (from langchain_community) (0.6.7)\n",
            "Requirement already satisfied: pydantic-settings<3.0.0,>=2.4.0 in /usr/local/lib/python3.11/dist-packages (from langchain_community) (2.10.1)\n",
            "Requirement already satisfied: langsmith>=0.1.125 in /usr/local/lib/python3.11/dist-packages (from langchain_community) (0.4.4)\n",
            "Requirement already satisfied: httpx-sse<1.0.0,>=0.4.0 in /usr/local/lib/python3.11/dist-packages (from langchain_community) (0.4.0)\n",
            "Requirement already satisfied: numpy>=1.26.2 in /usr/local/lib/python3.11/dist-packages (from langchain_community) (2.0.2)\n",
            "Requirement already satisfied: regex>=2022.1.18 in /usr/local/lib/python3.11/dist-packages (from tiktoken) (2024.11.6)\n",
            "Requirement already satisfied: langchain-text-splitters<1.0.0,>=0.3.8 in /usr/local/lib/python3.11/dist-packages (from langchain) (0.3.8)\n",
            "Requirement already satisfied: aiohappyeyeballs>=2.3.0 in /usr/local/lib/python3.11/dist-packages (from aiohttp<4.0.0,>=3.8.3->langchain_community) (2.6.1)\n",
            "Requirement already satisfied: aiosignal>=1.1.2 in /usr/local/lib/python3.11/dist-packages (from aiohttp<4.0.0,>=3.8.3->langchain_community) (1.3.2)\n",
            "Requirement already satisfied: attrs>=17.3.0 in /usr/local/lib/python3.11/dist-packages (from aiohttp<4.0.0,>=3.8.3->langchain_community) (25.3.0)\n",
            "Requirement already satisfied: frozenlist>=1.1.1 in /usr/local/lib/python3.11/dist-packages (from aiohttp<4.0.0,>=3.8.3->langchain_community) (1.7.0)\n",
            "Requirement already satisfied: multidict<7.0,>=4.5 in /usr/local/lib/python3.11/dist-packages (from aiohttp<4.0.0,>=3.8.3->langchain_community) (6.6.3)\n",
            "Requirement already satisfied: propcache>=0.2.0 in /usr/local/lib/python3.11/dist-packages (from aiohttp<4.0.0,>=3.8.3->langchain_community) (0.3.2)\n",
            "Requirement already satisfied: yarl<2.0,>=1.17.0 in /usr/local/lib/python3.11/dist-packages (from aiohttp<4.0.0,>=3.8.3->langchain_community) (1.20.1)\n",
            "Requirement already satisfied: marshmallow<4.0.0,>=3.18.0 in /usr/local/lib/python3.11/dist-packages (from dataclasses-json<0.7,>=0.5.7->langchain_community) (3.26.1)\n",
            "Requirement already satisfied: typing-inspect<1,>=0.4.0 in /usr/local/lib/python3.11/dist-packages (from dataclasses-json<0.7,>=0.5.7->langchain_community) (0.9.0)\n",
            "Requirement already satisfied: google-api-core!=2.0.*,!=2.1.*,!=2.10.*,!=2.2.*,!=2.3.*,!=2.4.*,!=2.5.*,!=2.6.*,!=2.7.*,!=2.8.*,!=2.9.*,<3.0.0,>=1.34.1 in /usr/local/lib/python3.11/dist-packages (from google-api-core[grpc]!=2.0.*,!=2.1.*,!=2.10.*,!=2.2.*,!=2.3.*,!=2.4.*,!=2.5.*,!=2.6.*,!=2.7.*,!=2.8.*,!=2.9.*,<3.0.0,>=1.34.1->google-ai-generativelanguage<0.7.0,>=0.6.18->langchain-google-genai) (2.25.1)\n",
            "Requirement already satisfied: google-auth!=2.24.0,!=2.25.0,<3.0.0,>=2.14.1 in /usr/local/lib/python3.11/dist-packages (from google-ai-generativelanguage<0.7.0,>=0.6.18->langchain-google-genai) (2.38.0)\n",
            "Requirement already satisfied: proto-plus<2.0.0,>=1.22.3 in /usr/local/lib/python3.11/dist-packages (from google-ai-generativelanguage<0.7.0,>=0.6.18->langchain-google-genai) (1.26.1)\n",
            "Requirement already satisfied: protobuf!=4.21.0,!=4.21.1,!=4.21.2,!=4.21.3,!=4.21.4,!=4.21.5,<7.0.0,>=3.20.2 in /usr/local/lib/python3.11/dist-packages (from google-ai-generativelanguage<0.7.0,>=0.6.18->langchain-google-genai) (5.29.5)\n",
            "Requirement already satisfied: jsonpatch<2.0,>=1.33 in /usr/local/lib/python3.11/dist-packages (from langchain-core<0.4.0,>=0.3.66->langchain-google-genai) (1.33)\n",
            "Requirement already satisfied: packaging<25,>=23.2 in /usr/local/lib/python3.11/dist-packages (from langchain-core<0.4.0,>=0.3.66->langchain-google-genai) (24.2)\n",
            "Requirement already satisfied: typing-extensions>=4.7 in /usr/local/lib/python3.11/dist-packages (from langchain-core<0.4.0,>=0.3.66->langchain-google-genai) (4.14.0)\n",
            "Requirement already satisfied: httpx<1,>=0.23.0 in /usr/local/lib/python3.11/dist-packages (from langsmith>=0.1.125->langchain_community) (0.28.1)\n",
            "Requirement already satisfied: orjson<4.0.0,>=3.9.14 in /usr/local/lib/python3.11/dist-packages (from langsmith>=0.1.125->langchain_community) (3.10.18)\n",
            "Requirement already satisfied: requests-toolbelt<2.0.0,>=1.0.0 in /usr/local/lib/python3.11/dist-packages (from langsmith>=0.1.125->langchain_community) (1.0.0)\n",
            "Requirement already satisfied: zstandard<0.24.0,>=0.23.0 in /usr/local/lib/python3.11/dist-packages (from langsmith>=0.1.125->langchain_community) (0.23.0)\n",
            "Requirement already satisfied: annotated-types>=0.6.0 in /usr/local/lib/python3.11/dist-packages (from pydantic<3,>=2->langchain-google-genai) (0.7.0)\n",
            "Requirement already satisfied: pydantic-core==2.33.2 in /usr/local/lib/python3.11/dist-packages (from pydantic<3,>=2->langchain-google-genai) (2.33.2)\n",
            "Requirement already satisfied: typing-inspection>=0.4.0 in /usr/local/lib/python3.11/dist-packages (from pydantic<3,>=2->langchain-google-genai) (0.4.1)\n",
            "Requirement already satisfied: python-dotenv>=0.21.0 in /usr/local/lib/python3.11/dist-packages (from pydantic-settings<3.0.0,>=2.4.0->langchain_community) (1.1.1)\n",
            "Requirement already satisfied: charset-normalizer<4,>=2 in /usr/local/lib/python3.11/dist-packages (from requests<3,>=2->langchain_community) (3.4.2)\n",
            "Requirement already satisfied: idna<4,>=2.5 in /usr/local/lib/python3.11/dist-packages (from requests<3,>=2->langchain_community) (3.10)\n",
            "Requirement already satisfied: urllib3<3,>=1.21.1 in /usr/local/lib/python3.11/dist-packages (from requests<3,>=2->langchain_community) (2.4.0)\n",
            "Requirement already satisfied: certifi>=2017.4.17 in /usr/local/lib/python3.11/dist-packages (from requests<3,>=2->langchain_community) (2025.6.15)\n",
            "Requirement already satisfied: greenlet>=1 in /usr/local/lib/python3.11/dist-packages (from SQLAlchemy<3,>=1.4->langchain_community) (3.2.3)\n",
            "Requirement already satisfied: googleapis-common-protos<2.0.0,>=1.56.2 in /usr/local/lib/python3.11/dist-packages (from google-api-core!=2.0.*,!=2.1.*,!=2.10.*,!=2.2.*,!=2.3.*,!=2.4.*,!=2.5.*,!=2.6.*,!=2.7.*,!=2.8.*,!=2.9.*,<3.0.0,>=1.34.1->google-api-core[grpc]!=2.0.*,!=2.1.*,!=2.10.*,!=2.2.*,!=2.3.*,!=2.4.*,!=2.5.*,!=2.6.*,!=2.7.*,!=2.8.*,!=2.9.*,<3.0.0,>=1.34.1->google-ai-generativelanguage<0.7.0,>=0.6.18->langchain-google-genai) (1.70.0)\n",
            "Requirement already satisfied: grpcio<2.0.0,>=1.33.2 in /usr/local/lib/python3.11/dist-packages (from google-api-core[grpc]!=2.0.*,!=2.1.*,!=2.10.*,!=2.2.*,!=2.3.*,!=2.4.*,!=2.5.*,!=2.6.*,!=2.7.*,!=2.8.*,!=2.9.*,<3.0.0,>=1.34.1->google-ai-generativelanguage<0.7.0,>=0.6.18->langchain-google-genai) (1.73.1)\n",
            "Requirement already satisfied: grpcio-status<2.0.0,>=1.33.2 in /usr/local/lib/python3.11/dist-packages (from google-api-core[grpc]!=2.0.*,!=2.1.*,!=2.10.*,!=2.2.*,!=2.3.*,!=2.4.*,!=2.5.*,!=2.6.*,!=2.7.*,!=2.8.*,!=2.9.*,<3.0.0,>=1.34.1->google-ai-generativelanguage<0.7.0,>=0.6.18->langchain-google-genai) (1.71.2)\n",
            "Requirement already satisfied: cachetools<6.0,>=2.0.0 in /usr/local/lib/python3.11/dist-packages (from google-auth!=2.24.0,!=2.25.0,<3.0.0,>=2.14.1->google-ai-generativelanguage<0.7.0,>=0.6.18->langchain-google-genai) (5.5.2)\n",
            "Requirement already satisfied: pyasn1-modules>=0.2.1 in /usr/local/lib/python3.11/dist-packages (from google-auth!=2.24.0,!=2.25.0,<3.0.0,>=2.14.1->google-ai-generativelanguage<0.7.0,>=0.6.18->langchain-google-genai) (0.4.2)\n",
            "Requirement already satisfied: rsa<5,>=3.1.4 in /usr/local/lib/python3.11/dist-packages (from google-auth!=2.24.0,!=2.25.0,<3.0.0,>=2.14.1->google-ai-generativelanguage<0.7.0,>=0.6.18->langchain-google-genai) (4.9.1)\n",
            "Requirement already satisfied: anyio in /usr/local/lib/python3.11/dist-packages (from httpx<1,>=0.23.0->langsmith>=0.1.125->langchain_community) (4.9.0)\n",
            "Requirement already satisfied: httpcore==1.* in /usr/local/lib/python3.11/dist-packages (from httpx<1,>=0.23.0->langsmith>=0.1.125->langchain_community) (1.0.9)\n",
            "Requirement already satisfied: h11>=0.16 in /usr/local/lib/python3.11/dist-packages (from httpcore==1.*->httpx<1,>=0.23.0->langsmith>=0.1.125->langchain_community) (0.16.0)\n",
            "Requirement already satisfied: jsonpointer>=1.9 in /usr/local/lib/python3.11/dist-packages (from jsonpatch<2.0,>=1.33->langchain-core<0.4.0,>=0.3.66->langchain-google-genai) (3.0.0)\n",
            "Requirement already satisfied: mypy-extensions>=0.3.0 in /usr/local/lib/python3.11/dist-packages (from typing-inspect<1,>=0.4.0->dataclasses-json<0.7,>=0.5.7->langchain_community) (1.1.0)\n",
            "Requirement already satisfied: pyasn1<0.7.0,>=0.6.1 in /usr/local/lib/python3.11/dist-packages (from pyasn1-modules>=0.2.1->google-auth!=2.24.0,!=2.25.0,<3.0.0,>=2.14.1->google-ai-generativelanguage<0.7.0,>=0.6.18->langchain-google-genai) (0.6.1)\n",
            "Requirement already satisfied: sniffio>=1.1 in /usr/local/lib/python3.11/dist-packages (from anyio->httpx<1,>=0.23.0->langsmith>=0.1.125->langchain_community) (1.3.1)\n",
            "Requirement already satisfied: faiss-cpu in /usr/local/lib/python3.11/dist-packages (1.11.0)\n",
            "Requirement already satisfied: wikipedia in /usr/local/lib/python3.11/dist-packages (1.4.0)\n",
            "Requirement already satisfied: arxiv in /usr/local/lib/python3.11/dist-packages (2.2.0)\n",
            "Requirement already satisfied: langchain-cohere in /usr/local/lib/python3.11/dist-packages (0.4.4)\n",
            "Requirement already satisfied: numpy<3.0,>=1.25.0 in /usr/local/lib/python3.11/dist-packages (from faiss-cpu) (2.0.2)\n",
            "Requirement already satisfied: packaging in /usr/local/lib/python3.11/dist-packages (from faiss-cpu) (24.2)\n",
            "Requirement already satisfied: beautifulsoup4 in /usr/local/lib/python3.11/dist-packages (from wikipedia) (4.13.4)\n",
            "Requirement already satisfied: requests<3.0.0,>=2.0.0 in /usr/local/lib/python3.11/dist-packages (from wikipedia) (2.32.3)\n",
            "Requirement already satisfied: feedparser~=6.0.10 in /usr/local/lib/python3.11/dist-packages (from arxiv) (6.0.11)\n",
            "Requirement already satisfied: cohere<6.0,>=5.12.0 in /usr/local/lib/python3.11/dist-packages (from langchain-cohere) (5.15.0)\n",
            "Requirement already satisfied: langchain-community<0.4.0,>=0.3.0 in /usr/local/lib/python3.11/dist-packages (from langchain-cohere) (0.3.27)\n",
            "Requirement already satisfied: langchain-core<0.4.0,>=0.3.27 in /usr/local/lib/python3.11/dist-packages (from langchain-cohere) (0.3.67)\n",
            "Requirement already satisfied: pydantic<3,>=2 in /usr/local/lib/python3.11/dist-packages (from langchain-cohere) (2.11.7)\n",
            "Requirement already satisfied: types-pyyaml<7.0.0.0,>=6.0.12.20240917 in /usr/local/lib/python3.11/dist-packages (from langchain-cohere) (6.0.12.20250516)\n",
            "Requirement already satisfied: fastavro<2.0.0,>=1.9.4 in /usr/local/lib/python3.11/dist-packages (from cohere<6.0,>=5.12.0->langchain-cohere) (1.11.1)\n",
            "Requirement already satisfied: httpx>=0.21.2 in /usr/local/lib/python3.11/dist-packages (from cohere<6.0,>=5.12.0->langchain-cohere) (0.28.1)\n",
            "Requirement already satisfied: httpx-sse==0.4.0 in /usr/local/lib/python3.11/dist-packages (from cohere<6.0,>=5.12.0->langchain-cohere) (0.4.0)\n",
            "Requirement already satisfied: pydantic-core<3.0.0,>=2.18.2 in /usr/local/lib/python3.11/dist-packages (from cohere<6.0,>=5.12.0->langchain-cohere) (2.33.2)\n",
            "Requirement already satisfied: tokenizers<1,>=0.15 in /usr/local/lib/python3.11/dist-packages (from cohere<6.0,>=5.12.0->langchain-cohere) (0.21.2)\n",
            "Requirement already satisfied: types-requests<3.0.0,>=2.0.0 in /usr/local/lib/python3.11/dist-packages (from cohere<6.0,>=5.12.0->langchain-cohere) (2.32.4.20250611)\n",
            "Requirement already satisfied: typing_extensions>=4.0.0 in /usr/local/lib/python3.11/dist-packages (from cohere<6.0,>=5.12.0->langchain-cohere) (4.14.0)\n",
            "Requirement already satisfied: sgmllib3k in /usr/local/lib/python3.11/dist-packages (from feedparser~=6.0.10->arxiv) (1.0.0)\n",
            "Requirement already satisfied: langchain<1.0.0,>=0.3.26 in /usr/local/lib/python3.11/dist-packages (from langchain-community<0.4.0,>=0.3.0->langchain-cohere) (0.3.26)\n",
            "Requirement already satisfied: SQLAlchemy<3,>=1.4 in /usr/local/lib/python3.11/dist-packages (from langchain-community<0.4.0,>=0.3.0->langchain-cohere) (2.0.41)\n",
            "Requirement already satisfied: PyYAML>=5.3 in /usr/local/lib/python3.11/dist-packages (from langchain-community<0.4.0,>=0.3.0->langchain-cohere) (6.0.2)\n",
            "Requirement already satisfied: aiohttp<4.0.0,>=3.8.3 in /usr/local/lib/python3.11/dist-packages (from langchain-community<0.4.0,>=0.3.0->langchain-cohere) (3.11.15)\n",
            "Requirement already satisfied: tenacity!=8.4.0,<10,>=8.1.0 in /usr/local/lib/python3.11/dist-packages (from langchain-community<0.4.0,>=0.3.0->langchain-cohere) (8.5.0)\n",
            "Requirement already satisfied: dataclasses-json<0.7,>=0.5.7 in /usr/local/lib/python3.11/dist-packages (from langchain-community<0.4.0,>=0.3.0->langchain-cohere) (0.6.7)\n",
            "Requirement already satisfied: pydantic-settings<3.0.0,>=2.4.0 in /usr/local/lib/python3.11/dist-packages (from langchain-community<0.4.0,>=0.3.0->langchain-cohere) (2.10.1)\n",
            "Requirement already satisfied: langsmith>=0.1.125 in /usr/local/lib/python3.11/dist-packages (from langchain-community<0.4.0,>=0.3.0->langchain-cohere) (0.4.4)\n",
            "Requirement already satisfied: jsonpatch<2.0,>=1.33 in /usr/local/lib/python3.11/dist-packages (from langchain-core<0.4.0,>=0.3.27->langchain-cohere) (1.33)\n",
            "Requirement already satisfied: annotated-types>=0.6.0 in /usr/local/lib/python3.11/dist-packages (from pydantic<3,>=2->langchain-cohere) (0.7.0)\n",
            "Requirement already satisfied: typing-inspection>=0.4.0 in /usr/local/lib/python3.11/dist-packages (from pydantic<3,>=2->langchain-cohere) (0.4.1)\n",
            "Requirement already satisfied: charset-normalizer<4,>=2 in /usr/local/lib/python3.11/dist-packages (from requests<3.0.0,>=2.0.0->wikipedia) (3.4.2)\n",
            "Requirement already satisfied: idna<4,>=2.5 in /usr/local/lib/python3.11/dist-packages (from requests<3.0.0,>=2.0.0->wikipedia) (3.10)\n",
            "Requirement already satisfied: urllib3<3,>=1.21.1 in /usr/local/lib/python3.11/dist-packages (from requests<3.0.0,>=2.0.0->wikipedia) (2.4.0)\n",
            "Requirement already satisfied: certifi>=2017.4.17 in /usr/local/lib/python3.11/dist-packages (from requests<3.0.0,>=2.0.0->wikipedia) (2025.6.15)\n",
            "Requirement already satisfied: soupsieve>1.2 in /usr/local/lib/python3.11/dist-packages (from beautifulsoup4->wikipedia) (2.7)\n",
            "Requirement already satisfied: aiohappyeyeballs>=2.3.0 in /usr/local/lib/python3.11/dist-packages (from aiohttp<4.0.0,>=3.8.3->langchain-community<0.4.0,>=0.3.0->langchain-cohere) (2.6.1)\n",
            "Requirement already satisfied: aiosignal>=1.1.2 in /usr/local/lib/python3.11/dist-packages (from aiohttp<4.0.0,>=3.8.3->langchain-community<0.4.0,>=0.3.0->langchain-cohere) (1.3.2)\n",
            "Requirement already satisfied: attrs>=17.3.0 in /usr/local/lib/python3.11/dist-packages (from aiohttp<4.0.0,>=3.8.3->langchain-community<0.4.0,>=0.3.0->langchain-cohere) (25.3.0)\n",
            "Requirement already satisfied: frozenlist>=1.1.1 in /usr/local/lib/python3.11/dist-packages (from aiohttp<4.0.0,>=3.8.3->langchain-community<0.4.0,>=0.3.0->langchain-cohere) (1.7.0)\n",
            "Requirement already satisfied: multidict<7.0,>=4.5 in /usr/local/lib/python3.11/dist-packages (from aiohttp<4.0.0,>=3.8.3->langchain-community<0.4.0,>=0.3.0->langchain-cohere) (6.6.3)\n",
            "Requirement already satisfied: propcache>=0.2.0 in /usr/local/lib/python3.11/dist-packages (from aiohttp<4.0.0,>=3.8.3->langchain-community<0.4.0,>=0.3.0->langchain-cohere) (0.3.2)\n",
            "Requirement already satisfied: yarl<2.0,>=1.17.0 in /usr/local/lib/python3.11/dist-packages (from aiohttp<4.0.0,>=3.8.3->langchain-community<0.4.0,>=0.3.0->langchain-cohere) (1.20.1)\n",
            "Requirement already satisfied: marshmallow<4.0.0,>=3.18.0 in /usr/local/lib/python3.11/dist-packages (from dataclasses-json<0.7,>=0.5.7->langchain-community<0.4.0,>=0.3.0->langchain-cohere) (3.26.1)\n",
            "Requirement already satisfied: typing-inspect<1,>=0.4.0 in /usr/local/lib/python3.11/dist-packages (from dataclasses-json<0.7,>=0.5.7->langchain-community<0.4.0,>=0.3.0->langchain-cohere) (0.9.0)\n",
            "Requirement already satisfied: anyio in /usr/local/lib/python3.11/dist-packages (from httpx>=0.21.2->cohere<6.0,>=5.12.0->langchain-cohere) (4.9.0)\n",
            "Requirement already satisfied: httpcore==1.* in /usr/local/lib/python3.11/dist-packages (from httpx>=0.21.2->cohere<6.0,>=5.12.0->langchain-cohere) (1.0.9)\n",
            "Requirement already satisfied: h11>=0.16 in /usr/local/lib/python3.11/dist-packages (from httpcore==1.*->httpx>=0.21.2->cohere<6.0,>=5.12.0->langchain-cohere) (0.16.0)\n",
            "Requirement already satisfied: jsonpointer>=1.9 in /usr/local/lib/python3.11/dist-packages (from jsonpatch<2.0,>=1.33->langchain-core<0.4.0,>=0.3.27->langchain-cohere) (3.0.0)\n",
            "Requirement already satisfied: langchain-text-splitters<1.0.0,>=0.3.8 in /usr/local/lib/python3.11/dist-packages (from langchain<1.0.0,>=0.3.26->langchain-community<0.4.0,>=0.3.0->langchain-cohere) (0.3.8)\n",
            "Requirement already satisfied: orjson<4.0.0,>=3.9.14 in /usr/local/lib/python3.11/dist-packages (from langsmith>=0.1.125->langchain-community<0.4.0,>=0.3.0->langchain-cohere) (3.10.18)\n",
            "Requirement already satisfied: requests-toolbelt<2.0.0,>=1.0.0 in /usr/local/lib/python3.11/dist-packages (from langsmith>=0.1.125->langchain-community<0.4.0,>=0.3.0->langchain-cohere) (1.0.0)\n",
            "Requirement already satisfied: zstandard<0.24.0,>=0.23.0 in /usr/local/lib/python3.11/dist-packages (from langsmith>=0.1.125->langchain-community<0.4.0,>=0.3.0->langchain-cohere) (0.23.0)\n",
            "Requirement already satisfied: python-dotenv>=0.21.0 in /usr/local/lib/python3.11/dist-packages (from pydantic-settings<3.0.0,>=2.4.0->langchain-community<0.4.0,>=0.3.0->langchain-cohere) (1.1.1)\n",
            "Requirement already satisfied: greenlet>=1 in /usr/local/lib/python3.11/dist-packages (from SQLAlchemy<3,>=1.4->langchain-community<0.4.0,>=0.3.0->langchain-cohere) (3.2.3)\n",
            "Requirement already satisfied: huggingface-hub<1.0,>=0.16.4 in /usr/local/lib/python3.11/dist-packages (from tokenizers<1,>=0.15->cohere<6.0,>=5.12.0->langchain-cohere) (0.33.1)\n",
            "Requirement already satisfied: filelock in /usr/local/lib/python3.11/dist-packages (from huggingface-hub<1.0,>=0.16.4->tokenizers<1,>=0.15->cohere<6.0,>=5.12.0->langchain-cohere) (3.18.0)\n",
            "Requirement already satisfied: fsspec>=2023.5.0 in /usr/local/lib/python3.11/dist-packages (from huggingface-hub<1.0,>=0.16.4->tokenizers<1,>=0.15->cohere<6.0,>=5.12.0->langchain-cohere) (2025.3.2)\n",
            "Requirement already satisfied: tqdm>=4.42.1 in /usr/local/lib/python3.11/dist-packages (from huggingface-hub<1.0,>=0.16.4->tokenizers<1,>=0.15->cohere<6.0,>=5.12.0->langchain-cohere) (4.67.1)\n",
            "Requirement already satisfied: hf-xet<2.0.0,>=1.1.2 in /usr/local/lib/python3.11/dist-packages (from huggingface-hub<1.0,>=0.16.4->tokenizers<1,>=0.15->cohere<6.0,>=5.12.0->langchain-cohere) (1.1.5)\n",
            "Requirement already satisfied: mypy-extensions>=0.3.0 in /usr/local/lib/python3.11/dist-packages (from typing-inspect<1,>=0.4.0->dataclasses-json<0.7,>=0.5.7->langchain-community<0.4.0,>=0.3.0->langchain-cohere) (1.1.0)\n",
            "Requirement already satisfied: sniffio>=1.1 in /usr/local/lib/python3.11/dist-packages (from anyio->httpx>=0.21.2->cohere<6.0,>=5.12.0->langchain-cohere) (1.3.1)\n"
          ]
        }
      ],
      "source": [
        "!pip install langchain-google-genai langchain_community tiktoken langchain\n",
        "!pip install faiss-cpu wikipedia arxiv langchain-cohere"
      ]
    },
    {
      "cell_type": "code",
      "execution_count": 2,
      "metadata": {
        "id": "E5J2datIhqo4"
      },
      "outputs": [],
      "source": [
        "import pandas as pd"
      ]
    },
    {
      "cell_type": "code",
      "execution_count": 3,
      "metadata": {
        "id": "rDQZEI-cgeIO",
        "colab": {
          "base_uri": "https://localhost:8080/"
        },
        "outputId": "64c7d92b-0bd6-4734-a758-408ead30266f"
      },
      "outputs": [
        {
          "output_type": "execute_result",
          "data": {
            "text/plain": [
              "['https://plantix.net/en/library/plant-diseases/100323/anthracnose/',\n",
              " 'https://plantix.net/en/library/plant-diseases/500008/yellow-vine-mite/',\n",
              " 'https://plantix.net/en/library/plant-diseases/100348/ring-spot-of-sugarcane/',\n",
              " 'https://plantix.net/en/library/plant-diseases/100213/lentil-rust/',\n",
              " 'https://plantix.net/en/library/plant-diseases/800049/physiological-leaf-spot/']"
            ]
          },
          "metadata": {},
          "execution_count": 3
        }
      ],
      "source": [
        "df = pd.read_excel('/content/urls.xlsx')\n",
        "urls = df['url'].values.tolist()\n",
        "urls[:5]\n",
        "# urls = ['https://plantix.net/en/library/plant-diseases/300037/aster-yellows-phytoplasma/',\n",
        "#         'https://plantix.net/en/library/plant-diseases/100323/anthracnose/',\n",
        "#         'https://plantix.net/en/library/plant-diseases/500008/yellow-vine-mite/',\n",
        "#         'https://plantix.net/en/library/plant-diseases/100348/ring-spot-of-sugarcane/',\n",
        "#         'https://plantix.net/en/library/plant-diseases/100213/lentil-rust/',\n",
        "#         'https://plantix.net/en/library/plant-diseases/800049/physiological-leaf-spot/']"
      ]
    },
    {
      "cell_type": "markdown",
      "source": [
        "# web scraper\n",
        "## 1st mathod: using AsyncHtmlLoader and BeautifulSoupTransformer\n",
        "\n",
        "Doing so does extract every page's information, but it also might extract the irrelevant information, such as header/footer of the webpage.\n",
        "This noise in the data makes the search process difficult.\n"
      ],
      "metadata": {
        "id": "bbc9Cs0HvTk4"
      }
    },
    {
      "cell_type": "code",
      "source": [
        "from langchain_community.document_transformers import BeautifulSoupTransformer\n",
        "from langchain.document_loaders import AsyncHtmlLoader"
      ],
      "metadata": {
        "colab": {
          "base_uri": "https://localhost:8080/"
        },
        "id": "ytXGb81dwHeP",
        "outputId": "e10e325c-f764-4005-c9e6-f7f0f7350117"
      },
      "execution_count": 4,
      "outputs": [
        {
          "output_type": "stream",
          "name": "stderr",
          "text": [
            "WARNING:langchain_community.utils.user_agent:USER_AGENT environment variable not set, consider setting it to identify your requests.\n"
          ]
        }
      ]
    },
    {
      "cell_type": "code",
      "execution_count": 5,
      "metadata": {
        "id": "YcRUTIz0hk0W",
        "colab": {
          "base_uri": "https://localhost:8080/"
        },
        "outputId": "af14ff42-901a-424f-c2e3-8f1f5b554ce3"
      },
      "outputs": [
        {
          "output_type": "stream",
          "name": "stderr",
          "text": [
            "Fetching pages: 100%|##########| 5/5 [00:02<00:00,  2.36it/s]\n"
          ]
        }
      ],
      "source": [
        "loader = AsyncHtmlLoader(urls[:5])\n",
        "docs = loader.load()\n",
        "tags = [\"p\", \"li\", 'div']\n",
        "html = docs[0].page_content\n",
        "bs_transformer = BeautifulSoupTransformer()\n",
        "docs_transformed = bs_transformer.transform_documents(\n",
        "    docs, tags_to_extract=tags\n",
        ")"
      ]
    },
    {
      "cell_type": "code",
      "source": [
        "docs[0]"
      ],
      "metadata": {
        "colab": {
          "base_uri": "https://localhost:8080/"
        },
        "collapsed": true,
        "id": "h3JdjS8GRzJz",
        "outputId": "a5d6f39d-6ebd-4f26-be36-49965aa2aad2"
      },
      "execution_count": 6,
      "outputs": [
        {
          "output_type": "execute_result",
          "data": {
            "text/plain": [
              "Document(metadata={'source': 'https://plantix.net/en/library/plant-diseases/100323/anthracnose/', 'title': 'Anthracnose | Pests & Diseases', 'description': 'Water-soaked lesions on leaves, stems, pods or fruits. Oval lesions surrounded by vividly colored margin. The lower stem dark-brown and rough. Defoliation, lodging of plants or top die back of branches in severe cases. Crops Banana, Other, Mango, ...', 'language': 'en'}, page_content='App     Library     News     Company     B2B Solutions           Get the app      Anthracnose  Library   Pests & Diseases      Anthracnose  Guava      Anthracnose Colletotrichum spp. Fungus Heal your crop Take a picture See diagnosis Get medicine Get Plantix app In a Nutshell Water-soaked lesions on leaves, stems, pods or fruits. Oval lesions surrounded by vividly colored margin. The lower stem dark-brown and rough. Defoliation, lodging of plants or top die back of branches in severe cases.  Can also be found in  24 Crops  Almond   Apple     Apricot   Banana     More   Guava    Symptoms Type of crop, variety and environmental conditions will influence the severity of symptoms. Gray to tan-coloured lesions appear on leaves, stems, pods or fruits. These spots can be circular, oval or irregular in shape and with dark brown, reddish or purplish margins. Under favorable weather conditions, they become more numerous, enlarge and coalesce, turning dark brown or black in the process. Their center gradually becomes grayish and, in the later phases of the infection, it may show tiny dispersed black flecks. A reddish discoloration of the midrib of leaves is also common in some crops. In severe cases, the leaves wilt, dry and fall off, causing premature defoliation of the plant. On stems, lesions are elongated, sunken and brownish, also with darker margins. As they enlarge, the lesions may encircle the base of the stem, causing the plant to wilt and lodge. Top dieback of stems or branches is also common.  Recommendations Organic Control The spreading of the disease can be prevented by plunging seeds in a warm water bath before sowing (temperature and time depend on the crop). Neem oil can be sprayed. Biological agents might also help to control the infection. Products based on the fungus Trichoderma harzianum and the bacteria Pseudomonas fluorescens, Bacillus subtilis or B. myloliquefaciens can also be used as part of a seed treatment. Organically approved copper formulations can be sprayed against this disease in a variety of crops once the symptoms have been detected.  Chemical Control   Always consider an integrated approach with preventive measures together with biological treatments if available. Spray early in the day, and avoid applications during hot weather. Also, treat seeds prior to planting.  Seed dressing can be used to kill the fungi before sowing. Fungicides containing azoxystrobin, boscalid, chlorothalonil, maneb or prothioconazole can be sprayed preventively to lower the risk of infection (please check the specific formulation and recommendations for your crop). Some cases of resistance to some of these products have been described. In some crops, no effective treatments is available. Finally, post-harvest treatments together with a food-grade wax can be applied to reduce the incidence on fruits bound to be shipped overseas.    What caused it? The symptoms are caused by several species of fungi of the genus Colletotrichum spp. They survive in the soil, associated to seeds, or on plant debris and alternative hosts for up to four years. There are two ways by which the infection is carried over to new plants. Primary infections happen when soil- or seed-borne spores infect seedling during emergence, growing systemically in the tissues. On other cases, the spores are splashed onto the lower leaves by rain drops and start an infection that spread upward. Secondary infections start when the spores produced within the leaf or fruit lesions are dispersed by rain splashes, dew, sucking insects or field workers to upper plant parts or to other plants. Cool to warm temperatures (optimal 20 to 30 °C), soils with high pH, prolonged leaf wetness, frequent rainfalls and dense canopies favor the disease. A balanced fertilization makes crops less prone to anthracnose.  Preventive Measures Cultivate plants in well drained soils. Enrich the soil with compost to help plant resist diseases. If possible, select sites with low rainfalls. Provide the fields with good drainage. Use seeds from healthy plants or from certified sources. Choose a more resistant variety, if available in your area. Plant resistant plants or buy healthy transplants. Keep a wider space between plants at sowing. Monitor fields or orchards for signs of the disease. Remove volunteer plants and weeds in and around the field. Stake tall plants, such as tomatoes to improve improve air circulation around the leaves and stems. Plant trap crops or trees around the fields. Practice good sanitation of the field or orchard by removing plant debris for example. Avoid the movement of machinery or workers in the fields when the foliage is wet. Clean your tools and equipment carefully. To avoid spreading the disease, keep out of gardens when plants are wet and make sure to disinfect all garden tools after use.(One part bleach to 4 parts water). If irrigation is necessary, plan it during the early morning and make sure the foliage is dry before nightfall. Water plants with a drip sprinkler as opposed to an overhead sprinkler. Do not touch the plants when they are wet. Harvest early to avoid the worst symptoms. Store fruits in a well-ventilated environment. Leave plant debris on the ground instead as the fungus decomposes quicker there. Alternatively, bury plant residues very deep in the soil to favor decomposition. Plan a long-term crop rotation with non-host crops (3-4 years or more).   Share Download Plantix    For farmers Plantix app (https://plantix.net/en/) Find products (https://market.plantix.net/en/)  For businesses Plantix Vision API (https://plantix.net/en/b2b-solutions/) Contact us (https://contact.plantix.net/request-a-demo)  Company Job offers (https://plantix.recruitee.com/) Press and media (https://plantix.net/en/press-media/)    © 2025 Plantix Imprint (/en/imprint/)    Privacy notice (/en/imprint/privacy-policy/)    Terms of use (/en/imprint/terms-and-conditions/)    Manage cookies     Sitemap (/en/sitemap/)     En')"
            ]
          },
          "metadata": {},
          "execution_count": 6
        }
      ]
    },
    {
      "cell_type": "markdown",
      "source": [
        "## 2nd mathod: using requests.get and BeautifulSoup library with a custom CSS Selector\n",
        "\n",
        "A custom CCS selector was generated using the SelectorGadget in extension in Chrome to extract only the informative sections.\n",
        "\n",
        "By using a custom selector we had to use an explicit for loop, but it greatly enhances the search result."
      ],
      "metadata": {
        "id": "SgQOcHlXwSwt"
      }
    },
    {
      "cell_type": "code",
      "source": [
        "!pip install beautifulsoup4 requests"
      ],
      "metadata": {
        "colab": {
          "base_uri": "https://localhost:8080/"
        },
        "id": "OUurP3rYg5cd",
        "outputId": "bb2c3b45-50cb-4b5c-8a17-68d64088e08e"
      },
      "execution_count": 7,
      "outputs": [
        {
          "output_type": "stream",
          "name": "stdout",
          "text": [
            "Requirement already satisfied: beautifulsoup4 in /usr/local/lib/python3.11/dist-packages (4.13.4)\n",
            "Requirement already satisfied: requests in /usr/local/lib/python3.11/dist-packages (2.32.3)\n",
            "Requirement already satisfied: soupsieve>1.2 in /usr/local/lib/python3.11/dist-packages (from beautifulsoup4) (2.7)\n",
            "Requirement already satisfied: typing-extensions>=4.0.0 in /usr/local/lib/python3.11/dist-packages (from beautifulsoup4) (4.14.0)\n",
            "Requirement already satisfied: charset-normalizer<4,>=2 in /usr/local/lib/python3.11/dist-packages (from requests) (3.4.2)\n",
            "Requirement already satisfied: idna<4,>=2.5 in /usr/local/lib/python3.11/dist-packages (from requests) (3.10)\n",
            "Requirement already satisfied: urllib3<3,>=1.21.1 in /usr/local/lib/python3.11/dist-packages (from requests) (2.4.0)\n",
            "Requirement already satisfied: certifi>=2017.4.17 in /usr/local/lib/python3.11/dist-packages (from requests) (2025.6.15)\n"
          ]
        }
      ]
    },
    {
      "cell_type": "code",
      "source": [
        "import requests\n",
        "from bs4 import BeautifulSoup\n",
        "from langchain_core.documents import Document"
      ],
      "metadata": {
        "id": "4PoBGxagSSkF"
      },
      "execution_count": 8,
      "outputs": []
    },
    {
      "cell_type": "code",
      "source": [
        "selector = \".trigger-card p, .trigger-card h2, .host-heading, .crop-info, .preventive-measures-list li, .product-recommendations-header, .product-recommendations, .symptoms p, .symptoms h2, #overview li, .in-a-nutshell-header, .class_text, .scientific-name, .zoo-cookie-consent-popup, .disease-name\"\n",
        "\n",
        "docs_transformed = []\n",
        "\n",
        "# estimated time of run: 5min. Use the 6 test urls if you need to see quick results.\n",
        "for url in urls:\n",
        "    response = requests.get(url, timeout=10)\n",
        "    # response.raise_for_status()\n",
        "\n",
        "    soup = BeautifulSoup(response.text, \"html.parser\")\n",
        "    selected_elements = soup.select(selector)\n",
        "    selected_texts = [el.get_text(strip=True) for el in selected_elements]\n",
        "    transformed_content = \"\\n\".join(selected_texts)\n",
        "    docs_transformed.append(Document(page_content=transformed_content, metadata={\"source\": url}))"
      ],
      "metadata": {
        "id": "190DtKOlSX1h"
      },
      "execution_count": 9,
      "outputs": []
    },
    {
      "cell_type": "code",
      "source": [
        "docs_transformed[0]"
      ],
      "metadata": {
        "colab": {
          "base_uri": "https://localhost:8080/"
        },
        "id": "xBgryw2AUOFE",
        "outputId": "3389fb01-4a1f-40b8-cf41-b0ee5db8136f"
      },
      "execution_count": 10,
      "outputs": [
        {
          "data": {
            "text/plain": [
              "Document(metadata={'source': 'https://plantix.net/en/library/plant-diseases/100323/anthracnose/'}, page_content='Anthracnose\\nColletotrichum spp.\\nFungus\\nIn a Nutshell\\nWater-soaked lesions on leaves, stems, pods or fruits.\\nOval lesions surrounded by vividly colored margin.\\nThe lower stem dark-brown and rough.\\nDefoliation, lodging of plants or top die back of branches in severe cases.\\nCan also be found in\\nAlmond\\nApple\\nApricot\\nBanana\\nMore\\nSymptoms\\nType of crop, variety and environmental conditions will influence the severity of symptoms. Gray to tan-coloured lesions appear on leaves, stems, pods or fruits. These spots can be circular, oval or irregular in shape and with dark brown, reddish or purplish margins. Under favorable weather conditions, they become more numerous, enlarge and coalesce, turning dark brown or black in the process. Their center gradually becomes grayish and, in the later phases of the infection, it may show tiny dispersed black flecks. A reddish discoloration of the midrib of leaves is also common in some crops. In severe cases, the leaves wilt, dry and fall off, causing premature defoliation of the plant. On stems, lesions are elongated, sunken and brownish, also with darker margins. As they enlarge, the lesions may encircle the base of the stem, causing the plant to wilt and lodge. Top dieback of stems or branches is also common.\\nRecommendations\\nOrganic ControlThe spreading of the disease can be prevented by plunging seeds in a warm water bath before sowing (temperature and time depend on the crop). Neem oil can be sprayed. Biological agents might also help to control the infection. Products based on the fungus Trichoderma harzianum and the bacteria Pseudomonas fluorescens, Bacillus subtilis or B. myloliquefaciens can also be used as part of a seed treatment. Organically approved copper formulations can be sprayed against this disease in a variety of crops once the symptoms have been detected.Chemical ControlAlways consider an integrated approach with preventive measures together with biological treatments if available. Spray early in the day, and avoid applications during hot weather. Also, treat seeds prior to planting.  Seed dressing can be used to kill the fungi before sowing. Fungicides containing azoxystrobin, boscalid, chlorothalonil, maneb or prothioconazole can be sprayed preventively to lower the risk of infection (please check the specific formulation and recommendations for your crop). Some cases of resistance to some of these products have been described. In some crops, no effective treatments is available. Finally, post-harvest treatments together with a food-grade wax can be applied to reduce the incidence on fruits bound to be shipped overseas.\\nWhat caused it?\\nThe symptoms are caused by several species of fungi of the genus Colletotrichum spp. They survive in the soil, associated to seeds, or on plant debris and alternative hosts for up to four years. There are two ways by which the infection is carried over to new plants. Primary infections happen when soil- or seed-borne spores infect seedling during emergence, growing systemically in the tissues. On other cases, the spores are splashed onto the lower leaves by rain drops and start an infection that spread upward. Secondary infections start when the spores produced within the leaf or fruit lesions are dispersed by rain splashes, dew, sucking insects or field workers to upper plant parts or to other plants. Cool to warm temperatures (optimal 20 to 30 Â°C), soils with high pH, prolonged leaf wetness, frequent rainfalls and dense canopies favor the disease. A balanced fertilization makes crops less prone to anthracnose.\\nCultivate plants in well drained soils.\\nEnrich the soil with compost to help plant resist diseases.\\nIf possible, select sites with low rainfalls.\\nProvide the fields with good drainage.\\nUse seeds from healthy plants or from certified sources.\\nChoose a more resistant variety, if available in your area.\\nPlant resistant plants or buy healthy transplants.\\nKeep a wider space between plants at sowing.\\nMonitor fields or orchards for signs of the disease.\\nRemove volunteer plants and weeds in and around the field.\\nStake tall plants, such as tomatoes to improve improve air circulation around the leaves and stems.\\nPlant trap crops or trees around the fields.\\nPractice good sanitation of the field or orchard by removing plant debris for example.\\nAvoid the movement of machinery or workers in the fields when the foliage is wet.\\nClean your tools and equipment carefully.\\nTo avoid spreading the disease, keep out of gardens when plants are wet and make sure to disinfect all garden tools after use.(One part bleach to 4 parts water).\\nIf irrigation is necessary, plan it during the early morning and make sure the foliage is dry before nightfall.\\nWater plants with a drip sprinkler as opposed to an overhead sprinkler.\\nDo not touch the plants when they are wet.\\nHarvest early to avoid the worst symptoms.\\nStore fruits in a well-ventilated environment.\\nLeave plant debris on the ground instead as the fungus decomposes quicker there.\\nAlternatively, bury plant residues very deep in the soil to favor decomposition.\\nPlan a long-term crop rotation with non-host crops (3-4 years or more).')"
            ]
          },
          "execution_count": 10,
          "metadata": {},
          "output_type": "execute_result"
        }
      ]
    },
    {
      "cell_type": "code",
      "execution_count": 11,
      "metadata": {
        "id": "ZIBOmogqh0oY"
      },
      "outputs": [],
      "source": [
        "from langchain.text_splitter import RecursiveCharacterTextSplitter\n",
        "text_splitter = RecursiveCharacterTextSplitter(chunk_size=800, chunk_overlap=20)\n",
        "\n",
        "text_chunks = text_splitter.split_documents(docs_transformed)"
      ]
    },
    {
      "cell_type": "code",
      "execution_count": 13,
      "metadata": {
        "id": "MNioOFZeiVlI"
      },
      "outputs": [],
      "source": [
        "import os\n",
        "from google.colab import userdata\n",
        "os.environ['GOOGLE_API_KEY'] = userdata.get(\"GOOGLE_API_KEY\")\n",
        "os.environ['COHERE_API_KEY'] = userdata.get(\"CO_API_KEY\")"
      ]
    },
    {
      "cell_type": "code",
      "execution_count": 14,
      "metadata": {
        "id": "LIhTYQv-h4-3"
      },
      "outputs": [],
      "source": [
        "from langchain_google_genai import GoogleGenerativeAIEmbeddings\n",
        "embedding = GoogleGenerativeAIEmbeddings(model=\"models/embedding-001\")"
      ]
    },
    {
      "cell_type": "code",
      "execution_count": 15,
      "metadata": {
        "id": "RhmXXi4liAWv"
      },
      "outputs": [],
      "source": [
        "from langchain.vectorstores import FAISS\n",
        "vs = FAISS.from_documents(text_chunks, embedding)"
      ]
    },
    {
      "cell_type": "code",
      "execution_count": 16,
      "metadata": {
        "id": "CnT3gVMoiCRA"
      },
      "outputs": [],
      "source": [
        "vs.save_local('/content/drive/MyDrive/plantix/plantix_faiss')"
      ]
    },
    {
      "cell_type": "code",
      "execution_count": 17,
      "metadata": {
        "id": "58vNMtfIine7",
        "colab": {
          "base_uri": "https://localhost:8080/"
        },
        "outputId": "a32b2646-c3fa-460b-987c-bbd82539c93a"
      },
      "outputs": [
        {
          "output_type": "execute_result",
          "data": {
            "text/plain": [
              "[(Document(id='6edd0688-2bc8-47fd-95e7-85e4f0b68058', metadata={'source': 'https://plantix.net/en/library/plant-diseases/200026/citrus-leprosis/'}, page_content='the citrus leprosis virus.'),\n",
              "  np.float32(0.8006729)),\n",
              " (Document(id='70eb5203-e3ab-480e-aa9b-0942b9ba4227', metadata={'source': 'https://plantix.net/en/library/plant-diseases/300037/aster-yellows-phytoplasma/'}, page_content='Aster Yellows Phytoplasma\\nPhytoplasma asteris\\nBacteria\\nIn a Nutshell\\nClearing of the leaf veins that extends to the rest of the leaf blade.\\nDeformation and greening of flowers, development of leaf-like flower petals and formation of sterile flowers.\\nOverall, plants have a reduced root system and a stunted appearance.\\nCan also be found in\\nBitter Gourd\\nCabbage\\nCarrot\\nLettuce\\nMore\\nSymptoms'),\n",
              "  np.float32(0.79328173)),\n",
              " (Document(id='871e854e-4453-44bc-8c42-5630d56d7e71', metadata={'source': 'https://plantix.net/en/library/plant-diseases/100144/anthracnose-of-almond/'}, page_content='bloom as a way to avoid the development of resistance in the fungus'),\n",
              "  np.float32(0.78890926))]"
            ]
          },
          "metadata": {},
          "execution_count": 17
        }
      ],
      "source": [
        "vs = FAISS.load_local('/content/drive/MyDrive/plantix/plantix_faiss', embedding, allow_dangerous_deserialization=True)\n",
        "vs.similarity_search_with_relevance_scores('aster yellows phytoplasma', k=3)"
      ]
    },
    {
      "cell_type": "code",
      "execution_count": 18,
      "metadata": {
        "id": "Y9gwrbUZiott"
      },
      "outputs": [],
      "source": [
        "from langchain_google_genai import ChatGoogleGenerativeAI\n",
        "from langchain.tools.retriever import create_retriever_tool\n",
        "from langchain.agents import AgentExecutor, create_react_agent\n",
        "from langchain.prompts import ChatPromptTemplate, MessagesPlaceholder\n",
        "from langchain_community.vectorstores import Chroma\n",
        "from langchain_google_genai import GoogleGenerativeAIEmbeddings\n",
        "from langchain.docstore.document import Document\n",
        "from langchain_core.messages import AIMessage, HumanMessage, SystemMessage # Import if needed, good for clarity\n"
      ]
    },
    {
      "cell_type": "code",
      "execution_count": 19,
      "metadata": {
        "id": "UAuDipkAiuQ7"
      },
      "outputs": [],
      "source": [
        "llm = ChatGoogleGenerativeAI(model=\"gemini-2.0-flash\", temperature=0)\n"
      ]
    },
    {
      "cell_type": "code",
      "execution_count": 20,
      "metadata": {
        "id": "fvmKVZfmi0j4"
      },
      "outputs": [],
      "source": [
        "retriever_tool = create_retriever_tool(\n",
        "    vs.as_retriever(), \"plantix\", \"Search for plant diseases and related information. Useful for when you need to answer questions about gardening, plants, and plant deseases.\"\n",
        ")\n",
        "\n",
        "tools = [retriever_tool]"
      ]
    },
    {
      "cell_type": "code",
      "execution_count": 21,
      "metadata": {
        "id": "dKA77eJtm5Ib",
        "colab": {
          "base_uri": "https://localhost:8080/"
        },
        "outputId": "b39a77c1-9d0c-45c0-b102-d1ab0bc984b2"
      },
      "outputs": [
        {
          "output_type": "stream",
          "name": "stdout",
          "text": [
            "tool 's name:  plantix\n",
            "tool 's description Search for plant diseases and related information. Useful for when you need to answer questions about gardening, plants, and plant deseases. \n",
            "\n"
          ]
        }
      ],
      "source": [
        "for tool in tools:\n",
        "  print(\"tool 's name: \",tool.name,)\n",
        "  print(\"tool 's description\", tool.description,'\\n')"
      ]
    },
    {
      "cell_type": "code",
      "execution_count": 22,
      "metadata": {
        "id": "lT43jOtIm-aT",
        "colab": {
          "base_uri": "https://localhost:8080/"
        },
        "outputId": "03180672-0362-4d13-cd7e-c08a17bdc7df"
      },
      "outputs": [
        {
          "output_type": "stream",
          "name": "stdout",
          "text": [
            "Answer the following questions as best you can. You have access to the following tools:\n",
            "\n",
            "{tools}\n",
            "\n",
            "Use the following format:\n",
            "\n",
            "Question: the input question you must answer\n",
            "Thought: you should always think about what to do\n",
            "Action: the action to take, should be one of [{tool_names}]\n",
            "Action Input: the input to the action\n",
            "Observation: the result of the action\n",
            "... (this Thought/Action/Action Input/Observation can repeat N times)\n",
            "Thought: I now know the final answer\n",
            "Final Answer: the final answer to the original input question\n",
            "\n",
            "Begin!\n",
            "\n",
            "Question: {input}\n",
            "Thought:{agent_scratchpad}\n"
          ]
        },
        {
          "output_type": "stream",
          "name": "stderr",
          "text": [
            "/usr/local/lib/python3.11/dist-packages/langsmith/client.py:272: LangSmithMissingAPIKeyWarning: API key must be provided when using hosted LangSmith API\n",
            "  warnings.warn(\n"
          ]
        }
      ],
      "source": [
        "from langchain.agents import AgentExecutor, create_react_agent\n",
        "from langchain import hub\n",
        "prompt = hub.pull(\"hwchase17/react\")\n",
        "print(prompt.template)\n"
      ]
    },
    {
      "cell_type": "code",
      "execution_count": 23,
      "metadata": {
        "id": "fN9YpynQnBSv"
      },
      "outputs": [],
      "source": [
        "agent = create_react_agent(llm, tools, prompt)\n",
        "agent_executor = AgentExecutor(agent=agent, tools=tools, verbose=True, max_iterations=20)"
      ]
    },
    {
      "cell_type": "code",
      "execution_count": 24,
      "metadata": {
        "id": "tU9uWvn5nhf8"
      },
      "outputs": [],
      "source": [
        "j = 1\n",
        "queries = [\n",
        "    \"What is the primary cause of aster yellows-phytoplasma in plants?\",\n",
        "    'Which plants are commonly affected by aster yellows phytoplasma?',\n",
        "    'How does aster yellows-phytoplasma spread from plant to plant?',\n",
        "    'Are there any specific symptoms or signs that indicate the presence of aster yellows-phytoplasma in plants?',\n",
        "         ' What are the potential economic impacts of aster yellows-phytoplasma on crop yields?',\n",
        "           'what are the recommended control measures for managing aster yellows-phytoplasma in affected crops?'\n",
        "]\n",
        "query  = queries[j]"
      ]
    },
    {
      "cell_type": "code",
      "execution_count": 25,
      "metadata": {
        "id": "o7shILASniFE",
        "colab": {
          "base_uri": "https://localhost:8080/"
        },
        "outputId": "ccab622e-145a-4fc1-b4f4-35c9b396e564"
      },
      "outputs": [
        {
          "output_type": "stream",
          "name": "stdout",
          "text": [
            "\n",
            "\n",
            "\u001b[1m> Entering new AgentExecutor chain...\u001b[0m\n",
            "\u001b[32;1m\u001b[1;3mI need to find out which plants are commonly affected by aster yellows phytoplasma. I can use the plantix tool to search for this information.\n",
            "Action: plantix\n",
            "Action Input: \"plants affected by aster yellows phytoplasma\"\u001b[0m\u001b[36;1m\u001b[1;3mRemove and burn infected plants residues.\n",
            "\n",
            "(discoloration). Overall, plants wilt and in severe cases, damping off can be observed.\n",
            "\n",
            "the citrus leprosis virus.\n",
            "\n",
            "spreads further, large yellow patches of dying plants can be observed from the distance in the field.\u001b[0m\u001b[32;1m\u001b[1;3mThe information returned by the plantix tool is not specific enough to answer the question. I need to refine my search to get a list of plants affected by aster yellows phytoplasma.\n",
            "Action: plantix\n",
            "Action Input: \"aster yellows phytoplasma host plants\"\u001b[0m\u001b[36;1m\u001b[1;3mthe citrus leprosis virus.\n",
            "\n",
            "of alternative hosts in the cereal family.\n",
            "\n",
            "Aster Yellows Phytoplasma\n",
            "Phytoplasma asteris\n",
            "Bacteria\n",
            "In a Nutshell\n",
            "Clearing of the leaf veins that extends to the rest of the leaf blade.\n",
            "Deformation and greening of flowers, development of leaf-like flower petals and formation of sterile flowers.\n",
            "Overall, plants have a reduced root system and a stunted appearance.\n",
            "Can also be found in\n",
            "Bitter Gourd\n",
            "Cabbage\n",
            "Carrot\n",
            "Lettuce\n",
            "More\n",
            "Symptoms\n",
            "\n",
            "bloom as a way to avoid the development of resistance in the fungus\u001b[0m\u001b[32;1m\u001b[1;3mI have found a list of plants that can be affected by aster yellows phytoplasma: Bitter Gourd, Cabbage, Carrot, and Lettuce.\n",
            "Final Answer: Bitter Gourd, Cabbage, Carrot, and Lettuce are some plants that can be affected by aster yellows phytoplasma.\n",
            "\u001b[0m\n",
            "\n",
            "\u001b[1m> Finished chain.\u001b[0m\n"
          ]
        },
        {
          "output_type": "execute_result",
          "data": {
            "text/plain": [
              "{'input': 'Which plants are commonly affected by aster yellows phytoplasma?',\n",
              " 'output': 'Bitter Gourd, Cabbage, Carrot, and Lettuce are some plants that can be affected by aster yellows phytoplasma.'}"
            ]
          },
          "metadata": {},
          "execution_count": 25
        }
      ],
      "source": [
        "agent_executor.invoke({\"input\": query})"
      ]
    }
  ],
  "metadata": {
    "colab": {
      "provenance": []
    },
    "kernelspec": {
      "display_name": "Python 3",
      "name": "python3"
    },
    "language_info": {
      "name": "python"
    }
  },
  "nbformat": 4,
  "nbformat_minor": 0
}