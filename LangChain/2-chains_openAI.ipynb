{
 "cells": [
  {
   "cell_type": "markdown",
   "metadata": {
    "id": "i46NG74TKx8o"
   },
   "source": [
    "Chains allow us to combine multiple components together to create a single, coherent application\n"
   ]
  },
  {
   "cell_type": "code",
   "metadata": {
    "id": "lp-jHfgrPbzu",
    "colab": {
     "base_uri": "https://localhost:8080/"
    },
    "outputId": "f5683c28-0357-4742-fd01-43cbdc4b61e5",
    "ExecuteTime": {
     "end_time": "2025-06-30T07:27:01.236883Z",
     "start_time": "2025-06-30T07:27:01.218962Z"
    }
   },
   "source": "# !pip install -q  langchain-openai==0.1.8 langchain_community==0.2.4 tiktoken==0.7.0 langchain==0.2.3",
   "outputs": [],
   "execution_count": 1
  },
  {
   "cell_type": "code",
   "execution_count": 2,
   "metadata": {
    "id": "deXkfUwPNVxT"
   },
   "outputs": [],
   "source": [
    "from google.colab import userdata\n",
    "openai_api_key = userdata.get('openai_api_key')"
   ]
  },
  {
   "cell_type": "code",
   "execution_count": 3,
   "metadata": {
    "id": "CuelJK2qKy-h",
    "colab": {
     "base_uri": "https://localhost:8080/"
    },
    "outputId": "dbdb3a79-f41f-467b-a3b6-e8610cbd4b0f"
   },
   "outputs": [
    {
     "output_type": "stream",
     "name": "stderr",
     "text": [
      "/usr/local/lib/python3.10/dist-packages/langchain_core/_api/deprecation.py:119: LangChainDeprecationWarning: The class `LLMChain` was deprecated in LangChain 0.1.17 and will be removed in 0.3.0. Use RunnableSequence, e.g., `prompt | llm` instead.\n",
      "  warn_deprecated(\n"
     ]
    }
   ],
   "source": [
    "from langchain.chains import LLMChain\n",
    "# from langchain.llms import OpenAI\n",
    "# from langchain.chat_models import ChatOpenAI\n",
    "from langchain_openai import ChatOpenAI\n",
    "\n",
    "from langchain.prompts import PromptTemplate\n",
    "prompt = PromptTemplate.from_template(\"What is the best name for a company that makes {product}?\")\n",
    "llm = ChatOpenAI(openai_api_key=openai_api_key,model='gpt-4-1106-preview' ,temperature=0)\n",
    "chain = LLMChain(llm=llm, prompt=prompt)"
   ]
  },
  {
   "cell_type": "code",
   "source": [
    "llm.invoke(prompt.format(product=\"colorful socks\"))"
   ],
   "metadata": {
    "colab": {
     "base_uri": "https://localhost:8080/"
    },
    "id": "pKjmyh_ygD1V",
    "outputId": "d6b1bc33-c37d-419c-add6-13d96f3457a0"
   },
   "execution_count": 4,
   "outputs": [
    {
     "output_type": "execute_result",
     "data": {
      "text/plain": [
       "AIMessage(content=\"Choosing the best name for a company is subjective and depends on various factors such as the brand's personality, target audience, and the message you want to convey. However, for a company that makes colorful socks, you might want a name that is fun, memorable, and reflects the vibrant nature of your products. Here are a few suggestions:\\n\\n1. SpectrumSocks\\n2. VividFeet\\n3. ColorCrew Socks\\n4. RainbowToes\\n5. BrightSteps\\n6. PizzazzSocks\\n7. HueHugger Socks\\n8. SockPalette\\n9. KaleidoSox\\n10. PrismPeds\\n\\nRemember to check for trademark availability and domain name availability before finalizing your company name to ensure it's unique and legally protectable.\", response_metadata={'token_usage': {'completion_tokens': 162, 'prompt_tokens': 20, 'total_tokens': 182}, 'model_name': 'gpt-4-1106-preview', 'system_fingerprint': None, 'finish_reason': 'stop', 'logprobs': None}, id='run-e0531142-e7db-417a-a148-6261d0b64074-0', usage_metadata={'input_tokens': 20, 'output_tokens': 162, 'total_tokens': 182})"
      ]
     },
     "metadata": {},
     "execution_count": 4
    }
   ]
  },
  {
   "cell_type": "code",
   "execution_count": 5,
   "metadata": {
    "id": "Gze7YvJHPvKF",
    "colab": {
     "base_uri": "https://localhost:8080/"
    },
    "outputId": "7b52f3b3-87b6-4a1b-8de6-88c4d862b6d0"
   },
   "outputs": [
    {
     "output_type": "execute_result",
     "data": {
      "text/plain": [
       "{'product': 'colorful socks',\n",
       " 'text': \"Choosing the best name for a company is subjective and depends on various factors, including the brand's personality, target audience, and the message you want to convey. Here are some creative suggestions for a company that makes colorful socks:\\n\\n1. SpectrumSocks\\n2. VividFeet\\n3. RainbowToes\\n4. ColorPopSocks\\n5. HueCrew\\n6. BrightSteps\\n7. PizzazzSocks\\n8. SockPalette\\n9. KaleidoSox\\n10. PrismPeds\\n11. FunkyFootworks\\n12. DazzleSoles\\n13. SockSpectrum\\n14. VibrantVibesSocks\\n15. ArtiSox\\n16. SocktasticColors\\n17. BoldStride\\n18. ColorCrazeSocks\\n19. HappyHeels\\n20. ZestSocks\\n\\nRemember to check for trademark availability and domain name options before finalizing your company name to ensure it's unique and legally available for use.\"}"
      ]
     },
     "metadata": {},
     "execution_count": 5
    }
   ],
   "source": [
    "chain.invoke({'product':\"colorful socks\"})"
   ]
  },
  {
   "cell_type": "code",
   "source": [
    "chain.invoke(\"colorful socks\", return_only_outputs=True)"
   ],
   "metadata": {
    "id": "k9cXSk1gEwDb",
    "colab": {
     "base_uri": "https://localhost:8080/"
    },
    "outputId": "c6bc6679-13a1-4b3b-b11c-8be993fe8c9d"
   },
   "execution_count": 6,
   "outputs": [
    {
     "output_type": "execute_result",
     "data": {
      "text/plain": [
       "{'text': \"Choosing the best name for a company that makes colorful socks depends on various factors, including the brand's personality, target audience, and the message you want to convey. Here are some creative suggestions that might inspire you:\\n\\n1. SpectrumSocks\\n2. RainbowToes\\n3. ColorPopSocks\\n4. VividFeet\\n5. HueCrew\\n6. SockPalette\\n7. BrightSteps\\n8. PizzazzSocks\\n9. KaleidoSox\\n10. PrismPeds\\n11. SocktasticColors\\n12. DazzleHeels\\n13. FunkyFootworks\\n14. ColorStride\\n15. ArtiSox\\n16. SockSpectrum\\n17. BoldSoles\\n18. ZestfulZocks\\n19. HappyHeels\\n20. ToeTints\\n\\nRemember to check for trademark availability and domain name options before finalizing your company name to ensure it's unique and legally available for use.\"}"
      ]
     },
     "metadata": {},
     "execution_count": 6
    }
   ]
  },
  {
   "cell_type": "code",
   "source": [
    "from langchain.chains import LLMMathChain\n",
    "\n",
    "llm_math = LLMMathChain.from_llm(llm, verbose=True)\n",
    "#\n"
   ],
   "metadata": {
    "id": "7VpOqzyKGqdD"
   },
   "execution_count": 7,
   "outputs": []
  },
  {
   "cell_type": "code",
   "source": [
    "llm_math.prompt.template"
   ],
   "metadata": {
    "colab": {
     "base_uri": "https://localhost:8080/",
     "height": 105
    },
    "id": "vxLva-_xHa5u",
    "outputId": "2f23c314-d680-4229-ba65-7e06205caedd"
   },
   "execution_count": 8,
   "outputs": [
    {
     "output_type": "execute_result",
     "data": {
      "text/plain": [
       "'Translate a math problem into a expression that can be executed using Python\\'s numexpr library. Use the output of running this code to answer the question.\\n\\nQuestion: ${{Question with math problem.}}\\n```text\\n${{single line mathematical expression that solves the problem}}\\n```\\n...numexpr.evaluate(text)...\\n```output\\n${{Output of running the code}}\\n```\\nAnswer: ${{Answer}}\\n\\nBegin.\\n\\nQuestion: What is 37593 * 67?\\n```text\\n37593 * 67\\n```\\n...numexpr.evaluate(\"37593 * 67\")...\\n```output\\n2518731\\n```\\nAnswer: 2518731\\n\\nQuestion: 37593^(1/5)\\n```text\\n37593**(1/5)\\n```\\n...numexpr.evaluate(\"37593**(1/5)\")...\\n```output\\n8.222831614237718\\n```\\nAnswer: 8.222831614237718\\n\\nQuestion: {question}\\n'"
      ],
      "application/vnd.google.colaboratory.intrinsic+json": {
       "type": "string"
      }
     },
     "metadata": {},
     "execution_count": 8
    }
   ]
  },
  {
   "cell_type": "code",
   "source": [
    "i = 0\n",
    "math_problems = [\"What is 13 raised to the .3432 power?\",\n",
    "                 \" Determine the result of raising 2 to the power of 10 and then subtracting the square root of 81.\"]\n",
    "# llm_math.invoke()\n",
    "llm_math.invoke(math_problems[i])"
   ],
   "metadata": {
    "colab": {
     "base_uri": "https://localhost:8080/"
    },
    "id": "MIsu9aP6IgLI",
    "outputId": "39aba3e5-fb79-4fa9-bd82-b073e48812ae"
   },
   "execution_count": 9,
   "outputs": [
    {
     "output_type": "stream",
     "name": "stdout",
     "text": [
      "\n",
      "\n",
      "\u001B[1m> Entering new LLMMathChain chain...\u001B[0m\n",
      "What is 13 raised to the .3432 power?\u001B[32;1m\u001B[1;3m```text\n",
      "13**0.3432\n",
      "```\n",
      "...numexpr.evaluate(\"13**0.3432\")...\n",
      "\u001B[0m\n",
      "Answer: \u001B[33;1m\u001B[1;3m2.4116004626599237\u001B[0m\n",
      "\u001B[1m> Finished chain.\u001B[0m\n"
     ]
    },
    {
     "output_type": "execute_result",
     "data": {
      "text/plain": [
       "{'question': 'What is 13 raised to the .3432 power?',\n",
       " 'answer': 'Answer: 2.4116004626599237'}"
      ]
     },
     "metadata": {},
     "execution_count": 9
    }
   ]
  },
  {
   "cell_type": "code",
   "source": [
    "from langchain.schema import HumanMessage\n",
    "llm.invoke([HumanMessage(content=math_problems[i])])"
   ],
   "metadata": {
    "colab": {
     "base_uri": "https://localhost:8080/"
    },
    "id": "70bapVnnInPo",
    "outputId": "db63c5dc-c034-4b23-91d6-1f3bd2cbe7db"
   },
   "execution_count": 10,
   "outputs": [
    {
     "output_type": "execute_result",
     "data": {
      "text/plain": [
       "AIMessage(content='To calculate 13 raised to the 0.3432 power, you can use a calculator or a computational tool. The calculation would look like this:\\n\\n13^0.3432\\n\\nUsing a calculator or a computational tool, you would get:\\n\\n13^0.3432 ≈ 2.2114\\n\\nSo, 13 raised to the 0.3432 power is approximately 2.2114.', response_metadata={'token_usage': {'completion_tokens': 85, 'prompt_tokens': 19, 'total_tokens': 104}, 'model_name': 'gpt-4-1106-preview', 'system_fingerprint': None, 'finish_reason': 'stop', 'logprobs': None}, id='run-75b7c88d-ce44-45e2-b7b1-189e9c73e20c-0', usage_metadata={'input_tokens': 19, 'output_tokens': 85, 'total_tokens': 104})"
      ]
     },
     "metadata": {},
     "execution_count": 10
    }
   ]
  },
  {
   "cell_type": "code",
   "source": [],
   "metadata": {
    "id": "g9OUiAKCcPnl"
   },
   "execution_count": null,
   "outputs": []
  },
  {
   "cell_type": "markdown",
   "metadata": {
    "id": "KHXKp7ooPvuD"
   },
   "source": [
    "[see more legacy chain](https://python.langchain.com/docs/modules/chains/#legacy-chains)"
   ]
  },
  {
   "cell_type": "markdown",
   "metadata": {
    "id": "ljzx11f7Pv3P"
   },
   "source": [
    "LangChain Expression Language (**LCEL**)"
   ]
  },
  {
   "cell_type": "code",
   "execution_count": 11,
   "metadata": {
    "id": "JmSYBqAoLIhj"
   },
   "outputs": [],
   "source": [
    "from langchain.prompts import PromptTemplate\n",
    "template = \"\"\"\n",
    " Please translate the following word from {input_language} to {output_language}\n",
    " word: {word}\n",
    " Answer: ?\"\"\"\n",
    "prompt = PromptTemplate(template=template, input_variables=[\"input_language\", 'output_language', 'word'])\n"
   ]
  },
  {
   "cell_type": "code",
   "source": [
    "translator_chain = prompt | llm\n",
    "translator_chain.invoke({'input_language':'English', 'output_language':'Farsi', 'word':\"Hypothesis\"})"
   ],
   "metadata": {
    "colab": {
     "base_uri": "https://localhost:8080/"
    },
    "id": "8FSIN5cIlPRP",
    "outputId": "420c2829-a87b-4735-8723-f37ae5d1afc9"
   },
   "execution_count": 12,
   "outputs": [
    {
     "output_type": "execute_result",
     "data": {
      "text/plain": [
       "AIMessage(content='The English word \"Hypothesis\" can be translated to Farsi as \"فرضیه\" (pronounced as \"farziyeh\").', response_metadata={'token_usage': {'completion_tokens': 32, 'prompt_tokens': 28, 'total_tokens': 60}, 'model_name': 'gpt-4-1106-preview', 'system_fingerprint': None, 'finish_reason': 'stop', 'logprobs': None}, id='run-360e751c-db2b-48ee-bea4-2fd6f51a1569-0', usage_metadata={'input_tokens': 28, 'output_tokens': 32, 'total_tokens': 60})"
      ]
     },
     "metadata": {},
     "execution_count": 12
    }
   ]
  },
  {
   "cell_type": "code",
   "source": [
    "response = translator_chain.invoke({'input_language':'English', 'output_language':'Farsi', 'word':\"Hypothesis\"}).content\n",
    "response"
   ],
   "metadata": {
    "id": "IhwrUHsqNUTw",
    "colab": {
     "base_uri": "https://localhost:8080/",
     "height": 35
    },
    "outputId": "c2138f7e-057b-4432-9ccc-b53429b5b082"
   },
   "execution_count": 13,
   "outputs": [
    {
     "output_type": "execute_result",
     "data": {
      "text/plain": [
       "'The English word \"Hypothesis\" can be translated to Farsi as \"فرضیه\" (pronounced as \"farziyeh\").'"
      ],
      "application/vnd.google.colaboratory.intrinsic+json": {
       "type": "string"
      }
     },
     "metadata": {},
     "execution_count": 13
    }
   ]
  },
  {
   "cell_type": "code",
   "source": [
    "from langchain_core.output_parsers import StrOutputParser\n",
    "prompt = PromptTemplate(template='answer {question} honestly', input_variables=['question'])\n",
    "chain = prompt | llm | StrOutputParser()\n",
    "chain.invoke({'question':'who was Amirkabir?'})"
   ],
   "metadata": {
    "colab": {
     "base_uri": "https://localhost:8080/",
     "height": 140
    },
    "id": "TFK50M6Rlq7d",
    "outputId": "d3c5939d-eb46-4cec-d082-01b32d81e0df"
   },
   "execution_count": 14,
   "outputs": [
    {
     "output_type": "execute_result",
     "data": {
      "text/plain": [
       "\"Amir Kabir, also known as Mirza Taghi Khan Amir-Nezam (1807–1852), was a prominent Persian statesman and a key figure in the Qajar dynasty. He is widely regarded as one of Iran's most capable and reform-minded prime ministers (chief minister), serving under Naser al-Din Shah Qajar from 1848 until his dismissal and subsequent assassination in 1852.\\n\\nAmir Kabir's tenure was marked by a series of progressive reforms aimed at modernizing Iran. He sought to reduce foreign influence, curb the power of the Qajar tribal chieftains, and strengthen the central government. Among his notable achievements were the establishment of Dar ul-Funun, the first modern university in Iran, which introduced Western sciences and knowledge; the founding of a modern administration system; the reorganization of the army; and the introduction of modern industries.\\n\\nDespite his efforts to transform the country, Amir Kabir faced opposition from conservative factions within the court and the clergy, who were resistant to change and felt threatened by his reforms. His dismissal and subsequent murder were orchestrated by those who saw him as a threat to their power and traditional way of life.\\n\\nAmir Kabir is remembered as a visionary and a national hero by many Iranians, who view his reforms as a missed opportunity for Iran to modernize and develop independently without the heavy influence of foreign powers that characterized the country's later history.\""
      ],
      "application/vnd.google.colaboratory.intrinsic+json": {
       "type": "string"
      }
     },
     "metadata": {},
     "execution_count": 14
    }
   ]
  },
  {
   "cell_type": "code",
   "source": [
    "from langchain_core.output_parsers import JsonOutputParser\n",
    "\n",
    "parser = JsonOutputParser()\n",
    "prompt = PromptTemplate(template='answer {question} honestly. \\n{format_instructions}\\n',\n",
    "                        input_variables=['question'], partial_variables={\"format_instructions\": parser.get_format_instructions()})\n",
    "\n",
    "chain = prompt | llm | parser\n",
    "chain.invoke({'question':'who was Amirkabir?'})"
   ],
   "metadata": {
    "colab": {
     "base_uri": "https://localhost:8080/"
    },
    "id": "N7IpjYZXm5zj",
    "outputId": "988c338e-5229-4880-b4e8-8b1795980a3e"
   },
   "execution_count": 15,
   "outputs": [
    {
     "output_type": "execute_result",
     "data": {
      "text/plain": [
       "{'name': 'Amirkabir',\n",
       " 'full_name': 'Mirza Taghi Khan Farahani',\n",
       " 'born': '1807',\n",
       " 'died': '1852',\n",
       " 'nationality': 'Iranian',\n",
       " 'occupation': 'Prime Minister of Iran',\n",
       " 'known_for': 'Being a modernizer and reformer, initiating the first major modernization reforms in Iran during the 19th century',\n",
       " 'titles': ['Amir Kabir', 'Atabak'],\n",
       " 'significant_achievements': ['Establishing Dar ul-Funun, the first modern university in Iran',\n",
       "  'Founding the first Iranian newspaper',\n",
       "  'Implementing administrative and economic reforms',\n",
       "  'Promoting the modernization of the Iranian army',\n",
       "  'Attempting to limit the power of the Qajar royal court and clergy'],\n",
       " 'death': 'Executed by order of King Naser al-Din Shah Qajar'}"
      ]
     },
     "metadata": {},
     "execution_count": 15
    }
   ]
  },
  {
   "cell_type": "code",
   "source": [
    "inputs = [\n",
    "    {'input_language':'English', 'output_language':'Farsi', 'word':\"Hypothesis\"},\n",
    "    {'input_language':'Farsi', 'output_language':'Arabic', 'word':\"درخت\"}\n",
    "         ]\n",
    "response = translator_chain.batch(inputs)\n",
    "response"
   ],
   "metadata": {
    "colab": {
     "base_uri": "https://localhost:8080/"
    },
    "id": "gUqBigTiNd_y",
    "outputId": "cbc01045-5586-4e2b-9a17-10ef159e9892"
   },
   "execution_count": 16,
   "outputs": [
    {
     "output_type": "execute_result",
     "data": {
      "text/plain": [
       "[AIMessage(content='The English word \"Hypothesis\" can be translated to Farsi as \"فرضیه\" (pronounced as \"farziyeh\").', response_metadata={'token_usage': {'completion_tokens': 32, 'prompt_tokens': 28, 'total_tokens': 60}, 'model_name': 'gpt-4-1106-preview', 'system_fingerprint': None, 'finish_reason': 'stop', 'logprobs': None}, id='run-9818371e-31bd-4e9b-8edd-afc22b8fc6c5-0', usage_metadata={'input_tokens': 28, 'output_tokens': 32, 'total_tokens': 60}),\n",
       " AIMessage(content='The Farsi word \"درخت\" translates to \"شجرة\" in Arabic.', response_metadata={'token_usage': {'completion_tokens': 21, 'prompt_tokens': 28, 'total_tokens': 49}, 'model_name': 'gpt-4-1106-preview', 'system_fingerprint': None, 'finish_reason': 'stop', 'logprobs': None}, id='run-7be128a2-ab51-4a4b-b332-a9b8e9b030a7-0', usage_metadata={'input_tokens': 28, 'output_tokens': 21, 'total_tokens': 49})]"
      ]
     },
     "metadata": {},
     "execution_count": 16
    }
   ]
  },
  {
   "cell_type": "code",
   "execution_count": null,
   "metadata": {
    "id": "X2RSWBm8Ppcv"
   },
   "outputs": [],
   "source": []
  },
  {
   "cell_type": "code",
   "execution_count": 17,
   "metadata": {
    "id": "vCdnNQy1Pt2B",
    "colab": {
     "base_uri": "https://localhost:8080/"
    },
    "outputId": "4c9e8e3b-a014-426b-838b-725bd4b69082"
   },
   "outputs": [
    {
     "output_type": "stream",
     "name": "stdout",
     "text": [
      "{}\n",
      "{'name': ''}\n",
      "{'name': 'Am'}\n",
      "{'name': 'Amir'}\n",
      "{'name': 'Amir Kab'}\n",
      "{'name': 'Amir Kabir'}\n",
      "{'name': 'Amir Kabir', 'birth_name': ''}\n",
      "{'name': 'Amir Kabir', 'birth_name': 'Mir'}\n",
      "{'name': 'Amir Kabir', 'birth_name': 'Mirza'}\n",
      "{'name': 'Amir Kabir', 'birth_name': 'Mirza Tag'}\n",
      "{'name': 'Amir Kabir', 'birth_name': 'Mirza Taghi'}\n",
      "{'name': 'Amir Kabir', 'birth_name': 'Mirza Taghi Khan'}\n",
      "{'name': 'Amir Kabir', 'birth_name': 'Mirza Taghi Khan', 'birth_date': ''}\n",
      "{'name': 'Amir Kabir', 'birth_name': 'Mirza Taghi Khan', 'birth_date': '180'}\n",
      "{'name': 'Amir Kabir', 'birth_name': 'Mirza Taghi Khan', 'birth_date': '1807'}\n",
      "{'name': 'Amir Kabir', 'birth_name': 'Mirza Taghi Khan', 'birth_date': '1807', 'death_date': ''}\n",
      "{'name': 'Amir Kabir', 'birth_name': 'Mirza Taghi Khan', 'birth_date': '1807', 'death_date': '185'}\n",
      "{'name': 'Amir Kabir', 'birth_name': 'Mirza Taghi Khan', 'birth_date': '1807', 'death_date': '1852'}\n",
      "{'name': 'Amir Kabir', 'birth_name': 'Mirza Taghi Khan', 'birth_date': '1807', 'death_date': '1852', 'nationality': ''}\n",
      "{'name': 'Amir Kabir', 'birth_name': 'Mirza Taghi Khan', 'birth_date': '1807', 'death_date': '1852', 'nationality': 'Iran'}\n",
      "{'name': 'Amir Kabir', 'birth_name': 'Mirza Taghi Khan', 'birth_date': '1807', 'death_date': '1852', 'nationality': 'Iranian'}\n",
      "{'name': 'Amir Kabir', 'birth_name': 'Mirza Taghi Khan', 'birth_date': '1807', 'death_date': '1852', 'nationality': 'Iranian', 'occupation': ''}\n",
      "{'name': 'Amir Kabir', 'birth_name': 'Mirza Taghi Khan', 'birth_date': '1807', 'death_date': '1852', 'nationality': 'Iranian', 'occupation': 'Prime'}\n",
      "{'name': 'Amir Kabir', 'birth_name': 'Mirza Taghi Khan', 'birth_date': '1807', 'death_date': '1852', 'nationality': 'Iranian', 'occupation': 'Prime Minister'}\n",
      "{'name': 'Amir Kabir', 'birth_name': 'Mirza Taghi Khan', 'birth_date': '1807', 'death_date': '1852', 'nationality': 'Iranian', 'occupation': 'Prime Minister of'}\n",
      "{'name': 'Amir Kabir', 'birth_name': 'Mirza Taghi Khan', 'birth_date': '1807', 'death_date': '1852', 'nationality': 'Iranian', 'occupation': 'Prime Minister of Iran'}\n",
      "{'name': 'Amir Kabir', 'birth_name': 'Mirza Taghi Khan', 'birth_date': '1807', 'death_date': '1852', 'nationality': 'Iranian', 'occupation': 'Prime Minister of Iran', 'tenure': ''}\n",
      "{'name': 'Amir Kabir', 'birth_name': 'Mirza Taghi Khan', 'birth_date': '1807', 'death_date': '1852', 'nationality': 'Iranian', 'occupation': 'Prime Minister of Iran', 'tenure': '184'}\n",
      "{'name': 'Amir Kabir', 'birth_name': 'Mirza Taghi Khan', 'birth_date': '1807', 'death_date': '1852', 'nationality': 'Iranian', 'occupation': 'Prime Minister of Iran', 'tenure': '1848'}\n",
      "{'name': 'Amir Kabir', 'birth_name': 'Mirza Taghi Khan', 'birth_date': '1807', 'death_date': '1852', 'nationality': 'Iranian', 'occupation': 'Prime Minister of Iran', 'tenure': '1848-'}\n",
      "{'name': 'Amir Kabir', 'birth_name': 'Mirza Taghi Khan', 'birth_date': '1807', 'death_date': '1852', 'nationality': 'Iranian', 'occupation': 'Prime Minister of Iran', 'tenure': '1848-185'}\n",
      "{'name': 'Amir Kabir', 'birth_name': 'Mirza Taghi Khan', 'birth_date': '1807', 'death_date': '1852', 'nationality': 'Iranian', 'occupation': 'Prime Minister of Iran', 'tenure': '1848-1851'}\n",
      "{'name': 'Amir Kabir', 'birth_name': 'Mirza Taghi Khan', 'birth_date': '1807', 'death_date': '1852', 'nationality': 'Iranian', 'occupation': 'Prime Minister of Iran', 'tenure': '1848-1851', 'monarch': ''}\n",
      "{'name': 'Amir Kabir', 'birth_name': 'Mirza Taghi Khan', 'birth_date': '1807', 'death_date': '1852', 'nationality': 'Iranian', 'occupation': 'Prime Minister of Iran', 'tenure': '1848-1851', 'monarch': 'N'}\n",
      "{'name': 'Amir Kabir', 'birth_name': 'Mirza Taghi Khan', 'birth_date': '1807', 'death_date': '1852', 'nationality': 'Iranian', 'occupation': 'Prime Minister of Iran', 'tenure': '1848-1851', 'monarch': 'Naser'}\n",
      "{'name': 'Amir Kabir', 'birth_name': 'Mirza Taghi Khan', 'birth_date': '1807', 'death_date': '1852', 'nationality': 'Iranian', 'occupation': 'Prime Minister of Iran', 'tenure': '1848-1851', 'monarch': 'Naser al'}\n",
      "{'name': 'Amir Kabir', 'birth_name': 'Mirza Taghi Khan', 'birth_date': '1807', 'death_date': '1852', 'nationality': 'Iranian', 'occupation': 'Prime Minister of Iran', 'tenure': '1848-1851', 'monarch': 'Naser al-D'}\n",
      "{'name': 'Amir Kabir', 'birth_name': 'Mirza Taghi Khan', 'birth_date': '1807', 'death_date': '1852', 'nationality': 'Iranian', 'occupation': 'Prime Minister of Iran', 'tenure': '1848-1851', 'monarch': 'Naser al-Din'}\n",
      "{'name': 'Amir Kabir', 'birth_name': 'Mirza Taghi Khan', 'birth_date': '1807', 'death_date': '1852', 'nationality': 'Iranian', 'occupation': 'Prime Minister of Iran', 'tenure': '1848-1851', 'monarch': 'Naser al-Din Shah'}\n",
      "{'name': 'Amir Kabir', 'birth_name': 'Mirza Taghi Khan', 'birth_date': '1807', 'death_date': '1852', 'nationality': 'Iranian', 'occupation': 'Prime Minister of Iran', 'tenure': '1848-1851', 'monarch': 'Naser al-Din Shah Q'}\n",
      "{'name': 'Amir Kabir', 'birth_name': 'Mirza Taghi Khan', 'birth_date': '1807', 'death_date': '1852', 'nationality': 'Iranian', 'occupation': 'Prime Minister of Iran', 'tenure': '1848-1851', 'monarch': 'Naser al-Din Shah Qajar'}\n",
      "{'name': 'Amir Kabir', 'birth_name': 'Mirza Taghi Khan', 'birth_date': '1807', 'death_date': '1852', 'nationality': 'Iranian', 'occupation': 'Prime Minister of Iran', 'tenure': '1848-1851', 'monarch': 'Naser al-Din Shah Qajar', 'known_for': ''}\n",
      "{'name': 'Amir Kabir', 'birth_name': 'Mirza Taghi Khan', 'birth_date': '1807', 'death_date': '1852', 'nationality': 'Iranian', 'occupation': 'Prime Minister of Iran', 'tenure': '1848-1851', 'monarch': 'Naser al-Din Shah Qajar', 'known_for': 'Re'}\n",
      "{'name': 'Amir Kabir', 'birth_name': 'Mirza Taghi Khan', 'birth_date': '1807', 'death_date': '1852', 'nationality': 'Iranian', 'occupation': 'Prime Minister of Iran', 'tenure': '1848-1851', 'monarch': 'Naser al-Din Shah Qajar', 'known_for': 'Reforms'}\n",
      "{'name': 'Amir Kabir', 'birth_name': 'Mirza Taghi Khan', 'birth_date': '1807', 'death_date': '1852', 'nationality': 'Iranian', 'occupation': 'Prime Minister of Iran', 'tenure': '1848-1851', 'monarch': 'Naser al-Din Shah Qajar', 'known_for': 'Reforms,'}\n",
      "{'name': 'Amir Kabir', 'birth_name': 'Mirza Taghi Khan', 'birth_date': '1807', 'death_date': '1852', 'nationality': 'Iranian', 'occupation': 'Prime Minister of Iran', 'tenure': '1848-1851', 'monarch': 'Naser al-Din Shah Qajar', 'known_for': 'Reforms, modern'}\n",
      "{'name': 'Amir Kabir', 'birth_name': 'Mirza Taghi Khan', 'birth_date': '1807', 'death_date': '1852', 'nationality': 'Iranian', 'occupation': 'Prime Minister of Iran', 'tenure': '1848-1851', 'monarch': 'Naser al-Din Shah Qajar', 'known_for': 'Reforms, modernization'}\n",
      "{'name': 'Amir Kabir', 'birth_name': 'Mirza Taghi Khan', 'birth_date': '1807', 'death_date': '1852', 'nationality': 'Iranian', 'occupation': 'Prime Minister of Iran', 'tenure': '1848-1851', 'monarch': 'Naser al-Din Shah Qajar', 'known_for': 'Reforms, modernization efforts'}\n",
      "{'name': 'Amir Kabir', 'birth_name': 'Mirza Taghi Khan', 'birth_date': '1807', 'death_date': '1852', 'nationality': 'Iranian', 'occupation': 'Prime Minister of Iran', 'tenure': '1848-1851', 'monarch': 'Naser al-Din Shah Qajar', 'known_for': 'Reforms, modernization efforts,'}\n",
      "{'name': 'Amir Kabir', 'birth_name': 'Mirza Taghi Khan', 'birth_date': '1807', 'death_date': '1852', 'nationality': 'Iranian', 'occupation': 'Prime Minister of Iran', 'tenure': '1848-1851', 'monarch': 'Naser al-Din Shah Qajar', 'known_for': 'Reforms, modernization efforts, and'}\n",
      "{'name': 'Amir Kabir', 'birth_name': 'Mirza Taghi Khan', 'birth_date': '1807', 'death_date': '1852', 'nationality': 'Iranian', 'occupation': 'Prime Minister of Iran', 'tenure': '1848-1851', 'monarch': 'Naser al-Din Shah Qajar', 'known_for': 'Reforms, modernization efforts, and founding'}\n",
      "{'name': 'Amir Kabir', 'birth_name': 'Mirza Taghi Khan', 'birth_date': '1807', 'death_date': '1852', 'nationality': 'Iranian', 'occupation': 'Prime Minister of Iran', 'tenure': '1848-1851', 'monarch': 'Naser al-Din Shah Qajar', 'known_for': 'Reforms, modernization efforts, and founding Dar'}\n",
      "{'name': 'Amir Kabir', 'birth_name': 'Mirza Taghi Khan', 'birth_date': '1807', 'death_date': '1852', 'nationality': 'Iranian', 'occupation': 'Prime Minister of Iran', 'tenure': '1848-1851', 'monarch': 'Naser al-Din Shah Qajar', 'known_for': 'Reforms, modernization efforts, and founding Dar ul'}\n",
      "{'name': 'Amir Kabir', 'birth_name': 'Mirza Taghi Khan', 'birth_date': '1807', 'death_date': '1852', 'nationality': 'Iranian', 'occupation': 'Prime Minister of Iran', 'tenure': '1848-1851', 'monarch': 'Naser al-Din Shah Qajar', 'known_for': 'Reforms, modernization efforts, and founding Dar ul-F'}\n",
      "{'name': 'Amir Kabir', 'birth_name': 'Mirza Taghi Khan', 'birth_date': '1807', 'death_date': '1852', 'nationality': 'Iranian', 'occupation': 'Prime Minister of Iran', 'tenure': '1848-1851', 'monarch': 'Naser al-Din Shah Qajar', 'known_for': 'Reforms, modernization efforts, and founding Dar ul-Fun'}\n",
      "{'name': 'Amir Kabir', 'birth_name': 'Mirza Taghi Khan', 'birth_date': '1807', 'death_date': '1852', 'nationality': 'Iranian', 'occupation': 'Prime Minister of Iran', 'tenure': '1848-1851', 'monarch': 'Naser al-Din Shah Qajar', 'known_for': 'Reforms, modernization efforts, and founding Dar ul-Funun'}\n",
      "{'name': 'Amir Kabir', 'birth_name': 'Mirza Taghi Khan', 'birth_date': '1807', 'death_date': '1852', 'nationality': 'Iranian', 'occupation': 'Prime Minister of Iran', 'tenure': '1848-1851', 'monarch': 'Naser al-Din Shah Qajar', 'known_for': 'Reforms, modernization efforts, and founding Dar ul-Funun ('}\n",
      "{'name': 'Amir Kabir', 'birth_name': 'Mirza Taghi Khan', 'birth_date': '1807', 'death_date': '1852', 'nationality': 'Iranian', 'occupation': 'Prime Minister of Iran', 'tenure': '1848-1851', 'monarch': 'Naser al-Din Shah Qajar', 'known_for': 'Reforms, modernization efforts, and founding Dar ul-Funun (the'}\n",
      "{'name': 'Amir Kabir', 'birth_name': 'Mirza Taghi Khan', 'birth_date': '1807', 'death_date': '1852', 'nationality': 'Iranian', 'occupation': 'Prime Minister of Iran', 'tenure': '1848-1851', 'monarch': 'Naser al-Din Shah Qajar', 'known_for': 'Reforms, modernization efforts, and founding Dar ul-Funun (the first'}\n",
      "{'name': 'Amir Kabir', 'birth_name': 'Mirza Taghi Khan', 'birth_date': '1807', 'death_date': '1852', 'nationality': 'Iranian', 'occupation': 'Prime Minister of Iran', 'tenure': '1848-1851', 'monarch': 'Naser al-Din Shah Qajar', 'known_for': 'Reforms, modernization efforts, and founding Dar ul-Funun (the first modern'}\n",
      "{'name': 'Amir Kabir', 'birth_name': 'Mirza Taghi Khan', 'birth_date': '1807', 'death_date': '1852', 'nationality': 'Iranian', 'occupation': 'Prime Minister of Iran', 'tenure': '1848-1851', 'monarch': 'Naser al-Din Shah Qajar', 'known_for': 'Reforms, modernization efforts, and founding Dar ul-Funun (the first modern university'}\n",
      "{'name': 'Amir Kabir', 'birth_name': 'Mirza Taghi Khan', 'birth_date': '1807', 'death_date': '1852', 'nationality': 'Iranian', 'occupation': 'Prime Minister of Iran', 'tenure': '1848-1851', 'monarch': 'Naser al-Din Shah Qajar', 'known_for': 'Reforms, modernization efforts, and founding Dar ul-Funun (the first modern university in'}\n",
      "{'name': 'Amir Kabir', 'birth_name': 'Mirza Taghi Khan', 'birth_date': '1807', 'death_date': '1852', 'nationality': 'Iranian', 'occupation': 'Prime Minister of Iran', 'tenure': '1848-1851', 'monarch': 'Naser al-Din Shah Qajar', 'known_for': 'Reforms, modernization efforts, and founding Dar ul-Funun (the first modern university in Iran'}\n",
      "{'name': 'Amir Kabir', 'birth_name': 'Mirza Taghi Khan', 'birth_date': '1807', 'death_date': '1852', 'nationality': 'Iranian', 'occupation': 'Prime Minister of Iran', 'tenure': '1848-1851', 'monarch': 'Naser al-Din Shah Qajar', 'known_for': 'Reforms, modernization efforts, and founding Dar ul-Funun (the first modern university in Iran)'}\n",
      "{'name': 'Amir Kabir', 'birth_name': 'Mirza Taghi Khan', 'birth_date': '1807', 'death_date': '1852', 'nationality': 'Iranian', 'occupation': 'Prime Minister of Iran', 'tenure': '1848-1851', 'monarch': 'Naser al-Din Shah Qajar', 'known_for': 'Reforms, modernization efforts, and founding Dar ul-Funun (the first modern university in Iran)', 'legacy': ''}\n",
      "{'name': 'Amir Kabir', 'birth_name': 'Mirza Taghi Khan', 'birth_date': '1807', 'death_date': '1852', 'nationality': 'Iranian', 'occupation': 'Prime Minister of Iran', 'tenure': '1848-1851', 'monarch': 'Naser al-Din Shah Qajar', 'known_for': 'Reforms, modernization efforts, and founding Dar ul-Funun (the first modern university in Iran)', 'legacy': 'Consider'}\n",
      "{'name': 'Amir Kabir', 'birth_name': 'Mirza Taghi Khan', 'birth_date': '1807', 'death_date': '1852', 'nationality': 'Iranian', 'occupation': 'Prime Minister of Iran', 'tenure': '1848-1851', 'monarch': 'Naser al-Din Shah Qajar', 'known_for': 'Reforms, modernization efforts, and founding Dar ul-Funun (the first modern university in Iran)', 'legacy': 'Considered'}\n",
      "{'name': 'Amir Kabir', 'birth_name': 'Mirza Taghi Khan', 'birth_date': '1807', 'death_date': '1852', 'nationality': 'Iranian', 'occupation': 'Prime Minister of Iran', 'tenure': '1848-1851', 'monarch': 'Naser al-Din Shah Qajar', 'known_for': 'Reforms, modernization efforts, and founding Dar ul-Funun (the first modern university in Iran)', 'legacy': 'Considered one'}\n",
      "{'name': 'Amir Kabir', 'birth_name': 'Mirza Taghi Khan', 'birth_date': '1807', 'death_date': '1852', 'nationality': 'Iranian', 'occupation': 'Prime Minister of Iran', 'tenure': '1848-1851', 'monarch': 'Naser al-Din Shah Qajar', 'known_for': 'Reforms, modernization efforts, and founding Dar ul-Funun (the first modern university in Iran)', 'legacy': 'Considered one of'}\n",
      "{'name': 'Amir Kabir', 'birth_name': 'Mirza Taghi Khan', 'birth_date': '1807', 'death_date': '1852', 'nationality': 'Iranian', 'occupation': 'Prime Minister of Iran', 'tenure': '1848-1851', 'monarch': 'Naser al-Din Shah Qajar', 'known_for': 'Reforms, modernization efforts, and founding Dar ul-Funun (the first modern university in Iran)', 'legacy': 'Considered one of Iran'}\n",
      "{'name': 'Amir Kabir', 'birth_name': 'Mirza Taghi Khan', 'birth_date': '1807', 'death_date': '1852', 'nationality': 'Iranian', 'occupation': 'Prime Minister of Iran', 'tenure': '1848-1851', 'monarch': 'Naser al-Din Shah Qajar', 'known_for': 'Reforms, modernization efforts, and founding Dar ul-Funun (the first modern university in Iran)', 'legacy': \"Considered one of Iran's\"}\n",
      "{'name': 'Amir Kabir', 'birth_name': 'Mirza Taghi Khan', 'birth_date': '1807', 'death_date': '1852', 'nationality': 'Iranian', 'occupation': 'Prime Minister of Iran', 'tenure': '1848-1851', 'monarch': 'Naser al-Din Shah Qajar', 'known_for': 'Reforms, modernization efforts, and founding Dar ul-Funun (the first modern university in Iran)', 'legacy': \"Considered one of Iran's most\"}\n",
      "{'name': 'Amir Kabir', 'birth_name': 'Mirza Taghi Khan', 'birth_date': '1807', 'death_date': '1852', 'nationality': 'Iranian', 'occupation': 'Prime Minister of Iran', 'tenure': '1848-1851', 'monarch': 'Naser al-Din Shah Qajar', 'known_for': 'Reforms, modernization efforts, and founding Dar ul-Funun (the first modern university in Iran)', 'legacy': \"Considered one of Iran's most influential\"}\n",
      "{'name': 'Amir Kabir', 'birth_name': 'Mirza Taghi Khan', 'birth_date': '1807', 'death_date': '1852', 'nationality': 'Iranian', 'occupation': 'Prime Minister of Iran', 'tenure': '1848-1851', 'monarch': 'Naser al-Din Shah Qajar', 'known_for': 'Reforms, modernization efforts, and founding Dar ul-Funun (the first modern university in Iran)', 'legacy': \"Considered one of Iran's most influential and\"}\n",
      "{'name': 'Amir Kabir', 'birth_name': 'Mirza Taghi Khan', 'birth_date': '1807', 'death_date': '1852', 'nationality': 'Iranian', 'occupation': 'Prime Minister of Iran', 'tenure': '1848-1851', 'monarch': 'Naser al-Din Shah Qajar', 'known_for': 'Reforms, modernization efforts, and founding Dar ul-Funun (the first modern university in Iran)', 'legacy': \"Considered one of Iran's most influential and respected\"}\n",
      "{'name': 'Amir Kabir', 'birth_name': 'Mirza Taghi Khan', 'birth_date': '1807', 'death_date': '1852', 'nationality': 'Iranian', 'occupation': 'Prime Minister of Iran', 'tenure': '1848-1851', 'monarch': 'Naser al-Din Shah Qajar', 'known_for': 'Reforms, modernization efforts, and founding Dar ul-Funun (the first modern university in Iran)', 'legacy': \"Considered one of Iran's most influential and respected historical\"}\n",
      "{'name': 'Amir Kabir', 'birth_name': 'Mirza Taghi Khan', 'birth_date': '1807', 'death_date': '1852', 'nationality': 'Iranian', 'occupation': 'Prime Minister of Iran', 'tenure': '1848-1851', 'monarch': 'Naser al-Din Shah Qajar', 'known_for': 'Reforms, modernization efforts, and founding Dar ul-Funun (the first modern university in Iran)', 'legacy': \"Considered one of Iran's most influential and respected historical figures\"}\n",
      "{'name': 'Amir Kabir', 'birth_name': 'Mirza Taghi Khan', 'birth_date': '1807', 'death_date': '1852', 'nationality': 'Iranian', 'occupation': 'Prime Minister of Iran', 'tenure': '1848-1851', 'monarch': 'Naser al-Din Shah Qajar', 'known_for': 'Reforms, modernization efforts, and founding Dar ul-Funun (the first modern university in Iran)', 'legacy': \"Considered one of Iran's most influential and respected historical figures,\"}\n",
      "{'name': 'Amir Kabir', 'birth_name': 'Mirza Taghi Khan', 'birth_date': '1807', 'death_date': '1852', 'nationality': 'Iranian', 'occupation': 'Prime Minister of Iran', 'tenure': '1848-1851', 'monarch': 'Naser al-Din Shah Qajar', 'known_for': 'Reforms, modernization efforts, and founding Dar ul-Funun (the first modern university in Iran)', 'legacy': \"Considered one of Iran's most influential and respected historical figures, his\"}\n",
      "{'name': 'Amir Kabir', 'birth_name': 'Mirza Taghi Khan', 'birth_date': '1807', 'death_date': '1852', 'nationality': 'Iranian', 'occupation': 'Prime Minister of Iran', 'tenure': '1848-1851', 'monarch': 'Naser al-Din Shah Qajar', 'known_for': 'Reforms, modernization efforts, and founding Dar ul-Funun (the first modern university in Iran)', 'legacy': \"Considered one of Iran's most influential and respected historical figures, his reforms\"}\n",
      "{'name': 'Amir Kabir', 'birth_name': 'Mirza Taghi Khan', 'birth_date': '1807', 'death_date': '1852', 'nationality': 'Iranian', 'occupation': 'Prime Minister of Iran', 'tenure': '1848-1851', 'monarch': 'Naser al-Din Shah Qajar', 'known_for': 'Reforms, modernization efforts, and founding Dar ul-Funun (the first modern university in Iran)', 'legacy': \"Considered one of Iran's most influential and respected historical figures, his reforms touched\"}\n",
      "{'name': 'Amir Kabir', 'birth_name': 'Mirza Taghi Khan', 'birth_date': '1807', 'death_date': '1852', 'nationality': 'Iranian', 'occupation': 'Prime Minister of Iran', 'tenure': '1848-1851', 'monarch': 'Naser al-Din Shah Qajar', 'known_for': 'Reforms, modernization efforts, and founding Dar ul-Funun (the first modern university in Iran)', 'legacy': \"Considered one of Iran's most influential and respected historical figures, his reforms touched various\"}\n",
      "{'name': 'Amir Kabir', 'birth_name': 'Mirza Taghi Khan', 'birth_date': '1807', 'death_date': '1852', 'nationality': 'Iranian', 'occupation': 'Prime Minister of Iran', 'tenure': '1848-1851', 'monarch': 'Naser al-Din Shah Qajar', 'known_for': 'Reforms, modernization efforts, and founding Dar ul-Funun (the first modern university in Iran)', 'legacy': \"Considered one of Iran's most influential and respected historical figures, his reforms touched various aspects\"}\n",
      "{'name': 'Amir Kabir', 'birth_name': 'Mirza Taghi Khan', 'birth_date': '1807', 'death_date': '1852', 'nationality': 'Iranian', 'occupation': 'Prime Minister of Iran', 'tenure': '1848-1851', 'monarch': 'Naser al-Din Shah Qajar', 'known_for': 'Reforms, modernization efforts, and founding Dar ul-Funun (the first modern university in Iran)', 'legacy': \"Considered one of Iran's most influential and respected historical figures, his reforms touched various aspects of\"}\n",
      "{'name': 'Amir Kabir', 'birth_name': 'Mirza Taghi Khan', 'birth_date': '1807', 'death_date': '1852', 'nationality': 'Iranian', 'occupation': 'Prime Minister of Iran', 'tenure': '1848-1851', 'monarch': 'Naser al-Din Shah Qajar', 'known_for': 'Reforms, modernization efforts, and founding Dar ul-Funun (the first modern university in Iran)', 'legacy': \"Considered one of Iran's most influential and respected historical figures, his reforms touched various aspects of Iranian\"}\n",
      "{'name': 'Amir Kabir', 'birth_name': 'Mirza Taghi Khan', 'birth_date': '1807', 'death_date': '1852', 'nationality': 'Iranian', 'occupation': 'Prime Minister of Iran', 'tenure': '1848-1851', 'monarch': 'Naser al-Din Shah Qajar', 'known_for': 'Reforms, modernization efforts, and founding Dar ul-Funun (the first modern university in Iran)', 'legacy': \"Considered one of Iran's most influential and respected historical figures, his reforms touched various aspects of Iranian society\"}\n",
      "{'name': 'Amir Kabir', 'birth_name': 'Mirza Taghi Khan', 'birth_date': '1807', 'death_date': '1852', 'nationality': 'Iranian', 'occupation': 'Prime Minister of Iran', 'tenure': '1848-1851', 'monarch': 'Naser al-Din Shah Qajar', 'known_for': 'Reforms, modernization efforts, and founding Dar ul-Funun (the first modern university in Iran)', 'legacy': \"Considered one of Iran's most influential and respected historical figures, his reforms touched various aspects of Iranian society,\"}\n",
      "{'name': 'Amir Kabir', 'birth_name': 'Mirza Taghi Khan', 'birth_date': '1807', 'death_date': '1852', 'nationality': 'Iranian', 'occupation': 'Prime Minister of Iran', 'tenure': '1848-1851', 'monarch': 'Naser al-Din Shah Qajar', 'known_for': 'Reforms, modernization efforts, and founding Dar ul-Funun (the first modern university in Iran)', 'legacy': \"Considered one of Iran's most influential and respected historical figures, his reforms touched various aspects of Iranian society, including\"}\n",
      "{'name': 'Amir Kabir', 'birth_name': 'Mirza Taghi Khan', 'birth_date': '1807', 'death_date': '1852', 'nationality': 'Iranian', 'occupation': 'Prime Minister of Iran', 'tenure': '1848-1851', 'monarch': 'Naser al-Din Shah Qajar', 'known_for': 'Reforms, modernization efforts, and founding Dar ul-Funun (the first modern university in Iran)', 'legacy': \"Considered one of Iran's most influential and respected historical figures, his reforms touched various aspects of Iranian society, including the\"}\n",
      "{'name': 'Amir Kabir', 'birth_name': 'Mirza Taghi Khan', 'birth_date': '1807', 'death_date': '1852', 'nationality': 'Iranian', 'occupation': 'Prime Minister of Iran', 'tenure': '1848-1851', 'monarch': 'Naser al-Din Shah Qajar', 'known_for': 'Reforms, modernization efforts, and founding Dar ul-Funun (the first modern university in Iran)', 'legacy': \"Considered one of Iran's most influential and respected historical figures, his reforms touched various aspects of Iranian society, including the military\"}\n",
      "{'name': 'Amir Kabir', 'birth_name': 'Mirza Taghi Khan', 'birth_date': '1807', 'death_date': '1852', 'nationality': 'Iranian', 'occupation': 'Prime Minister of Iran', 'tenure': '1848-1851', 'monarch': 'Naser al-Din Shah Qajar', 'known_for': 'Reforms, modernization efforts, and founding Dar ul-Funun (the first modern university in Iran)', 'legacy': \"Considered one of Iran's most influential and respected historical figures, his reforms touched various aspects of Iranian society, including the military,\"}\n",
      "{'name': 'Amir Kabir', 'birth_name': 'Mirza Taghi Khan', 'birth_date': '1807', 'death_date': '1852', 'nationality': 'Iranian', 'occupation': 'Prime Minister of Iran', 'tenure': '1848-1851', 'monarch': 'Naser al-Din Shah Qajar', 'known_for': 'Reforms, modernization efforts, and founding Dar ul-Funun (the first modern university in Iran)', 'legacy': \"Considered one of Iran's most influential and respected historical figures, his reforms touched various aspects of Iranian society, including the military, education\"}\n",
      "{'name': 'Amir Kabir', 'birth_name': 'Mirza Taghi Khan', 'birth_date': '1807', 'death_date': '1852', 'nationality': 'Iranian', 'occupation': 'Prime Minister of Iran', 'tenure': '1848-1851', 'monarch': 'Naser al-Din Shah Qajar', 'known_for': 'Reforms, modernization efforts, and founding Dar ul-Funun (the first modern university in Iran)', 'legacy': \"Considered one of Iran's most influential and respected historical figures, his reforms touched various aspects of Iranian society, including the military, education,\"}\n",
      "{'name': 'Amir Kabir', 'birth_name': 'Mirza Taghi Khan', 'birth_date': '1807', 'death_date': '1852', 'nationality': 'Iranian', 'occupation': 'Prime Minister of Iran', 'tenure': '1848-1851', 'monarch': 'Naser al-Din Shah Qajar', 'known_for': 'Reforms, modernization efforts, and founding Dar ul-Funun (the first modern university in Iran)', 'legacy': \"Considered one of Iran's most influential and respected historical figures, his reforms touched various aspects of Iranian society, including the military, education, and\"}\n",
      "{'name': 'Amir Kabir', 'birth_name': 'Mirza Taghi Khan', 'birth_date': '1807', 'death_date': '1852', 'nationality': 'Iranian', 'occupation': 'Prime Minister of Iran', 'tenure': '1848-1851', 'monarch': 'Naser al-Din Shah Qajar', 'known_for': 'Reforms, modernization efforts, and founding Dar ul-Funun (the first modern university in Iran)', 'legacy': \"Considered one of Iran's most influential and respected historical figures, his reforms touched various aspects of Iranian society, including the military, education, and administration\"}\n",
      "{'name': 'Amir Kabir', 'birth_name': 'Mirza Taghi Khan', 'birth_date': '1807', 'death_date': '1852', 'nationality': 'Iranian', 'occupation': 'Prime Minister of Iran', 'tenure': '1848-1851', 'monarch': 'Naser al-Din Shah Qajar', 'known_for': 'Reforms, modernization efforts, and founding Dar ul-Funun (the first modern university in Iran)', 'legacy': \"Considered one of Iran's most influential and respected historical figures, his reforms touched various aspects of Iranian society, including the military, education, and administration.\"}\n",
      "{'name': 'Amir Kabir', 'birth_name': 'Mirza Taghi Khan', 'birth_date': '1807', 'death_date': '1852', 'nationality': 'Iranian', 'occupation': 'Prime Minister of Iran', 'tenure': '1848-1851', 'monarch': 'Naser al-Din Shah Qajar', 'known_for': 'Reforms, modernization efforts, and founding Dar ul-Funun (the first modern university in Iran)', 'legacy': \"Considered one of Iran's most influential and respected historical figures, his reforms touched various aspects of Iranian society, including the military, education, and administration. His\"}\n",
      "{'name': 'Amir Kabir', 'birth_name': 'Mirza Taghi Khan', 'birth_date': '1807', 'death_date': '1852', 'nationality': 'Iranian', 'occupation': 'Prime Minister of Iran', 'tenure': '1848-1851', 'monarch': 'Naser al-Din Shah Qajar', 'known_for': 'Reforms, modernization efforts, and founding Dar ul-Funun (the first modern university in Iran)', 'legacy': \"Considered one of Iran's most influential and respected historical figures, his reforms touched various aspects of Iranian society, including the military, education, and administration. His execution\"}\n",
      "{'name': 'Amir Kabir', 'birth_name': 'Mirza Taghi Khan', 'birth_date': '1807', 'death_date': '1852', 'nationality': 'Iranian', 'occupation': 'Prime Minister of Iran', 'tenure': '1848-1851', 'monarch': 'Naser al-Din Shah Qajar', 'known_for': 'Reforms, modernization efforts, and founding Dar ul-Funun (the first modern university in Iran)', 'legacy': \"Considered one of Iran's most influential and respected historical figures, his reforms touched various aspects of Iranian society, including the military, education, and administration. His execution was\"}\n",
      "{'name': 'Amir Kabir', 'birth_name': 'Mirza Taghi Khan', 'birth_date': '1807', 'death_date': '1852', 'nationality': 'Iranian', 'occupation': 'Prime Minister of Iran', 'tenure': '1848-1851', 'monarch': 'Naser al-Din Shah Qajar', 'known_for': 'Reforms, modernization efforts, and founding Dar ul-Funun (the first modern university in Iran)', 'legacy': \"Considered one of Iran's most influential and respected historical figures, his reforms touched various aspects of Iranian society, including the military, education, and administration. His execution was ordered\"}\n",
      "{'name': 'Amir Kabir', 'birth_name': 'Mirza Taghi Khan', 'birth_date': '1807', 'death_date': '1852', 'nationality': 'Iranian', 'occupation': 'Prime Minister of Iran', 'tenure': '1848-1851', 'monarch': 'Naser al-Din Shah Qajar', 'known_for': 'Reforms, modernization efforts, and founding Dar ul-Funun (the first modern university in Iran)', 'legacy': \"Considered one of Iran's most influential and respected historical figures, his reforms touched various aspects of Iranian society, including the military, education, and administration. His execution was ordered by\"}\n",
      "{'name': 'Amir Kabir', 'birth_name': 'Mirza Taghi Khan', 'birth_date': '1807', 'death_date': '1852', 'nationality': 'Iranian', 'occupation': 'Prime Minister of Iran', 'tenure': '1848-1851', 'monarch': 'Naser al-Din Shah Qajar', 'known_for': 'Reforms, modernization efforts, and founding Dar ul-Funun (the first modern university in Iran)', 'legacy': \"Considered one of Iran's most influential and respected historical figures, his reforms touched various aspects of Iranian society, including the military, education, and administration. His execution was ordered by the\"}\n",
      "{'name': 'Amir Kabir', 'birth_name': 'Mirza Taghi Khan', 'birth_date': '1807', 'death_date': '1852', 'nationality': 'Iranian', 'occupation': 'Prime Minister of Iran', 'tenure': '1848-1851', 'monarch': 'Naser al-Din Shah Qajar', 'known_for': 'Reforms, modernization efforts, and founding Dar ul-Funun (the first modern university in Iran)', 'legacy': \"Considered one of Iran's most influential and respected historical figures, his reforms touched various aspects of Iranian society, including the military, education, and administration. His execution was ordered by the young\"}\n",
      "{'name': 'Amir Kabir', 'birth_name': 'Mirza Taghi Khan', 'birth_date': '1807', 'death_date': '1852', 'nationality': 'Iranian', 'occupation': 'Prime Minister of Iran', 'tenure': '1848-1851', 'monarch': 'Naser al-Din Shah Qajar', 'known_for': 'Reforms, modernization efforts, and founding Dar ul-Funun (the first modern university in Iran)', 'legacy': \"Considered one of Iran's most influential and respected historical figures, his reforms touched various aspects of Iranian society, including the military, education, and administration. His execution was ordered by the young king\"}\n",
      "{'name': 'Amir Kabir', 'birth_name': 'Mirza Taghi Khan', 'birth_date': '1807', 'death_date': '1852', 'nationality': 'Iranian', 'occupation': 'Prime Minister of Iran', 'tenure': '1848-1851', 'monarch': 'Naser al-Din Shah Qajar', 'known_for': 'Reforms, modernization efforts, and founding Dar ul-Funun (the first modern university in Iran)', 'legacy': \"Considered one of Iran's most influential and respected historical figures, his reforms touched various aspects of Iranian society, including the military, education, and administration. His execution was ordered by the young king N\"}\n",
      "{'name': 'Amir Kabir', 'birth_name': 'Mirza Taghi Khan', 'birth_date': '1807', 'death_date': '1852', 'nationality': 'Iranian', 'occupation': 'Prime Minister of Iran', 'tenure': '1848-1851', 'monarch': 'Naser al-Din Shah Qajar', 'known_for': 'Reforms, modernization efforts, and founding Dar ul-Funun (the first modern university in Iran)', 'legacy': \"Considered one of Iran's most influential and respected historical figures, his reforms touched various aspects of Iranian society, including the military, education, and administration. His execution was ordered by the young king Naser\"}\n",
      "{'name': 'Amir Kabir', 'birth_name': 'Mirza Taghi Khan', 'birth_date': '1807', 'death_date': '1852', 'nationality': 'Iranian', 'occupation': 'Prime Minister of Iran', 'tenure': '1848-1851', 'monarch': 'Naser al-Din Shah Qajar', 'known_for': 'Reforms, modernization efforts, and founding Dar ul-Funun (the first modern university in Iran)', 'legacy': \"Considered one of Iran's most influential and respected historical figures, his reforms touched various aspects of Iranian society, including the military, education, and administration. His execution was ordered by the young king Naser al\"}\n",
      "{'name': 'Amir Kabir', 'birth_name': 'Mirza Taghi Khan', 'birth_date': '1807', 'death_date': '1852', 'nationality': 'Iranian', 'occupation': 'Prime Minister of Iran', 'tenure': '1848-1851', 'monarch': 'Naser al-Din Shah Qajar', 'known_for': 'Reforms, modernization efforts, and founding Dar ul-Funun (the first modern university in Iran)', 'legacy': \"Considered one of Iran's most influential and respected historical figures, his reforms touched various aspects of Iranian society, including the military, education, and administration. His execution was ordered by the young king Naser al-D\"}\n",
      "{'name': 'Amir Kabir', 'birth_name': 'Mirza Taghi Khan', 'birth_date': '1807', 'death_date': '1852', 'nationality': 'Iranian', 'occupation': 'Prime Minister of Iran', 'tenure': '1848-1851', 'monarch': 'Naser al-Din Shah Qajar', 'known_for': 'Reforms, modernization efforts, and founding Dar ul-Funun (the first modern university in Iran)', 'legacy': \"Considered one of Iran's most influential and respected historical figures, his reforms touched various aspects of Iranian society, including the military, education, and administration. His execution was ordered by the young king Naser al-Din\"}\n",
      "{'name': 'Amir Kabir', 'birth_name': 'Mirza Taghi Khan', 'birth_date': '1807', 'death_date': '1852', 'nationality': 'Iranian', 'occupation': 'Prime Minister of Iran', 'tenure': '1848-1851', 'monarch': 'Naser al-Din Shah Qajar', 'known_for': 'Reforms, modernization efforts, and founding Dar ul-Funun (the first modern university in Iran)', 'legacy': \"Considered one of Iran's most influential and respected historical figures, his reforms touched various aspects of Iranian society, including the military, education, and administration. His execution was ordered by the young king Naser al-Din Shah\"}\n",
      "{'name': 'Amir Kabir', 'birth_name': 'Mirza Taghi Khan', 'birth_date': '1807', 'death_date': '1852', 'nationality': 'Iranian', 'occupation': 'Prime Minister of Iran', 'tenure': '1848-1851', 'monarch': 'Naser al-Din Shah Qajar', 'known_for': 'Reforms, modernization efforts, and founding Dar ul-Funun (the first modern university in Iran)', 'legacy': \"Considered one of Iran's most influential and respected historical figures, his reforms touched various aspects of Iranian society, including the military, education, and administration. His execution was ordered by the young king Naser al-Din Shah Q\"}\n",
      "{'name': 'Amir Kabir', 'birth_name': 'Mirza Taghi Khan', 'birth_date': '1807', 'death_date': '1852', 'nationality': 'Iranian', 'occupation': 'Prime Minister of Iran', 'tenure': '1848-1851', 'monarch': 'Naser al-Din Shah Qajar', 'known_for': 'Reforms, modernization efforts, and founding Dar ul-Funun (the first modern university in Iran)', 'legacy': \"Considered one of Iran's most influential and respected historical figures, his reforms touched various aspects of Iranian society, including the military, education, and administration. His execution was ordered by the young king Naser al-Din Shah Qajar\"}\n",
      "{'name': 'Amir Kabir', 'birth_name': 'Mirza Taghi Khan', 'birth_date': '1807', 'death_date': '1852', 'nationality': 'Iranian', 'occupation': 'Prime Minister of Iran', 'tenure': '1848-1851', 'monarch': 'Naser al-Din Shah Qajar', 'known_for': 'Reforms, modernization efforts, and founding Dar ul-Funun (the first modern university in Iran)', 'legacy': \"Considered one of Iran's most influential and respected historical figures, his reforms touched various aspects of Iranian society, including the military, education, and administration. His execution was ordered by the young king Naser al-Din Shah Qajar under\"}\n",
      "{'name': 'Amir Kabir', 'birth_name': 'Mirza Taghi Khan', 'birth_date': '1807', 'death_date': '1852', 'nationality': 'Iranian', 'occupation': 'Prime Minister of Iran', 'tenure': '1848-1851', 'monarch': 'Naser al-Din Shah Qajar', 'known_for': 'Reforms, modernization efforts, and founding Dar ul-Funun (the first modern university in Iran)', 'legacy': \"Considered one of Iran's most influential and respected historical figures, his reforms touched various aspects of Iranian society, including the military, education, and administration. His execution was ordered by the young king Naser al-Din Shah Qajar under the\"}\n",
      "{'name': 'Amir Kabir', 'birth_name': 'Mirza Taghi Khan', 'birth_date': '1807', 'death_date': '1852', 'nationality': 'Iranian', 'occupation': 'Prime Minister of Iran', 'tenure': '1848-1851', 'monarch': 'Naser al-Din Shah Qajar', 'known_for': 'Reforms, modernization efforts, and founding Dar ul-Funun (the first modern university in Iran)', 'legacy': \"Considered one of Iran's most influential and respected historical figures, his reforms touched various aspects of Iranian society, including the military, education, and administration. His execution was ordered by the young king Naser al-Din Shah Qajar under the influence\"}\n",
      "{'name': 'Amir Kabir', 'birth_name': 'Mirza Taghi Khan', 'birth_date': '1807', 'death_date': '1852', 'nationality': 'Iranian', 'occupation': 'Prime Minister of Iran', 'tenure': '1848-1851', 'monarch': 'Naser al-Din Shah Qajar', 'known_for': 'Reforms, modernization efforts, and founding Dar ul-Funun (the first modern university in Iran)', 'legacy': \"Considered one of Iran's most influential and respected historical figures, his reforms touched various aspects of Iranian society, including the military, education, and administration. His execution was ordered by the young king Naser al-Din Shah Qajar under the influence of\"}\n",
      "{'name': 'Amir Kabir', 'birth_name': 'Mirza Taghi Khan', 'birth_date': '1807', 'death_date': '1852', 'nationality': 'Iranian', 'occupation': 'Prime Minister of Iran', 'tenure': '1848-1851', 'monarch': 'Naser al-Din Shah Qajar', 'known_for': 'Reforms, modernization efforts, and founding Dar ul-Funun (the first modern university in Iran)', 'legacy': \"Considered one of Iran's most influential and respected historical figures, his reforms touched various aspects of Iranian society, including the military, education, and administration. His execution was ordered by the young king Naser al-Din Shah Qajar under the influence of court\"}\n",
      "{'name': 'Amir Kabir', 'birth_name': 'Mirza Taghi Khan', 'birth_date': '1807', 'death_date': '1852', 'nationality': 'Iranian', 'occupation': 'Prime Minister of Iran', 'tenure': '1848-1851', 'monarch': 'Naser al-Din Shah Qajar', 'known_for': 'Reforms, modernization efforts, and founding Dar ul-Funun (the first modern university in Iran)', 'legacy': \"Considered one of Iran's most influential and respected historical figures, his reforms touched various aspects of Iranian society, including the military, education, and administration. His execution was ordered by the young king Naser al-Din Shah Qajar under the influence of courtiers\"}\n",
      "{'name': 'Amir Kabir', 'birth_name': 'Mirza Taghi Khan', 'birth_date': '1807', 'death_date': '1852', 'nationality': 'Iranian', 'occupation': 'Prime Minister of Iran', 'tenure': '1848-1851', 'monarch': 'Naser al-Din Shah Qajar', 'known_for': 'Reforms, modernization efforts, and founding Dar ul-Funun (the first modern university in Iran)', 'legacy': \"Considered one of Iran's most influential and respected historical figures, his reforms touched various aspects of Iranian society, including the military, education, and administration. His execution was ordered by the young king Naser al-Din Shah Qajar under the influence of courtiers who\"}\n",
      "{'name': 'Amir Kabir', 'birth_name': 'Mirza Taghi Khan', 'birth_date': '1807', 'death_date': '1852', 'nationality': 'Iranian', 'occupation': 'Prime Minister of Iran', 'tenure': '1848-1851', 'monarch': 'Naser al-Din Shah Qajar', 'known_for': 'Reforms, modernization efforts, and founding Dar ul-Funun (the first modern university in Iran)', 'legacy': \"Considered one of Iran's most influential and respected historical figures, his reforms touched various aspects of Iranian society, including the military, education, and administration. His execution was ordered by the young king Naser al-Din Shah Qajar under the influence of courtiers who felt\"}\n",
      "{'name': 'Amir Kabir', 'birth_name': 'Mirza Taghi Khan', 'birth_date': '1807', 'death_date': '1852', 'nationality': 'Iranian', 'occupation': 'Prime Minister of Iran', 'tenure': '1848-1851', 'monarch': 'Naser al-Din Shah Qajar', 'known_for': 'Reforms, modernization efforts, and founding Dar ul-Funun (the first modern university in Iran)', 'legacy': \"Considered one of Iran's most influential and respected historical figures, his reforms touched various aspects of Iranian society, including the military, education, and administration. His execution was ordered by the young king Naser al-Din Shah Qajar under the influence of courtiers who felt threatened\"}\n",
      "{'name': 'Amir Kabir', 'birth_name': 'Mirza Taghi Khan', 'birth_date': '1807', 'death_date': '1852', 'nationality': 'Iranian', 'occupation': 'Prime Minister of Iran', 'tenure': '1848-1851', 'monarch': 'Naser al-Din Shah Qajar', 'known_for': 'Reforms, modernization efforts, and founding Dar ul-Funun (the first modern university in Iran)', 'legacy': \"Considered one of Iran's most influential and respected historical figures, his reforms touched various aspects of Iranian society, including the military, education, and administration. His execution was ordered by the young king Naser al-Din Shah Qajar under the influence of courtiers who felt threatened by\"}\n",
      "{'name': 'Amir Kabir', 'birth_name': 'Mirza Taghi Khan', 'birth_date': '1807', 'death_date': '1852', 'nationality': 'Iranian', 'occupation': 'Prime Minister of Iran', 'tenure': '1848-1851', 'monarch': 'Naser al-Din Shah Qajar', 'known_for': 'Reforms, modernization efforts, and founding Dar ul-Funun (the first modern university in Iran)', 'legacy': \"Considered one of Iran's most influential and respected historical figures, his reforms touched various aspects of Iranian society, including the military, education, and administration. His execution was ordered by the young king Naser al-Din Shah Qajar under the influence of courtiers who felt threatened by his\"}\n",
      "{'name': 'Amir Kabir', 'birth_name': 'Mirza Taghi Khan', 'birth_date': '1807', 'death_date': '1852', 'nationality': 'Iranian', 'occupation': 'Prime Minister of Iran', 'tenure': '1848-1851', 'monarch': 'Naser al-Din Shah Qajar', 'known_for': 'Reforms, modernization efforts, and founding Dar ul-Funun (the first modern university in Iran)', 'legacy': \"Considered one of Iran's most influential and respected historical figures, his reforms touched various aspects of Iranian society, including the military, education, and administration. His execution was ordered by the young king Naser al-Din Shah Qajar under the influence of courtiers who felt threatened by his power\"}\n",
      "{'name': 'Amir Kabir', 'birth_name': 'Mirza Taghi Khan', 'birth_date': '1807', 'death_date': '1852', 'nationality': 'Iranian', 'occupation': 'Prime Minister of Iran', 'tenure': '1848-1851', 'monarch': 'Naser al-Din Shah Qajar', 'known_for': 'Reforms, modernization efforts, and founding Dar ul-Funun (the first modern university in Iran)', 'legacy': \"Considered one of Iran's most influential and respected historical figures, his reforms touched various aspects of Iranian society, including the military, education, and administration. His execution was ordered by the young king Naser al-Din Shah Qajar under the influence of courtiers who felt threatened by his power and\"}\n",
      "{'name': 'Amir Kabir', 'birth_name': 'Mirza Taghi Khan', 'birth_date': '1807', 'death_date': '1852', 'nationality': 'Iranian', 'occupation': 'Prime Minister of Iran', 'tenure': '1848-1851', 'monarch': 'Naser al-Din Shah Qajar', 'known_for': 'Reforms, modernization efforts, and founding Dar ul-Funun (the first modern university in Iran)', 'legacy': \"Considered one of Iran's most influential and respected historical figures, his reforms touched various aspects of Iranian society, including the military, education, and administration. His execution was ordered by the young king Naser al-Din Shah Qajar under the influence of courtiers who felt threatened by his power and reforms\"}\n",
      "{'name': 'Amir Kabir', 'birth_name': 'Mirza Taghi Khan', 'birth_date': '1807', 'death_date': '1852', 'nationality': 'Iranian', 'occupation': 'Prime Minister of Iran', 'tenure': '1848-1851', 'monarch': 'Naser al-Din Shah Qajar', 'known_for': 'Reforms, modernization efforts, and founding Dar ul-Funun (the first modern university in Iran)', 'legacy': \"Considered one of Iran's most influential and respected historical figures, his reforms touched various aspects of Iranian society, including the military, education, and administration. His execution was ordered by the young king Naser al-Din Shah Qajar under the influence of courtiers who felt threatened by his power and reforms.\"}\n"
     ]
    }
   ],
   "source": [
    "async for chunk in chain.astream({'question':'who was Amir kabir?'},):\n",
    "  print(chunk, end='\\n')\n"
   ]
  },
  {
   "cell_type": "code",
   "source": [
    "chunks = []\n",
    "for chunk in chain.stream({'question':'who was Amirkabir?'}):\n",
    "  chunks.append(chunk)\n",
    "  print(chunk, end=\"\\n\", flush=True)"
   ],
   "metadata": {
    "id": "BEylh2UChY64",
    "colab": {
     "base_uri": "https://localhost:8080/"
    },
    "outputId": "36e4b874-2237-423d-cb38-21193a66d141"
   },
   "execution_count": 18,
   "outputs": [
    {
     "output_type": "stream",
     "name": "stdout",
     "text": [
      "{}\n",
      "{'name': ''}\n",
      "{'name': 'Am'}\n",
      "{'name': 'Amirk'}\n",
      "{'name': 'Amirkab'}\n",
      "{'name': 'Amirkabir'}\n",
      "{'name': 'Amirkabir', 'full_name': ''}\n",
      "{'name': 'Amirkabir', 'full_name': 'Mir'}\n",
      "{'name': 'Amirkabir', 'full_name': 'Mirza'}\n",
      "{'name': 'Amirkabir', 'full_name': 'Mirza Tag'}\n",
      "{'name': 'Amirkabir', 'full_name': 'Mirza Taghi'}\n",
      "{'name': 'Amirkabir', 'full_name': 'Mirza Taghi Khan'}\n",
      "{'name': 'Amirkabir', 'full_name': 'Mirza Taghi Khan Far'}\n",
      "{'name': 'Amirkabir', 'full_name': 'Mirza Taghi Khan Farah'}\n",
      "{'name': 'Amirkabir', 'full_name': 'Mirza Taghi Khan Farahani'}\n",
      "{'name': 'Amirkabir', 'full_name': 'Mirza Taghi Khan Farahani', 'birth_date': ''}\n",
      "{'name': 'Amirkabir', 'full_name': 'Mirza Taghi Khan Farahani', 'birth_date': '180'}\n",
      "{'name': 'Amirkabir', 'full_name': 'Mirza Taghi Khan Farahani', 'birth_date': '1807'}\n",
      "{'name': 'Amirkabir', 'full_name': 'Mirza Taghi Khan Farahani', 'birth_date': '1807', 'death_date': ''}\n",
      "{'name': 'Amirkabir', 'full_name': 'Mirza Taghi Khan Farahani', 'birth_date': '1807', 'death_date': '185'}\n",
      "{'name': 'Amirkabir', 'full_name': 'Mirza Taghi Khan Farahani', 'birth_date': '1807', 'death_date': '1852'}\n",
      "{'name': 'Amirkabir', 'full_name': 'Mirza Taghi Khan Farahani', 'birth_date': '1807', 'death_date': '1852', 'nationality': ''}\n",
      "{'name': 'Amirkabir', 'full_name': 'Mirza Taghi Khan Farahani', 'birth_date': '1807', 'death_date': '1852', 'nationality': 'Iran'}\n",
      "{'name': 'Amirkabir', 'full_name': 'Mirza Taghi Khan Farahani', 'birth_date': '1807', 'death_date': '1852', 'nationality': 'Iranian'}\n",
      "{'name': 'Amirkabir', 'full_name': 'Mirza Taghi Khan Farahani', 'birth_date': '1807', 'death_date': '1852', 'nationality': 'Iranian', 'known_for': ''}\n",
      "{'name': 'Amirkabir', 'full_name': 'Mirza Taghi Khan Farahani', 'birth_date': '1807', 'death_date': '1852', 'nationality': 'Iranian', 'known_for': 'Being'}\n",
      "{'name': 'Amirkabir', 'full_name': 'Mirza Taghi Khan Farahani', 'birth_date': '1807', 'death_date': '1852', 'nationality': 'Iranian', 'known_for': 'Being a'}\n",
      "{'name': 'Amirkabir', 'full_name': 'Mirza Taghi Khan Farahani', 'birth_date': '1807', 'death_date': '1852', 'nationality': 'Iranian', 'known_for': 'Being a modern'}\n",
      "{'name': 'Amirkabir', 'full_name': 'Mirza Taghi Khan Farahani', 'birth_date': '1807', 'death_date': '1852', 'nationality': 'Iranian', 'known_for': 'Being a modernizer'}\n",
      "{'name': 'Amirkabir', 'full_name': 'Mirza Taghi Khan Farahani', 'birth_date': '1807', 'death_date': '1852', 'nationality': 'Iranian', 'known_for': 'Being a modernizer and'}\n",
      "{'name': 'Amirkabir', 'full_name': 'Mirza Taghi Khan Farahani', 'birth_date': '1807', 'death_date': '1852', 'nationality': 'Iranian', 'known_for': 'Being a modernizer and reform'}\n",
      "{'name': 'Amirkabir', 'full_name': 'Mirza Taghi Khan Farahani', 'birth_date': '1807', 'death_date': '1852', 'nationality': 'Iranian', 'known_for': 'Being a modernizer and reformer'}\n",
      "{'name': 'Amirkabir', 'full_name': 'Mirza Taghi Khan Farahani', 'birth_date': '1807', 'death_date': '1852', 'nationality': 'Iranian', 'known_for': 'Being a modernizer and reformer,'}\n",
      "{'name': 'Amirkabir', 'full_name': 'Mirza Taghi Khan Farahani', 'birth_date': '1807', 'death_date': '1852', 'nationality': 'Iranian', 'known_for': 'Being a modernizer and reformer, serving'}\n",
      "{'name': 'Amirkabir', 'full_name': 'Mirza Taghi Khan Farahani', 'birth_date': '1807', 'death_date': '1852', 'nationality': 'Iranian', 'known_for': 'Being a modernizer and reformer, serving as'}\n",
      "{'name': 'Amirkabir', 'full_name': 'Mirza Taghi Khan Farahani', 'birth_date': '1807', 'death_date': '1852', 'nationality': 'Iranian', 'known_for': 'Being a modernizer and reformer, serving as the'}\n",
      "{'name': 'Amirkabir', 'full_name': 'Mirza Taghi Khan Farahani', 'birth_date': '1807', 'death_date': '1852', 'nationality': 'Iranian', 'known_for': 'Being a modernizer and reformer, serving as the chief'}\n",
      "{'name': 'Amirkabir', 'full_name': 'Mirza Taghi Khan Farahani', 'birth_date': '1807', 'death_date': '1852', 'nationality': 'Iranian', 'known_for': 'Being a modernizer and reformer, serving as the chief minister'}\n",
      "{'name': 'Amirkabir', 'full_name': 'Mirza Taghi Khan Farahani', 'birth_date': '1807', 'death_date': '1852', 'nationality': 'Iranian', 'known_for': 'Being a modernizer and reformer, serving as the chief minister ('}\n",
      "{'name': 'Amirkabir', 'full_name': 'Mirza Taghi Khan Farahani', 'birth_date': '1807', 'death_date': '1852', 'nationality': 'Iranian', 'known_for': 'Being a modernizer and reformer, serving as the chief minister (Grand'}\n",
      "{'name': 'Amirkabir', 'full_name': 'Mirza Taghi Khan Farahani', 'birth_date': '1807', 'death_date': '1852', 'nationality': 'Iranian', 'known_for': 'Being a modernizer and reformer, serving as the chief minister (Grand V'}\n",
      "{'name': 'Amirkabir', 'full_name': 'Mirza Taghi Khan Farahani', 'birth_date': '1807', 'death_date': '1852', 'nationality': 'Iranian', 'known_for': 'Being a modernizer and reformer, serving as the chief minister (Grand Viz'}\n",
      "{'name': 'Amirkabir', 'full_name': 'Mirza Taghi Khan Farahani', 'birth_date': '1807', 'death_date': '1852', 'nationality': 'Iranian', 'known_for': 'Being a modernizer and reformer, serving as the chief minister (Grand Vizier'}\n",
      "{'name': 'Amirkabir', 'full_name': 'Mirza Taghi Khan Farahani', 'birth_date': '1807', 'death_date': '1852', 'nationality': 'Iranian', 'known_for': 'Being a modernizer and reformer, serving as the chief minister (Grand Vizier)'}\n",
      "{'name': 'Amirkabir', 'full_name': 'Mirza Taghi Khan Farahani', 'birth_date': '1807', 'death_date': '1852', 'nationality': 'Iranian', 'known_for': 'Being a modernizer and reformer, serving as the chief minister (Grand Vizier) to'}\n",
      "{'name': 'Amirkabir', 'full_name': 'Mirza Taghi Khan Farahani', 'birth_date': '1807', 'death_date': '1852', 'nationality': 'Iranian', 'known_for': 'Being a modernizer and reformer, serving as the chief minister (Grand Vizier) to N'}\n",
      "{'name': 'Amirkabir', 'full_name': 'Mirza Taghi Khan Farahani', 'birth_date': '1807', 'death_date': '1852', 'nationality': 'Iranian', 'known_for': 'Being a modernizer and reformer, serving as the chief minister (Grand Vizier) to Naser'}\n",
      "{'name': 'Amirkabir', 'full_name': 'Mirza Taghi Khan Farahani', 'birth_date': '1807', 'death_date': '1852', 'nationality': 'Iranian', 'known_for': 'Being a modernizer and reformer, serving as the chief minister (Grand Vizier) to Naser al'}\n",
      "{'name': 'Amirkabir', 'full_name': 'Mirza Taghi Khan Farahani', 'birth_date': '1807', 'death_date': '1852', 'nationality': 'Iranian', 'known_for': 'Being a modernizer and reformer, serving as the chief minister (Grand Vizier) to Naser al-D'}\n",
      "{'name': 'Amirkabir', 'full_name': 'Mirza Taghi Khan Farahani', 'birth_date': '1807', 'death_date': '1852', 'nationality': 'Iranian', 'known_for': 'Being a modernizer and reformer, serving as the chief minister (Grand Vizier) to Naser al-Din'}\n",
      "{'name': 'Amirkabir', 'full_name': 'Mirza Taghi Khan Farahani', 'birth_date': '1807', 'death_date': '1852', 'nationality': 'Iranian', 'known_for': 'Being a modernizer and reformer, serving as the chief minister (Grand Vizier) to Naser al-Din Shah'}\n",
      "{'name': 'Amirkabir', 'full_name': 'Mirza Taghi Khan Farahani', 'birth_date': '1807', 'death_date': '1852', 'nationality': 'Iranian', 'known_for': 'Being a modernizer and reformer, serving as the chief minister (Grand Vizier) to Naser al-Din Shah Q'}\n",
      "{'name': 'Amirkabir', 'full_name': 'Mirza Taghi Khan Farahani', 'birth_date': '1807', 'death_date': '1852', 'nationality': 'Iranian', 'known_for': 'Being a modernizer and reformer, serving as the chief minister (Grand Vizier) to Naser al-Din Shah Qajar'}\n",
      "{'name': 'Amirkabir', 'full_name': 'Mirza Taghi Khan Farahani', 'birth_date': '1807', 'death_date': '1852', 'nationality': 'Iranian', 'known_for': 'Being a modernizer and reformer, serving as the chief minister (Grand Vizier) to Naser al-Din Shah Qajar', 'contributions': []}\n",
      "{'name': 'Amirkabir', 'full_name': 'Mirza Taghi Khan Farahani', 'birth_date': '1807', 'death_date': '1852', 'nationality': 'Iranian', 'known_for': 'Being a modernizer and reformer, serving as the chief minister (Grand Vizier) to Naser al-Din Shah Qajar', 'contributions': [{}]}\n",
      "{'name': 'Amirkabir', 'full_name': 'Mirza Taghi Khan Farahani', 'birth_date': '1807', 'death_date': '1852', 'nationality': 'Iranian', 'known_for': 'Being a modernizer and reformer, serving as the chief minister (Grand Vizier) to Naser al-Din Shah Qajar', 'contributions': [{'title': ''}]}\n",
      "{'name': 'Amirkabir', 'full_name': 'Mirza Taghi Khan Farahani', 'birth_date': '1807', 'death_date': '1852', 'nationality': 'Iranian', 'known_for': 'Being a modernizer and reformer, serving as the chief minister (Grand Vizier) to Naser al-Din Shah Qajar', 'contributions': [{'title': 'Educ'}]}\n",
      "{'name': 'Amirkabir', 'full_name': 'Mirza Taghi Khan Farahani', 'birth_date': '1807', 'death_date': '1852', 'nationality': 'Iranian', 'known_for': 'Being a modernizer and reformer, serving as the chief minister (Grand Vizier) to Naser al-Din Shah Qajar', 'contributions': [{'title': 'Educational'}]}\n",
      "{'name': 'Amirkabir', 'full_name': 'Mirza Taghi Khan Farahani', 'birth_date': '1807', 'death_date': '1852', 'nationality': 'Iranian', 'known_for': 'Being a modernizer and reformer, serving as the chief minister (Grand Vizier) to Naser al-Din Shah Qajar', 'contributions': [{'title': 'Educational reforms'}]}\n",
      "{'name': 'Amirkabir', 'full_name': 'Mirza Taghi Khan Farahani', 'birth_date': '1807', 'death_date': '1852', 'nationality': 'Iranian', 'known_for': 'Being a modernizer and reformer, serving as the chief minister (Grand Vizier) to Naser al-Din Shah Qajar', 'contributions': [{'title': 'Educational reforms', 'description': ''}]}\n",
      "{'name': 'Amirkabir', 'full_name': 'Mirza Taghi Khan Farahani', 'birth_date': '1807', 'death_date': '1852', 'nationality': 'Iranian', 'known_for': 'Being a modernizer and reformer, serving as the chief minister (Grand Vizier) to Naser al-Din Shah Qajar', 'contributions': [{'title': 'Educational reforms', 'description': 'Founded'}]}\n",
      "{'name': 'Amirkabir', 'full_name': 'Mirza Taghi Khan Farahani', 'birth_date': '1807', 'death_date': '1852', 'nationality': 'Iranian', 'known_for': 'Being a modernizer and reformer, serving as the chief minister (Grand Vizier) to Naser al-Din Shah Qajar', 'contributions': [{'title': 'Educational reforms', 'description': 'Founded Dar'}]}\n",
      "{'name': 'Amirkabir', 'full_name': 'Mirza Taghi Khan Farahani', 'birth_date': '1807', 'death_date': '1852', 'nationality': 'Iranian', 'known_for': 'Being a modernizer and reformer, serving as the chief minister (Grand Vizier) to Naser al-Din Shah Qajar', 'contributions': [{'title': 'Educational reforms', 'description': 'Founded Dar ul'}]}\n",
      "{'name': 'Amirkabir', 'full_name': 'Mirza Taghi Khan Farahani', 'birth_date': '1807', 'death_date': '1852', 'nationality': 'Iranian', 'known_for': 'Being a modernizer and reformer, serving as the chief minister (Grand Vizier) to Naser al-Din Shah Qajar', 'contributions': [{'title': 'Educational reforms', 'description': 'Founded Dar ul-F'}]}\n",
      "{'name': 'Amirkabir', 'full_name': 'Mirza Taghi Khan Farahani', 'birth_date': '1807', 'death_date': '1852', 'nationality': 'Iranian', 'known_for': 'Being a modernizer and reformer, serving as the chief minister (Grand Vizier) to Naser al-Din Shah Qajar', 'contributions': [{'title': 'Educational reforms', 'description': 'Founded Dar ul-Fun'}]}\n",
      "{'name': 'Amirkabir', 'full_name': 'Mirza Taghi Khan Farahani', 'birth_date': '1807', 'death_date': '1852', 'nationality': 'Iranian', 'known_for': 'Being a modernizer and reformer, serving as the chief minister (Grand Vizier) to Naser al-Din Shah Qajar', 'contributions': [{'title': 'Educational reforms', 'description': 'Founded Dar ul-Funun'}]}\n",
      "{'name': 'Amirkabir', 'full_name': 'Mirza Taghi Khan Farahani', 'birth_date': '1807', 'death_date': '1852', 'nationality': 'Iranian', 'known_for': 'Being a modernizer and reformer, serving as the chief minister (Grand Vizier) to Naser al-Din Shah Qajar', 'contributions': [{'title': 'Educational reforms', 'description': 'Founded Dar ul-Funun,'}]}\n",
      "{'name': 'Amirkabir', 'full_name': 'Mirza Taghi Khan Farahani', 'birth_date': '1807', 'death_date': '1852', 'nationality': 'Iranian', 'known_for': 'Being a modernizer and reformer, serving as the chief minister (Grand Vizier) to Naser al-Din Shah Qajar', 'contributions': [{'title': 'Educational reforms', 'description': 'Founded Dar ul-Funun, the'}]}\n",
      "{'name': 'Amirkabir', 'full_name': 'Mirza Taghi Khan Farahani', 'birth_date': '1807', 'death_date': '1852', 'nationality': 'Iranian', 'known_for': 'Being a modernizer and reformer, serving as the chief minister (Grand Vizier) to Naser al-Din Shah Qajar', 'contributions': [{'title': 'Educational reforms', 'description': 'Founded Dar ul-Funun, the first'}]}\n",
      "{'name': 'Amirkabir', 'full_name': 'Mirza Taghi Khan Farahani', 'birth_date': '1807', 'death_date': '1852', 'nationality': 'Iranian', 'known_for': 'Being a modernizer and reformer, serving as the chief minister (Grand Vizier) to Naser al-Din Shah Qajar', 'contributions': [{'title': 'Educational reforms', 'description': 'Founded Dar ul-Funun, the first modern'}]}\n",
      "{'name': 'Amirkabir', 'full_name': 'Mirza Taghi Khan Farahani', 'birth_date': '1807', 'death_date': '1852', 'nationality': 'Iranian', 'known_for': 'Being a modernizer and reformer, serving as the chief minister (Grand Vizier) to Naser al-Din Shah Qajar', 'contributions': [{'title': 'Educational reforms', 'description': 'Founded Dar ul-Funun, the first modern university'}]}\n",
      "{'name': 'Amirkabir', 'full_name': 'Mirza Taghi Khan Farahani', 'birth_date': '1807', 'death_date': '1852', 'nationality': 'Iranian', 'known_for': 'Being a modernizer and reformer, serving as the chief minister (Grand Vizier) to Naser al-Din Shah Qajar', 'contributions': [{'title': 'Educational reforms', 'description': 'Founded Dar ul-Funun, the first modern university in'}]}\n",
      "{'name': 'Amirkabir', 'full_name': 'Mirza Taghi Khan Farahani', 'birth_date': '1807', 'death_date': '1852', 'nationality': 'Iranian', 'known_for': 'Being a modernizer and reformer, serving as the chief minister (Grand Vizier) to Naser al-Din Shah Qajar', 'contributions': [{'title': 'Educational reforms', 'description': 'Founded Dar ul-Funun, the first modern university in Iran'}]}\n",
      "{'name': 'Amirkabir', 'full_name': 'Mirza Taghi Khan Farahani', 'birth_date': '1807', 'death_date': '1852', 'nationality': 'Iranian', 'known_for': 'Being a modernizer and reformer, serving as the chief minister (Grand Vizier) to Naser al-Din Shah Qajar', 'contributions': [{'title': 'Educational reforms', 'description': 'Founded Dar ul-Funun, the first modern university in Iran.'}]}\n",
      "{'name': 'Amirkabir', 'full_name': 'Mirza Taghi Khan Farahani', 'birth_date': '1807', 'death_date': '1852', 'nationality': 'Iranian', 'known_for': 'Being a modernizer and reformer, serving as the chief minister (Grand Vizier) to Naser al-Din Shah Qajar', 'contributions': [{'title': 'Educational reforms', 'description': 'Founded Dar ul-Funun, the first modern university in Iran.'}, {}]}\n"
     ]
    }
   ]
  },
  {
   "cell_type": "code",
   "source": [
    "\n",
    "model_parser = llm | StrOutputParser()\n",
    "\n",
    "### terapist chain\n",
    "terapist_prompt = PromptTemplate(template=\"You are a helpful therapy assistant. Please answer {question}.\", input_variables=[\"question\"])\n",
    "terapist = terapist_prompt | model_parser\n",
    "\n",
    "\n",
    "### code developer chain\n",
    "code_developer_prompt = PromptTemplate(template='you are an excellent {language} developer. please answer {question}', input_variables=['language', 'question'])\n",
    "code_developer = code_developer_prompt | model_parser\n",
    "\n",
    "\n",
    "\n",
    "### general chain\n",
    "general_chain = (\n",
    "    PromptTemplate.from_template(\n",
    "        \"\"\"Respond to the following question:Question: {question} Answer:\"\"\"\n",
    "    )\n",
    "    | model_parser\n",
    ")\n"
   ],
   "metadata": {
    "id": "B-vxGHFCkfGj"
   },
   "execution_count": 19,
   "outputs": []
  },
  {
   "cell_type": "code",
   "source": [
    "from langchain_core.runnables import RunnableBranch, RunnableParallel\n",
    "### A RunnableBranch is initialized with a list of (condition, runnable) pairs and a default runnable.\n",
    "\n",
    "branch = RunnableBranch(\n",
    "    (lambda x: \"terapy\" ==x[\"topic\"].lower(), terapist),\n",
    "    (lambda x: \"code\" in x[\"topic\"].lower(), code_developer),\n",
    "    general_chain\n",
    ")"
   ],
   "metadata": {
    "id": "-mUD8p4OCbm4"
   },
   "execution_count": 20,
   "outputs": []
  },
  {
   "cell_type": "code",
   "source": [
    "full_chain = {\"topic\": lambda x: x[\"topic\"],\n",
    "              \"question\": lambda x: x[\"question\"], \"language\":lambda x: x.get('language', None)} | branch\n",
    "\n"
   ],
   "metadata": {
    "id": "2bffiqOBsrJY"
   },
   "execution_count": 21,
   "outputs": []
  },
  {
   "cell_type": "code",
   "source": [
    "full_chain.invoke({'topic': 'code', 'question': 'What is the difference between a list and a tuple?', 'language': 'python'})"
   ],
   "metadata": {
    "colab": {
     "base_uri": "https://localhost:8080/",
     "height": 140
    },
    "id": "QVd0C13vtDb7",
    "outputId": "fa83873f-749f-406f-f395-256789751feb"
   },
   "execution_count": 22,
   "outputs": [
    {
     "output_type": "execute_result",
     "data": {
      "text/plain": [
       "'In Python, both lists and tuples are used to store collections of items. However, there are several key differences between the two:\\n\\n1. Mutability:\\n   - List: Lists are mutable, which means that you can change, add, or remove items after the list has been created.\\n   - Tuple: Tuples are immutable, which means that once a tuple is created, you cannot change, add, or remove items from it.\\n\\n2. Syntax:\\n   - List: Lists are defined using square brackets `[]`.\\n     Example: `my_list = [1, 2, 3]`\\n   - Tuple: Tuples are defined using parentheses `()`.\\n     Example: `my_tuple = (1, 2, 3)`\\n\\n3. Performance:\\n   - List: Due to their mutability, lists have a slightly larger memory overhead and can be slower to iterate through compared to tuples.\\n   - Tuple: Tuples have a smaller memory footprint and can be faster to iterate through because they are immutable and their size is fixed.\\n\\n4. Use Cases:\\n   - List: Lists are generally used when you have a collection of items that may need to be modified during the execution of a program, such as a list of user inputs or a list of results from a series of computations.\\n   - Tuple: Tuples are typically used for heterogeneous data (data of different types) and to create records that should not change, such as the coordinates of a point (x, y) or a record from a database.\\n\\n5. Methods:\\n   - List: Lists have several methods available for performing operations such as `append()`, `remove()`, `pop()`, `insert()`, `sort()`, and more.\\n   - Tuple: Tuples have fewer methods available, such as `count()` and `index()`, because they are immutable and cannot be modified after creation.\\n\\n6. Hashability:\\n   - List: Lists cannot be used as keys in dictionaries because they are mutable and thus unhashable.\\n   - Tuple: Tuples can be used as keys in dictionaries, provided that all of the elements within the tuple are also immutable and hashable.\\n\\nIn summary, the choice between a list and a tuple in Python often comes down to whether you need a mutable or immutable collection, with lists being appropriate for mutable collections and tuples for immutable ones.'"
      ],
      "application/vnd.google.colaboratory.intrinsic+json": {
       "type": "string"
      }
     },
     "metadata": {},
     "execution_count": 22
    }
   ]
  },
  {
   "cell_type": "code",
   "source": [
    "\n",
    "template = \"\"\"Just classify the topic of the following question: {question} into one of these three categories:\n",
    " ['code', 'therapy', 'general'] with just one category without any explanation.\"\"\"\n",
    "\n",
    "prompt = PromptTemplate(template=template,\n",
    "                        input_variables=['question'])\n",
    "classifier_chain = prompt | model_parser\n",
    "\n"
   ],
   "metadata": {
    "id": "Qbt8_RNpyTXM"
   },
   "execution_count": 23,
   "outputs": []
  },
  {
   "cell_type": "code",
   "source": [
    "classifier_chain.invoke({'question': 'I lost my father 4 years ago and I still miss him'})"
   ],
   "metadata": {
    "colab": {
     "base_uri": "https://localhost:8080/",
     "height": 35
    },
    "id": "lFQxQVzHNjLn",
    "outputId": "b1e092b4-29f4-4e74-804f-b081a4543d20"
   },
   "execution_count": 24,
   "outputs": [
    {
     "output_type": "execute_result",
     "data": {
      "text/plain": [
       "'therapy'"
      ],
      "application/vnd.google.colaboratory.intrinsic+json": {
       "type": "string"
      }
     },
     "metadata": {},
     "execution_count": 24
    }
   ]
  },
  {
   "cell_type": "code",
   "source": [
    "from operator import itemgetter\n",
    "final_chain = ({'topic': classifier_chain, 'question': itemgetter(\"question\"), 'language': lambda x: x.get(\"language\",None)} | branch)\n"
   ],
   "metadata": {
    "id": "eEzFyJz7KqER"
   },
   "execution_count": 25,
   "outputs": []
  },
  {
   "cell_type": "code",
   "source": [
    "final_chain.invoke({'question': 'I lost my father 4 years ago and I still miss him'})"
   ],
   "metadata": {
    "colab": {
     "base_uri": "https://localhost:8080/",
     "height": 105
    },
    "id": "Mo9yYDTLHNo4",
    "outputId": "c5617c8f-cd6c-47ed-8eb0-25bebdf69691"
   },
   "execution_count": 26,
   "outputs": [
    {
     "output_type": "execute_result",
     "data": {
      "text/plain": [
       "\"I'm truly sorry for your loss. It's completely natural to miss someone who played such a significant role in your life, no matter how much time has passed. Grief doesn't have a set timeline, and it's okay to feel the absence of your father even years later. Remember that it's important to allow yourself to experience these feelings and to seek support from friends, family, or a professional if you find that your grief is overwhelming. Cherish the memories you have of your father, and know that it's a testament to the love you shared that he is still so dearly missed. Take care of yourself, and don't hesitate to reach out to others when you need comfort.\""
      ],
      "application/vnd.google.colaboratory.intrinsic+json": {
       "type": "string"
      }
     },
     "metadata": {},
     "execution_count": 26
    }
   ]
  },
  {
   "cell_type": "code",
   "source": [
    "final_chain.invoke({ 'question': 'What is the difference between a list and a tuple?', 'language': 'python'})"
   ],
   "metadata": {
    "colab": {
     "base_uri": "https://localhost:8080/",
     "height": 140
    },
    "id": "Ee5U4JlBt-7G",
    "outputId": "4ff31f38-e3de-4a91-81cb-bb8552a4eda4"
   },
   "execution_count": 27,
   "outputs": [
    {
     "output_type": "execute_result",
     "data": {
      "text/plain": [
       "'In Python, both lists and tuples are used to store collections of items. However, there are some key differences between the two:\\n\\n1. Mutability:\\n   - List: Lists are mutable, which means that you can change, add, or remove items after the list has been created.\\n   - Tuple: Tuples are immutable, which means that once a tuple is created, you cannot change, add, or remove items from it.\\n\\n2. Syntax:\\n   - List: Lists are defined using square brackets `[]`. For example: `my_list = [1, 2, 3]`.\\n   - Tuple: Tuples are defined using parentheses `()`. For example: `my_tuple = (1, 2, 3)`. Note that for a single-element tuple, a trailing comma is required, e.g., `single_element_tuple = (1,)`.\\n\\n3. Performance:\\n   - List: Due to their mutability, lists have a slightly larger memory overhead and can be a bit slower for certain operations compared to tuples.\\n   - Tuple: Tuples have a smaller memory footprint and can be more efficient when it comes to iteration and other operations due to their immutability.\\n\\n4. Use Cases:\\n   - List: Lists are generally used when you have a collection of items that may need to be modified during the course of your program. They are suitable for maintaining an ordered sequence of items that can change over time.\\n   - Tuple: Tuples are typically used for heterogeneous data (data of different types) and can act as a record with no need for modification. They are often used for functions that return multiple values or for packing and unpacking sequences.\\n\\n5. Methods:\\n   - List: Lists have several methods available for performing operations such as `append()`, `remove()`, `pop()`, `insert()`, `sort()`, and more.\\n   - Tuple: Tuples have fewer methods available, such as `count()` and `index()`, because they cannot be modified after creation.\\n\\nIn summary, the choice between a list and a tuple in Python often comes down to whether you need a mutable or immutable sequence. Lists are more flexible for handling data that can change, while tuples are more suitable for fixed collections of items.'"
      ],
      "application/vnd.google.colaboratory.intrinsic+json": {
       "type": "string"
      }
     },
     "metadata": {},
     "execution_count": 27
    }
   ]
  },
  {
   "cell_type": "code",
   "source": [],
   "metadata": {
    "id": "xL4hYud-x8v8"
   },
   "execution_count": null,
   "outputs": []
  }
 ],
 "metadata": {
  "colab": {
   "provenance": []
  },
  "kernelspec": {
   "display_name": "Python 3 (ipykernel)",
   "name": "python3",
   "language": "python"
  },
  "language_info": {
   "name": "python"
  }
 },
 "nbformat": 4,
 "nbformat_minor": 0
}
