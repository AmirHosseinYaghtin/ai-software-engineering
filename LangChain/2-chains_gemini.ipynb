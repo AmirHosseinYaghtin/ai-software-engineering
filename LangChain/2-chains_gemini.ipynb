{
  "cells": [
    {
      "cell_type": "markdown",
      "metadata": {
        "id": "i46NG74TKx8o"
      },
      "source": [
        "Chains allow us to combine multiple components together to create a single, coherent application\n"
      ]
    },
    {
      "cell_type": "code",
      "metadata": {
        "id": "lp-jHfgrPbzu",
        "colab": {
          "base_uri": "https://localhost:8080/"
        },
        "outputId": "d551723d-3c33-45d2-f4c0-302d3f81f71e",
        "ExecuteTime": {
          "end_time": "2025-06-30T07:27:01.236883Z",
          "start_time": "2025-06-30T07:27:01.218962Z"
        }
      },
      "source": [
        "!pip install -q  langchain-openai langchain_community tiktoken langchain langchain_google_genai"
      ],
      "outputs": [
        {
          "output_type": "stream",
          "name": "stdout",
          "text": [
            "\u001b[2K   \u001b[90m━━━━━━━━━━━━━━━━━━━━━━━━━━━━━━━━━━━━━━━━\u001b[0m \u001b[32m47.4/47.4 kB\u001b[0m \u001b[31m1.9 MB/s\u001b[0m eta \u001b[36m0:00:00\u001b[0m\n",
            "\u001b[2K   \u001b[90m━━━━━━━━━━━━━━━━━━━━━━━━━━━━━━━━━━━━━━━━\u001b[0m \u001b[32m1.4/1.4 MB\u001b[0m \u001b[31m18.0 MB/s\u001b[0m eta \u001b[36m0:00:00\u001b[0m\n",
            "\u001b[?25h\u001b[31mERROR: pip's dependency resolver does not currently take into account all the packages that are installed. This behaviour is the source of the following dependency conflicts.\n",
            "google-generativeai 0.8.5 requires google-ai-generativelanguage==0.6.15, but you have google-ai-generativelanguage 0.6.18 which is incompatible.\u001b[0m\u001b[31m\n",
            "\u001b[0m"
          ]
        }
      ],
      "execution_count": 14
    },
    {
      "cell_type": "code",
      "metadata": {
        "id": "deXkfUwPNVxT",
        "ExecuteTime": {
          "end_time": "2025-06-30T13:21:28.660951Z",
          "start_time": "2025-06-30T13:21:28.647533Z"
        }
      },
      "source": [
        "# from dotenv import load_dotenv\n",
        "import os\n",
        "from google.colab import userdata"
      ],
      "outputs": [],
      "execution_count": 7
    },
    {
      "metadata": {
        "ExecuteTime": {
          "end_time": "2025-06-30T13:36:52.812050Z",
          "start_time": "2025-06-30T13:36:52.782422Z"
        },
        "id": "HFxhQ15iFTHK"
      },
      "cell_type": "code",
      "source": [
        "# load_dotenv()\n",
        "# gemini_api_key = os.getenv('GOOGLE_API_KEY')\n",
        "gemini_api_key = userdata.get('GOOGLE_API_KEY')\n",
        "# print(gemini_api_key)"
      ],
      "outputs": [],
      "execution_count": 9
    },
    {
      "cell_type": "code",
      "metadata": {
        "id": "CuelJK2qKy-h",
        "ExecuteTime": {
          "end_time": "2025-06-30T13:43:56.567098Z",
          "start_time": "2025-06-30T13:43:56.555594Z"
        }
      },
      "source": [
        "from langchain.chains import LLMChain\n",
        "from langchain_google_genai import ChatGoogleGenerativeAI\n",
        "\n",
        "from langchain.prompts import PromptTemplate\n",
        "prompt = PromptTemplate.from_template(\"What is the best name for a company that makes {product}?\")\n",
        "llm = ChatGoogleGenerativeAI(model=\"gemini-2.0-flash\", google_api_key=gemini_api_key, temperature=0)\n",
        "chain = LLMChain(llm=llm, prompt=prompt)"
      ],
      "outputs": [],
      "execution_count": 23
    },
    {
      "cell_type": "code",
      "source": [
        "llm.invoke(prompt.format(product=\"colorful socks\"))"
      ],
      "metadata": {
        "colab": {
          "base_uri": "https://localhost:8080/"
        },
        "id": "pKjmyh_ygD1V",
        "outputId": "7b4a3f66-7b70-4525-db4c-0f5124214f29",
        "ExecuteTime": {
          "end_time": "2025-06-30T13:44:00.276835Z",
          "start_time": "2025-06-30T13:43:56.693045Z"
        }
      },
      "outputs": [
        {
          "output_type": "execute_result",
          "data": {
            "text/plain": [
              "AIMessage(content=\"Okay, let's brainstorm some names for a colorful sock company! I'll try to come up with a variety of options, playing with different angles:\\n\\n**1. Emphasizing Color & Vibrancy:**\\n\\n*   **Hue Happy:** Simple, cheerful, and directly relates to color.\\n*   **Chromatic Threads:**  A bit more sophisticated, highlighting the colorful threads.\\n*   **KaleidoSocks:**  Evokes the image of a kaleidoscope, full of vibrant patterns.\\n*   **Prism Footwear:**  Connects to the idea of light and color separation.\\n*   **Rainbow Runners:** Playful and suggests movement and activity.\\n*   **Colorburst Socks:**  A dynamic and energetic name.\\n*   **Vivid Soles:**  Focuses on the vibrant colors on the soles of the feet.\\n*   **Spectrum Socks:**  Encompasses the full range of colors.\\n\\n**2. Emphasizing Fun & Playfulness:**\\n\\n*   **Sock Hop:**  A retro and fun name.\\n*   **Foot Flairs:**  Suggests adding personality to your feet.\\n*   **Sole Mates:**  A cute and memorable name.\\n*   **Toe-tally Awesome Socks:**  A punny and lighthearted option.\\n*   **Happy Feet Co.:** Simple, positive, and memorable.\\n*   **Sock Monkeys:** Playful and evokes a sense of fun.\\n*   **The Sock Drawer:** Suggests a treasure trove of colorful socks.\\n\\n**3. Emphasizing Quality & Craftsmanship:**\\n\\n*   **Artisan Socks:**  Highlights the skill and care put into making the socks.\\n*   **Crafted Color:**  Emphasizes the artistry of the colors.\\n*   **The Sock Smith:**  A classic and trustworthy name.\\n*   **Woven Wonders:**  Suggests the intricate designs and quality of the socks.\\n*   **Threadbare Treasures:** A bit ironic, but suggests unique and valuable socks.\\n\\n**4. Modern & Minimalist:**\\n\\n*   **Sock Co.** (Simple and direct)\\n*   **Color Sock** (Short and to the point)\\n*   **The Sock Studio** (Suggests creativity and design)\\n*   **Solely Color** (Focuses on the color aspect)\\n\\n**5. Unique & Catchy:**\\n\\n*   **Sockadoodle:**  A fun and whimsical name.\\n*   **Foot Notes:**  A clever play on words.\\n*   **Sock Alchemy:**  Suggests transforming ordinary socks into something special.\\n*   **The Sock Spot:**  A memorable and easy-to-find name.\\n*   **Socktopia:**  A playful name suggesting a paradise of socks.\\n\\n**To help me narrow it down, consider these questions:**\\n\\n*   **What is your target audience?** (Young adults, professionals, kids, etc.)\\n*   **What is the price point of your socks?** (Luxury, affordable, etc.)\\n*   **What is the overall brand aesthetic you're going for?** (Modern, quirky, classic, etc.)\\n*   **Do you want a name that is easy to spell and pronounce?**\\n*   **Is the domain name available?** (Very important!)\\n\\nOnce you answer these questions, I can give you even more tailored suggestions!\", additional_kwargs={}, response_metadata={'prompt_feedback': {'block_reason': 0, 'safety_ratings': []}, 'finish_reason': 'STOP', 'model_name': 'gemini-2.0-flash', 'safety_ratings': []}, id='run--d7c215a4-a13f-4790-9578-a5dfbd631b4f-0', usage_metadata={'input_tokens': 13, 'output_tokens': 706, 'total_tokens': 719, 'input_token_details': {'cache_read': 0}})"
            ]
          },
          "metadata": {},
          "execution_count": 20
        }
      ],
      "execution_count": 20
    },
    {
      "cell_type": "code",
      "execution_count": 21,
      "metadata": {
        "id": "Gze7YvJHPvKF",
        "colab": {
          "base_uri": "https://localhost:8080/"
        },
        "outputId": "fccd1001-5aef-4ffd-e235-46aecf352124"
      },
      "outputs": [
        {
          "output_type": "execute_result",
          "data": {
            "text/plain": [
              "{'product': 'colorful socks',\n",
              " 'text': 'Okay, let\\'s brainstorm some names for a colorful sock company, keeping in mind memorability, brandability, and target audience. I\\'ll categorize them for easier browsing:\\n\\n**I. Playful & Fun:**\\n\\n*   **Sock Hop:** Evokes a sense of fun and movement.\\n*   **Toe-tally Awesome Socks:** A punny and lighthearted option.\\n*   **Sock Monkey Business:** Playful and memorable.\\n*   **Happy Feet Socks:** Simple, positive, and relatable.\\n*   **Sock It To Me:** A bit retro, but fun and attention-grabbing.\\n*   **Sockaroo:** Cute and memorable.\\n*   **Socktopia:** A whimsical name suggesting a paradise of socks.\\n*   **Socktastic:** A simple and enthusiastic option.\\n*   **Sole Mates:** A cute and heartwarming name.\\n*   **Sock Dreams:** Evokes comfort and imagination.\\n\\n**II. Descriptive & Bold:**\\n\\n*   **Chromatic Socks:** Emphasizes the color aspect.\\n*   **Kaleidoscope Socks:** Suggests a vibrant and diverse range.\\n*   **Prism Socks:** Similar to Kaleidoscope, highlighting color.\\n*   **Vivid Threads:** Focuses on the colorful yarn.\\n*   **Rainbow Runners:** Implies colorful socks for active wear.\\n*   **Color Burst Socks:** A dynamic and energetic name.\\n*   **Hue Haven:** A place for colorful socks.\\n\\n**III. Modern & Minimalist:**\\n\\n*   **Sock Co.** (Simple and classic)\\n*   **The Sock Studio:** Suggests a focus on design.\\n*   **Thread & Sole:** A sophisticated and understated name.\\n*   **Socksmith:** Implies craftsmanship and artistry.\\n*   **Solely Socks:** Simple and direct.\\n\\n**IV. Quirky & Unique:**\\n\\n*   **Sock Alchemy:** Suggests a magical transformation through socks.\\n*   **The Sock Drawer Diaries:** Implies a collection of stories and personalities.\\n*   **Sockzilla:** A fun and slightly absurd name.\\n*   **Foot Fetish (Socks):** A bit edgy, but could be memorable (use with caution!).\\n*   **Sock Whisperer:** Implies a deep understanding of socks.\\n\\n**V. Location Based (If Applicable):**\\n\\n*   If you\\'re based in a specific city or region, incorporating that into the name can add a local touch (e.g., \"Austin Sock Company\").\\n\\n**Tips for Choosing the Best Name:**\\n\\n*   **Target Audience:** Who are you trying to reach? A younger audience might appreciate a more playful name, while a more sophisticated audience might prefer something minimalist.\\n*   **Availability:** Check if the name is available as a domain name (.com is ideal) and as a social media handle.\\n*   **Memorability:** Is the name easy to remember and pronounce?\\n*   **Brandability:** Does the name lend itself well to a logo and overall brand identity?\\n*   **Trademark:** Do a trademark search to ensure the name isn\\'t already in use in your industry.\\n\\n**My Top Recommendations (Based on a balance of factors):**\\n\\n*   **Happy Feet Socks:** Simple, positive, and relatable.\\n*   **Kaleidoscope Socks:** Suggests a vibrant and diverse range.\\n*   **Sock Co.:** Clean, simple, and versatile.\\n*   **Sock Hop:** Evokes a sense of fun and movement.\\n\\nUltimately, the best name will depend on your specific brand vision and target audience. Good luck!'}"
            ]
          },
          "metadata": {},
          "execution_count": 21
        }
      ],
      "source": [
        "chain.invoke({'product':\"colorful socks\"})"
      ]
    },
    {
      "cell_type": "code",
      "source": [
        "chain.invoke(\"colorful socks\", return_only_outputs=True)"
      ],
      "metadata": {
        "id": "k9cXSk1gEwDb",
        "colab": {
          "base_uri": "https://localhost:8080/"
        },
        "outputId": "a30e291f-f7c1-4593-faf5-c79f209d0280"
      },
      "execution_count": 22,
      "outputs": [
        {
          "output_type": "execute_result",
          "data": {
            "text/plain": [
              "{'text': \"Okay, let's brainstorm some names for a colorful sock company! I'll try to come up with a variety of options, playing with different angles:\\n\\n**1. Emphasizing Color & Vibrancy:**\\n\\n*   **Hue Happy:** Simple, cheerful, and directly relates to color.\\n*   **Chromatic Threads:**  A bit more sophisticated, highlighting the colorful threads.\\n*   **KaleidoSocks:**  Evokes the image of a kaleidoscope, full of vibrant patterns.\\n*   **Prism Footwear:**  Connects to the idea of light and color separation.\\n*   **Rainbow Runners:** Playful and suggests movement and activity.\\n*   **Colorburst Socks:**  A dynamic and energetic name.\\n*   **Vivid Soles:**  Focuses on the vibrant colors on the soles of the feet.\\n*   **Spectrum Socks:**  Encompasses the full range of colors.\\n\\n**2. Emphasizing Fun & Playfulness:**\\n\\n*   **Sock Hop:**  A retro and fun name.\\n*   **Foot Flairs:**  Suggests adding personality to your feet.\\n*   **Sole Mates:**  A cute and memorable name.\\n*   **Toe-tally Awesome Socks:**  A punny and lighthearted option.\\n*   **Happy Feet Co.:** Simple, positive, and memorable.\\n*   **Sock Monkeys:** Playful and evokes a sense of fun.\\n*   **The Sock Drawer:** Suggests a treasure trove of colorful socks.\\n\\n**3. Emphasizing Quality & Craftsmanship:**\\n\\n*   **Artisan Socks:**  Highlights the skill and care put into making the socks.\\n*   **Crafted Color:**  Emphasizes the artistry of the colors.\\n*   **The Sock Smith:**  A classic and trustworthy name.\\n*   **Woven Wonders:**  Suggests the intricate designs and quality of the socks.\\n*   **Threadbare Treasures:** A bit ironic, but suggests unique and valuable socks.\\n\\n**4. Modern & Minimalist:**\\n\\n*   **Sock Co.** (Simple and direct)\\n*   **Color Sock** (Short and to the point)\\n*   **The Sock Studio** (Suggests creativity and design)\\n*   **Solely Color** (Focuses on the color aspect)\\n\\n**5. Unique & Catchy:**\\n\\n*   **Sockadoodle:**  A fun and whimsical name.\\n*   **Foot Notes:**  A clever play on words.\\n*   **Sock Alchemy:**  Suggests transforming ordinary socks into something special.\\n*   **The Sock Spot:**  A memorable and easy-to-find name.\\n*   **Socktopia:**  A playful name suggesting a paradise of socks.\\n\\n**To help me narrow it down, consider these questions:**\\n\\n*   **What is your target audience?** (Young adults, professionals, kids, etc.)\\n*   **What is the price point of your socks?** (Luxury, affordable, etc.)\\n*   **What is the overall brand aesthetic you're going for?** (Modern, quirky, classic, etc.)\\n*   **Do you want a name that is easy to spell and pronounce?**\\n*   **Is the domain name available?** (Very important!)\\n\\nOnce you answer these questions, I can give you even more tailored suggestions!\"}"
            ]
          },
          "metadata": {},
          "execution_count": 22
        }
      ]
    },
    {
      "cell_type": "code",
      "source": [
        "from langchain.chains import LLMMathChain\n",
        "\n",
        "llm_math = LLMMathChain.from_llm(llm, verbose=True)\n",
        "#\n"
      ],
      "metadata": {
        "id": "7VpOqzyKGqdD"
      },
      "execution_count": 24,
      "outputs": []
    },
    {
      "cell_type": "code",
      "source": [
        "llm_math.prompt.template"
      ],
      "metadata": {
        "colab": {
          "base_uri": "https://localhost:8080/",
          "height": 87
        },
        "id": "vxLva-_xHa5u",
        "outputId": "40e078db-6ab5-48e9-993c-1f7577ba9e11"
      },
      "execution_count": 25,
      "outputs": [
        {
          "output_type": "execute_result",
          "data": {
            "text/plain": [
              "'Translate a math problem into a expression that can be executed using Python\\'s numexpr library. Use the output of running this code to answer the question.\\n\\nQuestion: ${{Question with math problem.}}\\n```text\\n${{single line mathematical expression that solves the problem}}\\n```\\n...numexpr.evaluate(text)...\\n```output\\n${{Output of running the code}}\\n```\\nAnswer: ${{Answer}}\\n\\nBegin.\\n\\nQuestion: What is 37593 * 67?\\n```text\\n37593 * 67\\n```\\n...numexpr.evaluate(\"37593 * 67\")...\\n```output\\n2518731\\n```\\nAnswer: 2518731\\n\\nQuestion: 37593^(1/5)\\n```text\\n37593**(1/5)\\n```\\n...numexpr.evaluate(\"37593**(1/5)\")...\\n```output\\n8.222831614237718\\n```\\nAnswer: 8.222831614237718\\n\\nQuestion: {question}\\n'"
            ],
            "application/vnd.google.colaboratory.intrinsic+json": {
              "type": "string"
            }
          },
          "metadata": {},
          "execution_count": 25
        }
      ]
    },
    {
      "cell_type": "code",
      "source": [],
      "metadata": {
        "id": "2ue44mbyImay"
      },
      "execution_count": null,
      "outputs": []
    },
    {
      "cell_type": "code",
      "source": [
        "i = 0\n",
        "math_problems = [\"What is 13 raised to the .3432 power?\",\n",
        "                 \" Determine the result of raising 2 to the power of 10 and then subtracting the square root of 81.\"]\n",
        "# llm_math.invoke()\n",
        "llm_math.invoke(math_problems[i])"
      ],
      "metadata": {
        "colab": {
          "base_uri": "https://localhost:8080/"
        },
        "id": "MIsu9aP6IgLI",
        "outputId": "a5d5ee00-4029-4a1b-b2d0-614dc58727d7"
      },
      "execution_count": 26,
      "outputs": [
        {
          "output_type": "stream",
          "name": "stdout",
          "text": [
            "\n",
            "\n",
            "\u001b[1m> Entering new LLMMathChain chain...\u001b[0m\n",
            "What is 13 raised to the .3432 power?\u001b[32;1m\u001b[1;3m```text\n",
            "13**0.3432\n",
            "```\n",
            "...numexpr.evaluate(\"13**0.3432\")...\u001b[0m\n",
            "Answer: \u001b[33;1m\u001b[1;3m2.4116004626599237\u001b[0m\n",
            "\u001b[1m> Finished chain.\u001b[0m\n"
          ]
        },
        {
          "output_type": "execute_result",
          "data": {
            "text/plain": [
              "{'question': 'What is 13 raised to the .3432 power?',\n",
              " 'answer': 'Answer: 2.4116004626599237'}"
            ]
          },
          "metadata": {},
          "execution_count": 26
        }
      ]
    },
    {
      "cell_type": "code",
      "source": [
        "from langchain.schema import HumanMessage\n",
        "llm.invoke([HumanMessage(content=math_problems[i])])"
      ],
      "metadata": {
        "colab": {
          "base_uri": "https://localhost:8080/"
        },
        "id": "70bapVnnInPo",
        "outputId": "db63c5dc-c034-4b23-91d6-1f3bd2cbe7db"
      },
      "execution_count": null,
      "outputs": [
        {
          "output_type": "execute_result",
          "data": {
            "text/plain": [
              "AIMessage(content='To calculate 13 raised to the 0.3432 power, you can use a calculator or a computational tool. The calculation would look like this:\\n\\n13^0.3432\\n\\nUsing a calculator or a computational tool, you would get:\\n\\n13^0.3432 ≈ 2.2114\\n\\nSo, 13 raised to the 0.3432 power is approximately 2.2114.', response_metadata={'token_usage': {'completion_tokens': 85, 'prompt_tokens': 19, 'total_tokens': 104}, 'model_name': 'gpt-4-1106-preview', 'system_fingerprint': None, 'finish_reason': 'stop', 'logprobs': None}, id='run-75b7c88d-ce44-45e2-b7b1-189e9c73e20c-0', usage_metadata={'input_tokens': 19, 'output_tokens': 85, 'total_tokens': 104})"
            ]
          },
          "metadata": {},
          "execution_count": 10
        }
      ]
    },
    {
      "cell_type": "code",
      "source": [],
      "metadata": {
        "id": "g9OUiAKCcPnl"
      },
      "execution_count": null,
      "outputs": []
    },
    {
      "cell_type": "markdown",
      "metadata": {
        "id": "KHXKp7ooPvuD"
      },
      "source": [
        "[see more legacy chain](https://python.langchain.com/docs/modules/chains/#legacy-chains)"
      ]
    },
    {
      "cell_type": "markdown",
      "metadata": {
        "id": "ljzx11f7Pv3P"
      },
      "source": [
        "LangChain Expression Language (**LCEL**)"
      ]
    },
    {
      "cell_type": "code",
      "execution_count": null,
      "metadata": {
        "id": "JmSYBqAoLIhj"
      },
      "outputs": [],
      "source": [
        "from langchain.prompts import PromptTemplate\n",
        "template = \"\"\"\n",
        " Please translate the following word from {input_language} to {output_language}\n",
        " word: {word}\n",
        " Answer: ?\"\"\"\n",
        "prompt = PromptTemplate(template=template, input_variables=[\"input_language\", 'output_language', 'word'])\n"
      ]
    },
    {
      "cell_type": "code",
      "source": [
        "translator_chain = prompt | llm\n",
        "translator_chain.invoke({'input_language':'English', 'output_language':'Farsi', 'word':\"Hypothesis\"})"
      ],
      "metadata": {
        "colab": {
          "base_uri": "https://localhost:8080/"
        },
        "id": "8FSIN5cIlPRP",
        "outputId": "420c2829-a87b-4735-8723-f37ae5d1afc9"
      },
      "execution_count": null,
      "outputs": [
        {
          "output_type": "execute_result",
          "data": {
            "text/plain": [
              "AIMessage(content='The English word \"Hypothesis\" can be translated to Farsi as \"فرضیه\" (pronounced as \"farziyeh\").', response_metadata={'token_usage': {'completion_tokens': 32, 'prompt_tokens': 28, 'total_tokens': 60}, 'model_name': 'gpt-4-1106-preview', 'system_fingerprint': None, 'finish_reason': 'stop', 'logprobs': None}, id='run-360e751c-db2b-48ee-bea4-2fd6f51a1569-0', usage_metadata={'input_tokens': 28, 'output_tokens': 32, 'total_tokens': 60})"
            ]
          },
          "metadata": {},
          "execution_count": 12
        }
      ]
    },
    {
      "cell_type": "code",
      "source": [
        "response = translator_chain.invoke({'input_language':'English', 'output_language':'Farsi', 'word':\"Hypothesis\"}).content\n",
        "response"
      ],
      "metadata": {
        "id": "IhwrUHsqNUTw",
        "colab": {
          "base_uri": "https://localhost:8080/",
          "height": 35
        },
        "outputId": "c2138f7e-057b-4432-9ccc-b53429b5b082"
      },
      "execution_count": null,
      "outputs": [
        {
          "output_type": "execute_result",
          "data": {
            "text/plain": [
              "'The English word \"Hypothesis\" can be translated to Farsi as \"فرضیه\" (pronounced as \"farziyeh\").'"
            ],
            "application/vnd.google.colaboratory.intrinsic+json": {
              "type": "string"
            }
          },
          "metadata": {},
          "execution_count": 13
        }
      ]
    },
    {
      "cell_type": "code",
      "source": [
        "from langchain_core.output_parsers import StrOutputParser\n",
        "prompt = PromptTemplate(template='answer {question} honestly', input_variables=['question'])\n",
        "chain = prompt | llm | StrOutputParser()\n",
        "chain.invoke({'question':'who was Amirkabir?'})"
      ],
      "metadata": {
        "colab": {
          "base_uri": "https://localhost:8080/",
          "height": 122
        },
        "id": "TFK50M6Rlq7d",
        "outputId": "0659c27a-002a-410b-b246-09c202ce3a8c"
      },
      "execution_count": 27,
      "outputs": [
        {
          "output_type": "execute_result",
          "data": {
            "text/plain": [
              "\"Honestly, Amir Kabir was one of the most important and influential figures in 19th-century Iran. He was a highly capable and patriotic prime minister under Naser al-Din Shah Qajar from 1848 to 1851.\\n\\nHere's a breakdown of why he's so significant:\\n\\n*   **Modernizer and Reformer:** He implemented a series of sweeping reforms aimed at modernizing Iran and strengthening its central government. These reforms touched upon nearly every aspect of Iranian society, including:\\n    *   **Military:** He reorganized and modernized the army, establishing a standing army and importing modern weaponry.\\n    *   **Education:** He founded the Dar ul-Funun, a polytechnic institute that offered instruction in modern sciences and technologies. This was a crucial step in introducing modern education to Iran.\\n    *   **Economy:** He promoted domestic industries, encouraged trade, and tried to reduce foreign influence in the Iranian economy.\\n    *   **Administration:** He streamlined the bureaucracy, fought corruption, and tried to establish a more efficient and just legal system.\\n    *   **Culture:** He supported the translation of foreign books and encouraged the development of a modern press.\\n\\n*   **Patriot and Nationalist:** He was deeply committed to Iran's independence and sovereignty. He sought to reduce foreign influence and protect Iran from the encroachment of European powers.\\n\\n*   **Tragic Figure:** Despite his efforts, Amir Kabir's reforms faced resistance from powerful vested interests, including members of the court and religious establishment. He was eventually dismissed from his post and assassinated in 1852, likely on the orders of the Shah, who was influenced by his enemies.\\n\\n*   **Legacy:** Amir Kabir is remembered as a national hero in Iran. His reforms laid the groundwork for later modernization efforts, and he is seen as a symbol of integrity, patriotism, and good governance. His short tenure as prime minister had a lasting impact on Iranian history.\\n\\nIn short, Amir Kabir was a brilliant and dedicated statesman who tried to modernize Iran and protect it from foreign domination. His efforts were cut short by his assassination, but he remains a revered figure in Iranian history.\""
            ],
            "application/vnd.google.colaboratory.intrinsic+json": {
              "type": "string"
            }
          },
          "metadata": {},
          "execution_count": 27
        }
      ]
    },
    {
      "cell_type": "code",
      "source": [
        "from langchain_core.output_parsers import JsonOutputParser\n",
        "\n",
        "parser = JsonOutputParser()\n",
        "prompt = PromptTemplate(template='answer {question} honestly. \\n{format_instructions}\\n',\n",
        "                        input_variables=['question'], partial_variables={\"format_instructions\": parser.get_format_instructions()})\n",
        "\n",
        "chain = prompt | llm | parser\n",
        "chain.invoke({'question':'who was Amirkabir?'})"
      ],
      "metadata": {
        "colab": {
          "base_uri": "https://localhost:8080/"
        },
        "id": "N7IpjYZXm5zj",
        "outputId": "988c338e-5229-4880-b4e8-8b1795980a3e"
      },
      "execution_count": null,
      "outputs": [
        {
          "output_type": "execute_result",
          "data": {
            "text/plain": [
              "{'name': 'Amirkabir',\n",
              " 'full_name': 'Mirza Taghi Khan Farahani',\n",
              " 'born': '1807',\n",
              " 'died': '1852',\n",
              " 'nationality': 'Iranian',\n",
              " 'occupation': 'Prime Minister of Iran',\n",
              " 'known_for': 'Being a modernizer and reformer, initiating the first major modernization reforms in Iran during the 19th century',\n",
              " 'titles': ['Amir Kabir', 'Atabak'],\n",
              " 'significant_achievements': ['Establishing Dar ul-Funun, the first modern university in Iran',\n",
              "  'Founding the first Iranian newspaper',\n",
              "  'Implementing administrative and economic reforms',\n",
              "  'Promoting the modernization of the Iranian army',\n",
              "  'Attempting to limit the power of the Qajar royal court and clergy'],\n",
              " 'death': 'Executed by order of King Naser al-Din Shah Qajar'}"
            ]
          },
          "metadata": {},
          "execution_count": 15
        }
      ]
    },
    {
      "cell_type": "code",
      "source": [
        "inputs = [\n",
        "    {'input_language':'English', 'output_language':'Farsi', 'word':\"Hypothesis\"},\n",
        "    {'input_language':'Farsi', 'output_language':'Arabic', 'word':\"درخت\"}\n",
        "         ]\n",
        "response = translator_chain.batch(inputs)\n",
        "response"
      ],
      "metadata": {
        "colab": {
          "base_uri": "https://localhost:8080/"
        },
        "id": "gUqBigTiNd_y",
        "outputId": "cbc01045-5586-4e2b-9a17-10ef159e9892"
      },
      "execution_count": null,
      "outputs": [
        {
          "output_type": "execute_result",
          "data": {
            "text/plain": [
              "[AIMessage(content='The English word \"Hypothesis\" can be translated to Farsi as \"فرضیه\" (pronounced as \"farziyeh\").', response_metadata={'token_usage': {'completion_tokens': 32, 'prompt_tokens': 28, 'total_tokens': 60}, 'model_name': 'gpt-4-1106-preview', 'system_fingerprint': None, 'finish_reason': 'stop', 'logprobs': None}, id='run-9818371e-31bd-4e9b-8edd-afc22b8fc6c5-0', usage_metadata={'input_tokens': 28, 'output_tokens': 32, 'total_tokens': 60}),\n",
              " AIMessage(content='The Farsi word \"درخت\" translates to \"شجرة\" in Arabic.', response_metadata={'token_usage': {'completion_tokens': 21, 'prompt_tokens': 28, 'total_tokens': 49}, 'model_name': 'gpt-4-1106-preview', 'system_fingerprint': None, 'finish_reason': 'stop', 'logprobs': None}, id='run-7be128a2-ab51-4a4b-b332-a9b8e9b030a7-0', usage_metadata={'input_tokens': 28, 'output_tokens': 21, 'total_tokens': 49})]"
            ]
          },
          "metadata": {},
          "execution_count": 16
        }
      ]
    },
    {
      "cell_type": "code",
      "execution_count": null,
      "metadata": {
        "id": "X2RSWBm8Ppcv"
      },
      "outputs": [],
      "source": []
    },
    {
      "cell_type": "code",
      "execution_count": null,
      "metadata": {
        "id": "vCdnNQy1Pt2B",
        "colab": {
          "base_uri": "https://localhost:8080/"
        },
        "outputId": "4c9e8e3b-a014-426b-838b-725bd4b69082"
      },
      "outputs": [
        {
          "output_type": "stream",
          "name": "stdout",
          "text": [
            "{}\n",
            "{'name': ''}\n",
            "{'name': 'Am'}\n",
            "{'name': 'Amir'}\n",
            "{'name': 'Amir Kab'}\n",
            "{'name': 'Amir Kabir'}\n",
            "{'name': 'Amir Kabir', 'birth_name': ''}\n",
            "{'name': 'Amir Kabir', 'birth_name': 'Mir'}\n",
            "{'name': 'Amir Kabir', 'birth_name': 'Mirza'}\n",
            "{'name': 'Amir Kabir', 'birth_name': 'Mirza Tag'}\n",
            "{'name': 'Amir Kabir', 'birth_name': 'Mirza Taghi'}\n",
            "{'name': 'Amir Kabir', 'birth_name': 'Mirza Taghi Khan'}\n",
            "{'name': 'Amir Kabir', 'birth_name': 'Mirza Taghi Khan', 'birth_date': ''}\n",
            "{'name': 'Amir Kabir', 'birth_name': 'Mirza Taghi Khan', 'birth_date': '180'}\n",
            "{'name': 'Amir Kabir', 'birth_name': 'Mirza Taghi Khan', 'birth_date': '1807'}\n",
            "{'name': 'Amir Kabir', 'birth_name': 'Mirza Taghi Khan', 'birth_date': '1807', 'death_date': ''}\n",
            "{'name': 'Amir Kabir', 'birth_name': 'Mirza Taghi Khan', 'birth_date': '1807', 'death_date': '185'}\n",
            "{'name': 'Amir Kabir', 'birth_name': 'Mirza Taghi Khan', 'birth_date': '1807', 'death_date': '1852'}\n",
            "{'name': 'Amir Kabir', 'birth_name': 'Mirza Taghi Khan', 'birth_date': '1807', 'death_date': '1852', 'nationality': ''}\n",
            "{'name': 'Amir Kabir', 'birth_name': 'Mirza Taghi Khan', 'birth_date': '1807', 'death_date': '1852', 'nationality': 'Iran'}\n",
            "{'name': 'Amir Kabir', 'birth_name': 'Mirza Taghi Khan', 'birth_date': '1807', 'death_date': '1852', 'nationality': 'Iranian'}\n",
            "{'name': 'Amir Kabir', 'birth_name': 'Mirza Taghi Khan', 'birth_date': '1807', 'death_date': '1852', 'nationality': 'Iranian', 'occupation': ''}\n",
            "{'name': 'Amir Kabir', 'birth_name': 'Mirza Taghi Khan', 'birth_date': '1807', 'death_date': '1852', 'nationality': 'Iranian', 'occupation': 'Prime'}\n",
            "{'name': 'Amir Kabir', 'birth_name': 'Mirza Taghi Khan', 'birth_date': '1807', 'death_date': '1852', 'nationality': 'Iranian', 'occupation': 'Prime Minister'}\n",
            "{'name': 'Amir Kabir', 'birth_name': 'Mirza Taghi Khan', 'birth_date': '1807', 'death_date': '1852', 'nationality': 'Iranian', 'occupation': 'Prime Minister of'}\n",
            "{'name': 'Amir Kabir', 'birth_name': 'Mirza Taghi Khan', 'birth_date': '1807', 'death_date': '1852', 'nationality': 'Iranian', 'occupation': 'Prime Minister of Iran'}\n",
            "{'name': 'Amir Kabir', 'birth_name': 'Mirza Taghi Khan', 'birth_date': '1807', 'death_date': '1852', 'nationality': 'Iranian', 'occupation': 'Prime Minister of Iran', 'tenure': ''}\n",
            "{'name': 'Amir Kabir', 'birth_name': 'Mirza Taghi Khan', 'birth_date': '1807', 'death_date': '1852', 'nationality': 'Iranian', 'occupation': 'Prime Minister of Iran', 'tenure': '184'}\n",
            "{'name': 'Amir Kabir', 'birth_name': 'Mirza Taghi Khan', 'birth_date': '1807', 'death_date': '1852', 'nationality': 'Iranian', 'occupation': 'Prime Minister of Iran', 'tenure': '1848'}\n",
            "{'name': 'Amir Kabir', 'birth_name': 'Mirza Taghi Khan', 'birth_date': '1807', 'death_date': '1852', 'nationality': 'Iranian', 'occupation': 'Prime Minister of Iran', 'tenure': '1848-'}\n",
            "{'name': 'Amir Kabir', 'birth_name': 'Mirza Taghi Khan', 'birth_date': '1807', 'death_date': '1852', 'nationality': 'Iranian', 'occupation': 'Prime Minister of Iran', 'tenure': '1848-185'}\n",
            "{'name': 'Amir Kabir', 'birth_name': 'Mirza Taghi Khan', 'birth_date': '1807', 'death_date': '1852', 'nationality': 'Iranian', 'occupation': 'Prime Minister of Iran', 'tenure': '1848-1851'}\n",
            "{'name': 'Amir Kabir', 'birth_name': 'Mirza Taghi Khan', 'birth_date': '1807', 'death_date': '1852', 'nationality': 'Iranian', 'occupation': 'Prime Minister of Iran', 'tenure': '1848-1851', 'monarch': ''}\n",
            "{'name': 'Amir Kabir', 'birth_name': 'Mirza Taghi Khan', 'birth_date': '1807', 'death_date': '1852', 'nationality': 'Iranian', 'occupation': 'Prime Minister of Iran', 'tenure': '1848-1851', 'monarch': 'N'}\n",
            "{'name': 'Amir Kabir', 'birth_name': 'Mirza Taghi Khan', 'birth_date': '1807', 'death_date': '1852', 'nationality': 'Iranian', 'occupation': 'Prime Minister of Iran', 'tenure': '1848-1851', 'monarch': 'Naser'}\n",
            "{'name': 'Amir Kabir', 'birth_name': 'Mirza Taghi Khan', 'birth_date': '1807', 'death_date': '1852', 'nationality': 'Iranian', 'occupation': 'Prime Minister of Iran', 'tenure': '1848-1851', 'monarch': 'Naser al'}\n",
            "{'name': 'Amir Kabir', 'birth_name': 'Mirza Taghi Khan', 'birth_date': '1807', 'death_date': '1852', 'nationality': 'Iranian', 'occupation': 'Prime Minister of Iran', 'tenure': '1848-1851', 'monarch': 'Naser al-D'}\n",
            "{'name': 'Amir Kabir', 'birth_name': 'Mirza Taghi Khan', 'birth_date': '1807', 'death_date': '1852', 'nationality': 'Iranian', 'occupation': 'Prime Minister of Iran', 'tenure': '1848-1851', 'monarch': 'Naser al-Din'}\n",
            "{'name': 'Amir Kabir', 'birth_name': 'Mirza Taghi Khan', 'birth_date': '1807', 'death_date': '1852', 'nationality': 'Iranian', 'occupation': 'Prime Minister of Iran', 'tenure': '1848-1851', 'monarch': 'Naser al-Din Shah'}\n",
            "{'name': 'Amir Kabir', 'birth_name': 'Mirza Taghi Khan', 'birth_date': '1807', 'death_date': '1852', 'nationality': 'Iranian', 'occupation': 'Prime Minister of Iran', 'tenure': '1848-1851', 'monarch': 'Naser al-Din Shah Q'}\n",
            "{'name': 'Amir Kabir', 'birth_name': 'Mirza Taghi Khan', 'birth_date': '1807', 'death_date': '1852', 'nationality': 'Iranian', 'occupation': 'Prime Minister of Iran', 'tenure': '1848-1851', 'monarch': 'Naser al-Din Shah Qajar'}\n",
            "{'name': 'Amir Kabir', 'birth_name': 'Mirza Taghi Khan', 'birth_date': '1807', 'death_date': '1852', 'nationality': 'Iranian', 'occupation': 'Prime Minister of Iran', 'tenure': '1848-1851', 'monarch': 'Naser al-Din Shah Qajar', 'known_for': ''}\n",
            "{'name': 'Amir Kabir', 'birth_name': 'Mirza Taghi Khan', 'birth_date': '1807', 'death_date': '1852', 'nationality': 'Iranian', 'occupation': 'Prime Minister of Iran', 'tenure': '1848-1851', 'monarch': 'Naser al-Din Shah Qajar', 'known_for': 'Re'}\n",
            "{'name': 'Amir Kabir', 'birth_name': 'Mirza Taghi Khan', 'birth_date': '1807', 'death_date': '1852', 'nationality': 'Iranian', 'occupation': 'Prime Minister of Iran', 'tenure': '1848-1851', 'monarch': 'Naser al-Din Shah Qajar', 'known_for': 'Reforms'}\n",
            "{'name': 'Amir Kabir', 'birth_name': 'Mirza Taghi Khan', 'birth_date': '1807', 'death_date': '1852', 'nationality': 'Iranian', 'occupation': 'Prime Minister of Iran', 'tenure': '1848-1851', 'monarch': 'Naser al-Din Shah Qajar', 'known_for': 'Reforms,'}\n",
            "{'name': 'Amir Kabir', 'birth_name': 'Mirza Taghi Khan', 'birth_date': '1807', 'death_date': '1852', 'nationality': 'Iranian', 'occupation': 'Prime Minister of Iran', 'tenure': '1848-1851', 'monarch': 'Naser al-Din Shah Qajar', 'known_for': 'Reforms, modern'}\n",
            "{'name': 'Amir Kabir', 'birth_name': 'Mirza Taghi Khan', 'birth_date': '1807', 'death_date': '1852', 'nationality': 'Iranian', 'occupation': 'Prime Minister of Iran', 'tenure': '1848-1851', 'monarch': 'Naser al-Din Shah Qajar', 'known_for': 'Reforms, modernization'}\n",
            "{'name': 'Amir Kabir', 'birth_name': 'Mirza Taghi Khan', 'birth_date': '1807', 'death_date': '1852', 'nationality': 'Iranian', 'occupation': 'Prime Minister of Iran', 'tenure': '1848-1851', 'monarch': 'Naser al-Din Shah Qajar', 'known_for': 'Reforms, modernization efforts'}\n",
            "{'name': 'Amir Kabir', 'birth_name': 'Mirza Taghi Khan', 'birth_date': '1807', 'death_date': '1852', 'nationality': 'Iranian', 'occupation': 'Prime Minister of Iran', 'tenure': '1848-1851', 'monarch': 'Naser al-Din Shah Qajar', 'known_for': 'Reforms, modernization efforts,'}\n",
            "{'name': 'Amir Kabir', 'birth_name': 'Mirza Taghi Khan', 'birth_date': '1807', 'death_date': '1852', 'nationality': 'Iranian', 'occupation': 'Prime Minister of Iran', 'tenure': '1848-1851', 'monarch': 'Naser al-Din Shah Qajar', 'known_for': 'Reforms, modernization efforts, and'}\n",
            "{'name': 'Amir Kabir', 'birth_name': 'Mirza Taghi Khan', 'birth_date': '1807', 'death_date': '1852', 'nationality': 'Iranian', 'occupation': 'Prime Minister of Iran', 'tenure': '1848-1851', 'monarch': 'Naser al-Din Shah Qajar', 'known_for': 'Reforms, modernization efforts, and founding'}\n",
            "{'name': 'Amir Kabir', 'birth_name': 'Mirza Taghi Khan', 'birth_date': '1807', 'death_date': '1852', 'nationality': 'Iranian', 'occupation': 'Prime Minister of Iran', 'tenure': '1848-1851', 'monarch': 'Naser al-Din Shah Qajar', 'known_for': 'Reforms, modernization efforts, and founding Dar'}\n",
            "{'name': 'Amir Kabir', 'birth_name': 'Mirza Taghi Khan', 'birth_date': '1807', 'death_date': '1852', 'nationality': 'Iranian', 'occupation': 'Prime Minister of Iran', 'tenure': '1848-1851', 'monarch': 'Naser al-Din Shah Qajar', 'known_for': 'Reforms, modernization efforts, and founding Dar ul'}\n",
            "{'name': 'Amir Kabir', 'birth_name': 'Mirza Taghi Khan', 'birth_date': '1807', 'death_date': '1852', 'nationality': 'Iranian', 'occupation': 'Prime Minister of Iran', 'tenure': '1848-1851', 'monarch': 'Naser al-Din Shah Qajar', 'known_for': 'Reforms, modernization efforts, and founding Dar ul-F'}\n",
            "{'name': 'Amir Kabir', 'birth_name': 'Mirza Taghi Khan', 'birth_date': '1807', 'death_date': '1852', 'nationality': 'Iranian', 'occupation': 'Prime Minister of Iran', 'tenure': '1848-1851', 'monarch': 'Naser al-Din Shah Qajar', 'known_for': 'Reforms, modernization efforts, and founding Dar ul-Fun'}\n",
            "{'name': 'Amir Kabir', 'birth_name': 'Mirza Taghi Khan', 'birth_date': '1807', 'death_date': '1852', 'nationality': 'Iranian', 'occupation': 'Prime Minister of Iran', 'tenure': '1848-1851', 'monarch': 'Naser al-Din Shah Qajar', 'known_for': 'Reforms, modernization efforts, and founding Dar ul-Funun'}\n",
            "{'name': 'Amir Kabir', 'birth_name': 'Mirza Taghi Khan', 'birth_date': '1807', 'death_date': '1852', 'nationality': 'Iranian', 'occupation': 'Prime Minister of Iran', 'tenure': '1848-1851', 'monarch': 'Naser al-Din Shah Qajar', 'known_for': 'Reforms, modernization efforts, and founding Dar ul-Funun ('}\n",
            "{'name': 'Amir Kabir', 'birth_name': 'Mirza Taghi Khan', 'birth_date': '1807', 'death_date': '1852', 'nationality': 'Iranian', 'occupation': 'Prime Minister of Iran', 'tenure': '1848-1851', 'monarch': 'Naser al-Din Shah Qajar', 'known_for': 'Reforms, modernization efforts, and founding Dar ul-Funun (the'}\n",
            "{'name': 'Amir Kabir', 'birth_name': 'Mirza Taghi Khan', 'birth_date': '1807', 'death_date': '1852', 'nationality': 'Iranian', 'occupation': 'Prime Minister of Iran', 'tenure': '1848-1851', 'monarch': 'Naser al-Din Shah Qajar', 'known_for': 'Reforms, modernization efforts, and founding Dar ul-Funun (the first'}\n",
            "{'name': 'Amir Kabir', 'birth_name': 'Mirza Taghi Khan', 'birth_date': '1807', 'death_date': '1852', 'nationality': 'Iranian', 'occupation': 'Prime Minister of Iran', 'tenure': '1848-1851', 'monarch': 'Naser al-Din Shah Qajar', 'known_for': 'Reforms, modernization efforts, and founding Dar ul-Funun (the first modern'}\n",
            "{'name': 'Amir Kabir', 'birth_name': 'Mirza Taghi Khan', 'birth_date': '1807', 'death_date': '1852', 'nationality': 'Iranian', 'occupation': 'Prime Minister of Iran', 'tenure': '1848-1851', 'monarch': 'Naser al-Din Shah Qajar', 'known_for': 'Reforms, modernization efforts, and founding Dar ul-Funun (the first modern university'}\n",
            "{'name': 'Amir Kabir', 'birth_name': 'Mirza Taghi Khan', 'birth_date': '1807', 'death_date': '1852', 'nationality': 'Iranian', 'occupation': 'Prime Minister of Iran', 'tenure': '1848-1851', 'monarch': 'Naser al-Din Shah Qajar', 'known_for': 'Reforms, modernization efforts, and founding Dar ul-Funun (the first modern university in'}\n",
            "{'name': 'Amir Kabir', 'birth_name': 'Mirza Taghi Khan', 'birth_date': '1807', 'death_date': '1852', 'nationality': 'Iranian', 'occupation': 'Prime Minister of Iran', 'tenure': '1848-1851', 'monarch': 'Naser al-Din Shah Qajar', 'known_for': 'Reforms, modernization efforts, and founding Dar ul-Funun (the first modern university in Iran'}\n",
            "{'name': 'Amir Kabir', 'birth_name': 'Mirza Taghi Khan', 'birth_date': '1807', 'death_date': '1852', 'nationality': 'Iranian', 'occupation': 'Prime Minister of Iran', 'tenure': '1848-1851', 'monarch': 'Naser al-Din Shah Qajar', 'known_for': 'Reforms, modernization efforts, and founding Dar ul-Funun (the first modern university in Iran)'}\n",
            "{'name': 'Amir Kabir', 'birth_name': 'Mirza Taghi Khan', 'birth_date': '1807', 'death_date': '1852', 'nationality': 'Iranian', 'occupation': 'Prime Minister of Iran', 'tenure': '1848-1851', 'monarch': 'Naser al-Din Shah Qajar', 'known_for': 'Reforms, modernization efforts, and founding Dar ul-Funun (the first modern university in Iran)', 'legacy': ''}\n",
            "{'name': 'Amir Kabir', 'birth_name': 'Mirza Taghi Khan', 'birth_date': '1807', 'death_date': '1852', 'nationality': 'Iranian', 'occupation': 'Prime Minister of Iran', 'tenure': '1848-1851', 'monarch': 'Naser al-Din Shah Qajar', 'known_for': 'Reforms, modernization efforts, and founding Dar ul-Funun (the first modern university in Iran)', 'legacy': 'Consider'}\n",
            "{'name': 'Amir Kabir', 'birth_name': 'Mirza Taghi Khan', 'birth_date': '1807', 'death_date': '1852', 'nationality': 'Iranian', 'occupation': 'Prime Minister of Iran', 'tenure': '1848-1851', 'monarch': 'Naser al-Din Shah Qajar', 'known_for': 'Reforms, modernization efforts, and founding Dar ul-Funun (the first modern university in Iran)', 'legacy': 'Considered'}\n",
            "{'name': 'Amir Kabir', 'birth_name': 'Mirza Taghi Khan', 'birth_date': '1807', 'death_date': '1852', 'nationality': 'Iranian', 'occupation': 'Prime Minister of Iran', 'tenure': '1848-1851', 'monarch': 'Naser al-Din Shah Qajar', 'known_for': 'Reforms, modernization efforts, and founding Dar ul-Funun (the first modern university in Iran)', 'legacy': 'Considered one'}\n",
            "{'name': 'Amir Kabir', 'birth_name': 'Mirza Taghi Khan', 'birth_date': '1807', 'death_date': '1852', 'nationality': 'Iranian', 'occupation': 'Prime Minister of Iran', 'tenure': '1848-1851', 'monarch': 'Naser al-Din Shah Qajar', 'known_for': 'Reforms, modernization efforts, and founding Dar ul-Funun (the first modern university in Iran)', 'legacy': 'Considered one of'}\n",
            "{'name': 'Amir Kabir', 'birth_name': 'Mirza Taghi Khan', 'birth_date': '1807', 'death_date': '1852', 'nationality': 'Iranian', 'occupation': 'Prime Minister of Iran', 'tenure': '1848-1851', 'monarch': 'Naser al-Din Shah Qajar', 'known_for': 'Reforms, modernization efforts, and founding Dar ul-Funun (the first modern university in Iran)', 'legacy': 'Considered one of Iran'}\n",
            "{'name': 'Amir Kabir', 'birth_name': 'Mirza Taghi Khan', 'birth_date': '1807', 'death_date': '1852', 'nationality': 'Iranian', 'occupation': 'Prime Minister of Iran', 'tenure': '1848-1851', 'monarch': 'Naser al-Din Shah Qajar', 'known_for': 'Reforms, modernization efforts, and founding Dar ul-Funun (the first modern university in Iran)', 'legacy': \"Considered one of Iran's\"}\n",
            "{'name': 'Amir Kabir', 'birth_name': 'Mirza Taghi Khan', 'birth_date': '1807', 'death_date': '1852', 'nationality': 'Iranian', 'occupation': 'Prime Minister of Iran', 'tenure': '1848-1851', 'monarch': 'Naser al-Din Shah Qajar', 'known_for': 'Reforms, modernization efforts, and founding Dar ul-Funun (the first modern university in Iran)', 'legacy': \"Considered one of Iran's most\"}\n",
            "{'name': 'Amir Kabir', 'birth_name': 'Mirza Taghi Khan', 'birth_date': '1807', 'death_date': '1852', 'nationality': 'Iranian', 'occupation': 'Prime Minister of Iran', 'tenure': '1848-1851', 'monarch': 'Naser al-Din Shah Qajar', 'known_for': 'Reforms, modernization efforts, and founding Dar ul-Funun (the first modern university in Iran)', 'legacy': \"Considered one of Iran's most influential\"}\n",
            "{'name': 'Amir Kabir', 'birth_name': 'Mirza Taghi Khan', 'birth_date': '1807', 'death_date': '1852', 'nationality': 'Iranian', 'occupation': 'Prime Minister of Iran', 'tenure': '1848-1851', 'monarch': 'Naser al-Din Shah Qajar', 'known_for': 'Reforms, modernization efforts, and founding Dar ul-Funun (the first modern university in Iran)', 'legacy': \"Considered one of Iran's most influential and\"}\n",
            "{'name': 'Amir Kabir', 'birth_name': 'Mirza Taghi Khan', 'birth_date': '1807', 'death_date': '1852', 'nationality': 'Iranian', 'occupation': 'Prime Minister of Iran', 'tenure': '1848-1851', 'monarch': 'Naser al-Din Shah Qajar', 'known_for': 'Reforms, modernization efforts, and founding Dar ul-Funun (the first modern university in Iran)', 'legacy': \"Considered one of Iran's most influential and respected\"}\n",
            "{'name': 'Amir Kabir', 'birth_name': 'Mirza Taghi Khan', 'birth_date': '1807', 'death_date': '1852', 'nationality': 'Iranian', 'occupation': 'Prime Minister of Iran', 'tenure': '1848-1851', 'monarch': 'Naser al-Din Shah Qajar', 'known_for': 'Reforms, modernization efforts, and founding Dar ul-Funun (the first modern university in Iran)', 'legacy': \"Considered one of Iran's most influential and respected historical\"}\n",
            "{'name': 'Amir Kabir', 'birth_name': 'Mirza Taghi Khan', 'birth_date': '1807', 'death_date': '1852', 'nationality': 'Iranian', 'occupation': 'Prime Minister of Iran', 'tenure': '1848-1851', 'monarch': 'Naser al-Din Shah Qajar', 'known_for': 'Reforms, modernization efforts, and founding Dar ul-Funun (the first modern university in Iran)', 'legacy': \"Considered one of Iran's most influential and respected historical figures\"}\n",
            "{'name': 'Amir Kabir', 'birth_name': 'Mirza Taghi Khan', 'birth_date': '1807', 'death_date': '1852', 'nationality': 'Iranian', 'occupation': 'Prime Minister of Iran', 'tenure': '1848-1851', 'monarch': 'Naser al-Din Shah Qajar', 'known_for': 'Reforms, modernization efforts, and founding Dar ul-Funun (the first modern university in Iran)', 'legacy': \"Considered one of Iran's most influential and respected historical figures,\"}\n",
            "{'name': 'Amir Kabir', 'birth_name': 'Mirza Taghi Khan', 'birth_date': '1807', 'death_date': '1852', 'nationality': 'Iranian', 'occupation': 'Prime Minister of Iran', 'tenure': '1848-1851', 'monarch': 'Naser al-Din Shah Qajar', 'known_for': 'Reforms, modernization efforts, and founding Dar ul-Funun (the first modern university in Iran)', 'legacy': \"Considered one of Iran's most influential and respected historical figures, his\"}\n",
            "{'name': 'Amir Kabir', 'birth_name': 'Mirza Taghi Khan', 'birth_date': '1807', 'death_date': '1852', 'nationality': 'Iranian', 'occupation': 'Prime Minister of Iran', 'tenure': '1848-1851', 'monarch': 'Naser al-Din Shah Qajar', 'known_for': 'Reforms, modernization efforts, and founding Dar ul-Funun (the first modern university in Iran)', 'legacy': \"Considered one of Iran's most influential and respected historical figures, his reforms\"}\n",
            "{'name': 'Amir Kabir', 'birth_name': 'Mirza Taghi Khan', 'birth_date': '1807', 'death_date': '1852', 'nationality': 'Iranian', 'occupation': 'Prime Minister of Iran', 'tenure': '1848-1851', 'monarch': 'Naser al-Din Shah Qajar', 'known_for': 'Reforms, modernization efforts, and founding Dar ul-Funun (the first modern university in Iran)', 'legacy': \"Considered one of Iran's most influential and respected historical figures, his reforms touched\"}\n",
            "{'name': 'Amir Kabir', 'birth_name': 'Mirza Taghi Khan', 'birth_date': '1807', 'death_date': '1852', 'nationality': 'Iranian', 'occupation': 'Prime Minister of Iran', 'tenure': '1848-1851', 'monarch': 'Naser al-Din Shah Qajar', 'known_for': 'Reforms, modernization efforts, and founding Dar ul-Funun (the first modern university in Iran)', 'legacy': \"Considered one of Iran's most influential and respected historical figures, his reforms touched various\"}\n",
            "{'name': 'Amir Kabir', 'birth_name': 'Mirza Taghi Khan', 'birth_date': '1807', 'death_date': '1852', 'nationality': 'Iranian', 'occupation': 'Prime Minister of Iran', 'tenure': '1848-1851', 'monarch': 'Naser al-Din Shah Qajar', 'known_for': 'Reforms, modernization efforts, and founding Dar ul-Funun (the first modern university in Iran)', 'legacy': \"Considered one of Iran's most influential and respected historical figures, his reforms touched various aspects\"}\n",
            "{'name': 'Amir Kabir', 'birth_name': 'Mirza Taghi Khan', 'birth_date': '1807', 'death_date': '1852', 'nationality': 'Iranian', 'occupation': 'Prime Minister of Iran', 'tenure': '1848-1851', 'monarch': 'Naser al-Din Shah Qajar', 'known_for': 'Reforms, modernization efforts, and founding Dar ul-Funun (the first modern university in Iran)', 'legacy': \"Considered one of Iran's most influential and respected historical figures, his reforms touched various aspects of\"}\n",
            "{'name': 'Amir Kabir', 'birth_name': 'Mirza Taghi Khan', 'birth_date': '1807', 'death_date': '1852', 'nationality': 'Iranian', 'occupation': 'Prime Minister of Iran', 'tenure': '1848-1851', 'monarch': 'Naser al-Din Shah Qajar', 'known_for': 'Reforms, modernization efforts, and founding Dar ul-Funun (the first modern university in Iran)', 'legacy': \"Considered one of Iran's most influential and respected historical figures, his reforms touched various aspects of Iranian\"}\n",
            "{'name': 'Amir Kabir', 'birth_name': 'Mirza Taghi Khan', 'birth_date': '1807', 'death_date': '1852', 'nationality': 'Iranian', 'occupation': 'Prime Minister of Iran', 'tenure': '1848-1851', 'monarch': 'Naser al-Din Shah Qajar', 'known_for': 'Reforms, modernization efforts, and founding Dar ul-Funun (the first modern university in Iran)', 'legacy': \"Considered one of Iran's most influential and respected historical figures, his reforms touched various aspects of Iranian society\"}\n",
            "{'name': 'Amir Kabir', 'birth_name': 'Mirza Taghi Khan', 'birth_date': '1807', 'death_date': '1852', 'nationality': 'Iranian', 'occupation': 'Prime Minister of Iran', 'tenure': '1848-1851', 'monarch': 'Naser al-Din Shah Qajar', 'known_for': 'Reforms, modernization efforts, and founding Dar ul-Funun (the first modern university in Iran)', 'legacy': \"Considered one of Iran's most influential and respected historical figures, his reforms touched various aspects of Iranian society,\"}\n",
            "{'name': 'Amir Kabir', 'birth_name': 'Mirza Taghi Khan', 'birth_date': '1807', 'death_date': '1852', 'nationality': 'Iranian', 'occupation': 'Prime Minister of Iran', 'tenure': '1848-1851', 'monarch': 'Naser al-Din Shah Qajar', 'known_for': 'Reforms, modernization efforts, and founding Dar ul-Funun (the first modern university in Iran)', 'legacy': \"Considered one of Iran's most influential and respected historical figures, his reforms touched various aspects of Iranian society, including\"}\n",
            "{'name': 'Amir Kabir', 'birth_name': 'Mirza Taghi Khan', 'birth_date': '1807', 'death_date': '1852', 'nationality': 'Iranian', 'occupation': 'Prime Minister of Iran', 'tenure': '1848-1851', 'monarch': 'Naser al-Din Shah Qajar', 'known_for': 'Reforms, modernization efforts, and founding Dar ul-Funun (the first modern university in Iran)', 'legacy': \"Considered one of Iran's most influential and respected historical figures, his reforms touched various aspects of Iranian society, including the\"}\n",
            "{'name': 'Amir Kabir', 'birth_name': 'Mirza Taghi Khan', 'birth_date': '1807', 'death_date': '1852', 'nationality': 'Iranian', 'occupation': 'Prime Minister of Iran', 'tenure': '1848-1851', 'monarch': 'Naser al-Din Shah Qajar', 'known_for': 'Reforms, modernization efforts, and founding Dar ul-Funun (the first modern university in Iran)', 'legacy': \"Considered one of Iran's most influential and respected historical figures, his reforms touched various aspects of Iranian society, including the military\"}\n",
            "{'name': 'Amir Kabir', 'birth_name': 'Mirza Taghi Khan', 'birth_date': '1807', 'death_date': '1852', 'nationality': 'Iranian', 'occupation': 'Prime Minister of Iran', 'tenure': '1848-1851', 'monarch': 'Naser al-Din Shah Qajar', 'known_for': 'Reforms, modernization efforts, and founding Dar ul-Funun (the first modern university in Iran)', 'legacy': \"Considered one of Iran's most influential and respected historical figures, his reforms touched various aspects of Iranian society, including the military,\"}\n",
            "{'name': 'Amir Kabir', 'birth_name': 'Mirza Taghi Khan', 'birth_date': '1807', 'death_date': '1852', 'nationality': 'Iranian', 'occupation': 'Prime Minister of Iran', 'tenure': '1848-1851', 'monarch': 'Naser al-Din Shah Qajar', 'known_for': 'Reforms, modernization efforts, and founding Dar ul-Funun (the first modern university in Iran)', 'legacy': \"Considered one of Iran's most influential and respected historical figures, his reforms touched various aspects of Iranian society, including the military, education\"}\n",
            "{'name': 'Amir Kabir', 'birth_name': 'Mirza Taghi Khan', 'birth_date': '1807', 'death_date': '1852', 'nationality': 'Iranian', 'occupation': 'Prime Minister of Iran', 'tenure': '1848-1851', 'monarch': 'Naser al-Din Shah Qajar', 'known_for': 'Reforms, modernization efforts, and founding Dar ul-Funun (the first modern university in Iran)', 'legacy': \"Considered one of Iran's most influential and respected historical figures, his reforms touched various aspects of Iranian society, including the military, education,\"}\n",
            "{'name': 'Amir Kabir', 'birth_name': 'Mirza Taghi Khan', 'birth_date': '1807', 'death_date': '1852', 'nationality': 'Iranian', 'occupation': 'Prime Minister of Iran', 'tenure': '1848-1851', 'monarch': 'Naser al-Din Shah Qajar', 'known_for': 'Reforms, modernization efforts, and founding Dar ul-Funun (the first modern university in Iran)', 'legacy': \"Considered one of Iran's most influential and respected historical figures, his reforms touched various aspects of Iranian society, including the military, education, and\"}\n",
            "{'name': 'Amir Kabir', 'birth_name': 'Mirza Taghi Khan', 'birth_date': '1807', 'death_date': '1852', 'nationality': 'Iranian', 'occupation': 'Prime Minister of Iran', 'tenure': '1848-1851', 'monarch': 'Naser al-Din Shah Qajar', 'known_for': 'Reforms, modernization efforts, and founding Dar ul-Funun (the first modern university in Iran)', 'legacy': \"Considered one of Iran's most influential and respected historical figures, his reforms touched various aspects of Iranian society, including the military, education, and administration\"}\n",
            "{'name': 'Amir Kabir', 'birth_name': 'Mirza Taghi Khan', 'birth_date': '1807', 'death_date': '1852', 'nationality': 'Iranian', 'occupation': 'Prime Minister of Iran', 'tenure': '1848-1851', 'monarch': 'Naser al-Din Shah Qajar', 'known_for': 'Reforms, modernization efforts, and founding Dar ul-Funun (the first modern university in Iran)', 'legacy': \"Considered one of Iran's most influential and respected historical figures, his reforms touched various aspects of Iranian society, including the military, education, and administration.\"}\n",
            "{'name': 'Amir Kabir', 'birth_name': 'Mirza Taghi Khan', 'birth_date': '1807', 'death_date': '1852', 'nationality': 'Iranian', 'occupation': 'Prime Minister of Iran', 'tenure': '1848-1851', 'monarch': 'Naser al-Din Shah Qajar', 'known_for': 'Reforms, modernization efforts, and founding Dar ul-Funun (the first modern university in Iran)', 'legacy': \"Considered one of Iran's most influential and respected historical figures, his reforms touched various aspects of Iranian society, including the military, education, and administration. His\"}\n",
            "{'name': 'Amir Kabir', 'birth_name': 'Mirza Taghi Khan', 'birth_date': '1807', 'death_date': '1852', 'nationality': 'Iranian', 'occupation': 'Prime Minister of Iran', 'tenure': '1848-1851', 'monarch': 'Naser al-Din Shah Qajar', 'known_for': 'Reforms, modernization efforts, and founding Dar ul-Funun (the first modern university in Iran)', 'legacy': \"Considered one of Iran's most influential and respected historical figures, his reforms touched various aspects of Iranian society, including the military, education, and administration. His execution\"}\n",
            "{'name': 'Amir Kabir', 'birth_name': 'Mirza Taghi Khan', 'birth_date': '1807', 'death_date': '1852', 'nationality': 'Iranian', 'occupation': 'Prime Minister of Iran', 'tenure': '1848-1851', 'monarch': 'Naser al-Din Shah Qajar', 'known_for': 'Reforms, modernization efforts, and founding Dar ul-Funun (the first modern university in Iran)', 'legacy': \"Considered one of Iran's most influential and respected historical figures, his reforms touched various aspects of Iranian society, including the military, education, and administration. His execution was\"}\n",
            "{'name': 'Amir Kabir', 'birth_name': 'Mirza Taghi Khan', 'birth_date': '1807', 'death_date': '1852', 'nationality': 'Iranian', 'occupation': 'Prime Minister of Iran', 'tenure': '1848-1851', 'monarch': 'Naser al-Din Shah Qajar', 'known_for': 'Reforms, modernization efforts, and founding Dar ul-Funun (the first modern university in Iran)', 'legacy': \"Considered one of Iran's most influential and respected historical figures, his reforms touched various aspects of Iranian society, including the military, education, and administration. His execution was ordered\"}\n",
            "{'name': 'Amir Kabir', 'birth_name': 'Mirza Taghi Khan', 'birth_date': '1807', 'death_date': '1852', 'nationality': 'Iranian', 'occupation': 'Prime Minister of Iran', 'tenure': '1848-1851', 'monarch': 'Naser al-Din Shah Qajar', 'known_for': 'Reforms, modernization efforts, and founding Dar ul-Funun (the first modern university in Iran)', 'legacy': \"Considered one of Iran's most influential and respected historical figures, his reforms touched various aspects of Iranian society, including the military, education, and administration. His execution was ordered by\"}\n",
            "{'name': 'Amir Kabir', 'birth_name': 'Mirza Taghi Khan', 'birth_date': '1807', 'death_date': '1852', 'nationality': 'Iranian', 'occupation': 'Prime Minister of Iran', 'tenure': '1848-1851', 'monarch': 'Naser al-Din Shah Qajar', 'known_for': 'Reforms, modernization efforts, and founding Dar ul-Funun (the first modern university in Iran)', 'legacy': \"Considered one of Iran's most influential and respected historical figures, his reforms touched various aspects of Iranian society, including the military, education, and administration. His execution was ordered by the\"}\n",
            "{'name': 'Amir Kabir', 'birth_name': 'Mirza Taghi Khan', 'birth_date': '1807', 'death_date': '1852', 'nationality': 'Iranian', 'occupation': 'Prime Minister of Iran', 'tenure': '1848-1851', 'monarch': 'Naser al-Din Shah Qajar', 'known_for': 'Reforms, modernization efforts, and founding Dar ul-Funun (the first modern university in Iran)', 'legacy': \"Considered one of Iran's most influential and respected historical figures, his reforms touched various aspects of Iranian society, including the military, education, and administration. His execution was ordered by the young\"}\n",
            "{'name': 'Amir Kabir', 'birth_name': 'Mirza Taghi Khan', 'birth_date': '1807', 'death_date': '1852', 'nationality': 'Iranian', 'occupation': 'Prime Minister of Iran', 'tenure': '1848-1851', 'monarch': 'Naser al-Din Shah Qajar', 'known_for': 'Reforms, modernization efforts, and founding Dar ul-Funun (the first modern university in Iran)', 'legacy': \"Considered one of Iran's most influential and respected historical figures, his reforms touched various aspects of Iranian society, including the military, education, and administration. His execution was ordered by the young king\"}\n",
            "{'name': 'Amir Kabir', 'birth_name': 'Mirza Taghi Khan', 'birth_date': '1807', 'death_date': '1852', 'nationality': 'Iranian', 'occupation': 'Prime Minister of Iran', 'tenure': '1848-1851', 'monarch': 'Naser al-Din Shah Qajar', 'known_for': 'Reforms, modernization efforts, and founding Dar ul-Funun (the first modern university in Iran)', 'legacy': \"Considered one of Iran's most influential and respected historical figures, his reforms touched various aspects of Iranian society, including the military, education, and administration. His execution was ordered by the young king N\"}\n",
            "{'name': 'Amir Kabir', 'birth_name': 'Mirza Taghi Khan', 'birth_date': '1807', 'death_date': '1852', 'nationality': 'Iranian', 'occupation': 'Prime Minister of Iran', 'tenure': '1848-1851', 'monarch': 'Naser al-Din Shah Qajar', 'known_for': 'Reforms, modernization efforts, and founding Dar ul-Funun (the first modern university in Iran)', 'legacy': \"Considered one of Iran's most influential and respected historical figures, his reforms touched various aspects of Iranian society, including the military, education, and administration. His execution was ordered by the young king Naser\"}\n",
            "{'name': 'Amir Kabir', 'birth_name': 'Mirza Taghi Khan', 'birth_date': '1807', 'death_date': '1852', 'nationality': 'Iranian', 'occupation': 'Prime Minister of Iran', 'tenure': '1848-1851', 'monarch': 'Naser al-Din Shah Qajar', 'known_for': 'Reforms, modernization efforts, and founding Dar ul-Funun (the first modern university in Iran)', 'legacy': \"Considered one of Iran's most influential and respected historical figures, his reforms touched various aspects of Iranian society, including the military, education, and administration. His execution was ordered by the young king Naser al\"}\n",
            "{'name': 'Amir Kabir', 'birth_name': 'Mirza Taghi Khan', 'birth_date': '1807', 'death_date': '1852', 'nationality': 'Iranian', 'occupation': 'Prime Minister of Iran', 'tenure': '1848-1851', 'monarch': 'Naser al-Din Shah Qajar', 'known_for': 'Reforms, modernization efforts, and founding Dar ul-Funun (the first modern university in Iran)', 'legacy': \"Considered one of Iran's most influential and respected historical figures, his reforms touched various aspects of Iranian society, including the military, education, and administration. His execution was ordered by the young king Naser al-D\"}\n",
            "{'name': 'Amir Kabir', 'birth_name': 'Mirza Taghi Khan', 'birth_date': '1807', 'death_date': '1852', 'nationality': 'Iranian', 'occupation': 'Prime Minister of Iran', 'tenure': '1848-1851', 'monarch': 'Naser al-Din Shah Qajar', 'known_for': 'Reforms, modernization efforts, and founding Dar ul-Funun (the first modern university in Iran)', 'legacy': \"Considered one of Iran's most influential and respected historical figures, his reforms touched various aspects of Iranian society, including the military, education, and administration. His execution was ordered by the young king Naser al-Din\"}\n",
            "{'name': 'Amir Kabir', 'birth_name': 'Mirza Taghi Khan', 'birth_date': '1807', 'death_date': '1852', 'nationality': 'Iranian', 'occupation': 'Prime Minister of Iran', 'tenure': '1848-1851', 'monarch': 'Naser al-Din Shah Qajar', 'known_for': 'Reforms, modernization efforts, and founding Dar ul-Funun (the first modern university in Iran)', 'legacy': \"Considered one of Iran's most influential and respected historical figures, his reforms touched various aspects of Iranian society, including the military, education, and administration. His execution was ordered by the young king Naser al-Din Shah\"}\n",
            "{'name': 'Amir Kabir', 'birth_name': 'Mirza Taghi Khan', 'birth_date': '1807', 'death_date': '1852', 'nationality': 'Iranian', 'occupation': 'Prime Minister of Iran', 'tenure': '1848-1851', 'monarch': 'Naser al-Din Shah Qajar', 'known_for': 'Reforms, modernization efforts, and founding Dar ul-Funun (the first modern university in Iran)', 'legacy': \"Considered one of Iran's most influential and respected historical figures, his reforms touched various aspects of Iranian society, including the military, education, and administration. His execution was ordered by the young king Naser al-Din Shah Q\"}\n",
            "{'name': 'Amir Kabir', 'birth_name': 'Mirza Taghi Khan', 'birth_date': '1807', 'death_date': '1852', 'nationality': 'Iranian', 'occupation': 'Prime Minister of Iran', 'tenure': '1848-1851', 'monarch': 'Naser al-Din Shah Qajar', 'known_for': 'Reforms, modernization efforts, and founding Dar ul-Funun (the first modern university in Iran)', 'legacy': \"Considered one of Iran's most influential and respected historical figures, his reforms touched various aspects of Iranian society, including the military, education, and administration. His execution was ordered by the young king Naser al-Din Shah Qajar\"}\n",
            "{'name': 'Amir Kabir', 'birth_name': 'Mirza Taghi Khan', 'birth_date': '1807', 'death_date': '1852', 'nationality': 'Iranian', 'occupation': 'Prime Minister of Iran', 'tenure': '1848-1851', 'monarch': 'Naser al-Din Shah Qajar', 'known_for': 'Reforms, modernization efforts, and founding Dar ul-Funun (the first modern university in Iran)', 'legacy': \"Considered one of Iran's most influential and respected historical figures, his reforms touched various aspects of Iranian society, including the military, education, and administration. His execution was ordered by the young king Naser al-Din Shah Qajar under\"}\n",
            "{'name': 'Amir Kabir', 'birth_name': 'Mirza Taghi Khan', 'birth_date': '1807', 'death_date': '1852', 'nationality': 'Iranian', 'occupation': 'Prime Minister of Iran', 'tenure': '1848-1851', 'monarch': 'Naser al-Din Shah Qajar', 'known_for': 'Reforms, modernization efforts, and founding Dar ul-Funun (the first modern university in Iran)', 'legacy': \"Considered one of Iran's most influential and respected historical figures, his reforms touched various aspects of Iranian society, including the military, education, and administration. His execution was ordered by the young king Naser al-Din Shah Qajar under the\"}\n",
            "{'name': 'Amir Kabir', 'birth_name': 'Mirza Taghi Khan', 'birth_date': '1807', 'death_date': '1852', 'nationality': 'Iranian', 'occupation': 'Prime Minister of Iran', 'tenure': '1848-1851', 'monarch': 'Naser al-Din Shah Qajar', 'known_for': 'Reforms, modernization efforts, and founding Dar ul-Funun (the first modern university in Iran)', 'legacy': \"Considered one of Iran's most influential and respected historical figures, his reforms touched various aspects of Iranian society, including the military, education, and administration. His execution was ordered by the young king Naser al-Din Shah Qajar under the influence\"}\n",
            "{'name': 'Amir Kabir', 'birth_name': 'Mirza Taghi Khan', 'birth_date': '1807', 'death_date': '1852', 'nationality': 'Iranian', 'occupation': 'Prime Minister of Iran', 'tenure': '1848-1851', 'monarch': 'Naser al-Din Shah Qajar', 'known_for': 'Reforms, modernization efforts, and founding Dar ul-Funun (the first modern university in Iran)', 'legacy': \"Considered one of Iran's most influential and respected historical figures, his reforms touched various aspects of Iranian society, including the military, education, and administration. His execution was ordered by the young king Naser al-Din Shah Qajar under the influence of\"}\n",
            "{'name': 'Amir Kabir', 'birth_name': 'Mirza Taghi Khan', 'birth_date': '1807', 'death_date': '1852', 'nationality': 'Iranian', 'occupation': 'Prime Minister of Iran', 'tenure': '1848-1851', 'monarch': 'Naser al-Din Shah Qajar', 'known_for': 'Reforms, modernization efforts, and founding Dar ul-Funun (the first modern university in Iran)', 'legacy': \"Considered one of Iran's most influential and respected historical figures, his reforms touched various aspects of Iranian society, including the military, education, and administration. His execution was ordered by the young king Naser al-Din Shah Qajar under the influence of court\"}\n",
            "{'name': 'Amir Kabir', 'birth_name': 'Mirza Taghi Khan', 'birth_date': '1807', 'death_date': '1852', 'nationality': 'Iranian', 'occupation': 'Prime Minister of Iran', 'tenure': '1848-1851', 'monarch': 'Naser al-Din Shah Qajar', 'known_for': 'Reforms, modernization efforts, and founding Dar ul-Funun (the first modern university in Iran)', 'legacy': \"Considered one of Iran's most influential and respected historical figures, his reforms touched various aspects of Iranian society, including the military, education, and administration. His execution was ordered by the young king Naser al-Din Shah Qajar under the influence of courtiers\"}\n",
            "{'name': 'Amir Kabir', 'birth_name': 'Mirza Taghi Khan', 'birth_date': '1807', 'death_date': '1852', 'nationality': 'Iranian', 'occupation': 'Prime Minister of Iran', 'tenure': '1848-1851', 'monarch': 'Naser al-Din Shah Qajar', 'known_for': 'Reforms, modernization efforts, and founding Dar ul-Funun (the first modern university in Iran)', 'legacy': \"Considered one of Iran's most influential and respected historical figures, his reforms touched various aspects of Iranian society, including the military, education, and administration. His execution was ordered by the young king Naser al-Din Shah Qajar under the influence of courtiers who\"}\n",
            "{'name': 'Amir Kabir', 'birth_name': 'Mirza Taghi Khan', 'birth_date': '1807', 'death_date': '1852', 'nationality': 'Iranian', 'occupation': 'Prime Minister of Iran', 'tenure': '1848-1851', 'monarch': 'Naser al-Din Shah Qajar', 'known_for': 'Reforms, modernization efforts, and founding Dar ul-Funun (the first modern university in Iran)', 'legacy': \"Considered one of Iran's most influential and respected historical figures, his reforms touched various aspects of Iranian society, including the military, education, and administration. His execution was ordered by the young king Naser al-Din Shah Qajar under the influence of courtiers who felt\"}\n",
            "{'name': 'Amir Kabir', 'birth_name': 'Mirza Taghi Khan', 'birth_date': '1807', 'death_date': '1852', 'nationality': 'Iranian', 'occupation': 'Prime Minister of Iran', 'tenure': '1848-1851', 'monarch': 'Naser al-Din Shah Qajar', 'known_for': 'Reforms, modernization efforts, and founding Dar ul-Funun (the first modern university in Iran)', 'legacy': \"Considered one of Iran's most influential and respected historical figures, his reforms touched various aspects of Iranian society, including the military, education, and administration. His execution was ordered by the young king Naser al-Din Shah Qajar under the influence of courtiers who felt threatened\"}\n",
            "{'name': 'Amir Kabir', 'birth_name': 'Mirza Taghi Khan', 'birth_date': '1807', 'death_date': '1852', 'nationality': 'Iranian', 'occupation': 'Prime Minister of Iran', 'tenure': '1848-1851', 'monarch': 'Naser al-Din Shah Qajar', 'known_for': 'Reforms, modernization efforts, and founding Dar ul-Funun (the first modern university in Iran)', 'legacy': \"Considered one of Iran's most influential and respected historical figures, his reforms touched various aspects of Iranian society, including the military, education, and administration. His execution was ordered by the young king Naser al-Din Shah Qajar under the influence of courtiers who felt threatened by\"}\n",
            "{'name': 'Amir Kabir', 'birth_name': 'Mirza Taghi Khan', 'birth_date': '1807', 'death_date': '1852', 'nationality': 'Iranian', 'occupation': 'Prime Minister of Iran', 'tenure': '1848-1851', 'monarch': 'Naser al-Din Shah Qajar', 'known_for': 'Reforms, modernization efforts, and founding Dar ul-Funun (the first modern university in Iran)', 'legacy': \"Considered one of Iran's most influential and respected historical figures, his reforms touched various aspects of Iranian society, including the military, education, and administration. His execution was ordered by the young king Naser al-Din Shah Qajar under the influence of courtiers who felt threatened by his\"}\n",
            "{'name': 'Amir Kabir', 'birth_name': 'Mirza Taghi Khan', 'birth_date': '1807', 'death_date': '1852', 'nationality': 'Iranian', 'occupation': 'Prime Minister of Iran', 'tenure': '1848-1851', 'monarch': 'Naser al-Din Shah Qajar', 'known_for': 'Reforms, modernization efforts, and founding Dar ul-Funun (the first modern university in Iran)', 'legacy': \"Considered one of Iran's most influential and respected historical figures, his reforms touched various aspects of Iranian society, including the military, education, and administration. His execution was ordered by the young king Naser al-Din Shah Qajar under the influence of courtiers who felt threatened by his power\"}\n",
            "{'name': 'Amir Kabir', 'birth_name': 'Mirza Taghi Khan', 'birth_date': '1807', 'death_date': '1852', 'nationality': 'Iranian', 'occupation': 'Prime Minister of Iran', 'tenure': '1848-1851', 'monarch': 'Naser al-Din Shah Qajar', 'known_for': 'Reforms, modernization efforts, and founding Dar ul-Funun (the first modern university in Iran)', 'legacy': \"Considered one of Iran's most influential and respected historical figures, his reforms touched various aspects of Iranian society, including the military, education, and administration. His execution was ordered by the young king Naser al-Din Shah Qajar under the influence of courtiers who felt threatened by his power and\"}\n",
            "{'name': 'Amir Kabir', 'birth_name': 'Mirza Taghi Khan', 'birth_date': '1807', 'death_date': '1852', 'nationality': 'Iranian', 'occupation': 'Prime Minister of Iran', 'tenure': '1848-1851', 'monarch': 'Naser al-Din Shah Qajar', 'known_for': 'Reforms, modernization efforts, and founding Dar ul-Funun (the first modern university in Iran)', 'legacy': \"Considered one of Iran's most influential and respected historical figures, his reforms touched various aspects of Iranian society, including the military, education, and administration. His execution was ordered by the young king Naser al-Din Shah Qajar under the influence of courtiers who felt threatened by his power and reforms\"}\n",
            "{'name': 'Amir Kabir', 'birth_name': 'Mirza Taghi Khan', 'birth_date': '1807', 'death_date': '1852', 'nationality': 'Iranian', 'occupation': 'Prime Minister of Iran', 'tenure': '1848-1851', 'monarch': 'Naser al-Din Shah Qajar', 'known_for': 'Reforms, modernization efforts, and founding Dar ul-Funun (the first modern university in Iran)', 'legacy': \"Considered one of Iran's most influential and respected historical figures, his reforms touched various aspects of Iranian society, including the military, education, and administration. His execution was ordered by the young king Naser al-Din Shah Qajar under the influence of courtiers who felt threatened by his power and reforms.\"}\n"
          ]
        }
      ],
      "source": [
        "async for chunk in chain.astream({'question':'who was Amir kabir?'},):\n",
        "  print(chunk, end='\\n')\n"
      ]
    },
    {
      "cell_type": "code",
      "source": [
        "chunks = []\n",
        "for chunk in chain.stream({'question':'who was Amirkabir?'}):\n",
        "  chunks.append(chunk)\n",
        "  print(chunk, end=\"\\n\", flush=True)"
      ],
      "metadata": {
        "id": "BEylh2UChY64",
        "colab": {
          "base_uri": "https://localhost:8080/"
        },
        "outputId": "36e4b874-2237-423d-cb38-21193a66d141"
      },
      "execution_count": null,
      "outputs": [
        {
          "output_type": "stream",
          "name": "stdout",
          "text": [
            "{}\n",
            "{'name': ''}\n",
            "{'name': 'Am'}\n",
            "{'name': 'Amirk'}\n",
            "{'name': 'Amirkab'}\n",
            "{'name': 'Amirkabir'}\n",
            "{'name': 'Amirkabir', 'full_name': ''}\n",
            "{'name': 'Amirkabir', 'full_name': 'Mir'}\n",
            "{'name': 'Amirkabir', 'full_name': 'Mirza'}\n",
            "{'name': 'Amirkabir', 'full_name': 'Mirza Tag'}\n",
            "{'name': 'Amirkabir', 'full_name': 'Mirza Taghi'}\n",
            "{'name': 'Amirkabir', 'full_name': 'Mirza Taghi Khan'}\n",
            "{'name': 'Amirkabir', 'full_name': 'Mirza Taghi Khan Far'}\n",
            "{'name': 'Amirkabir', 'full_name': 'Mirza Taghi Khan Farah'}\n",
            "{'name': 'Amirkabir', 'full_name': 'Mirza Taghi Khan Farahani'}\n",
            "{'name': 'Amirkabir', 'full_name': 'Mirza Taghi Khan Farahani', 'birth_date': ''}\n",
            "{'name': 'Amirkabir', 'full_name': 'Mirza Taghi Khan Farahani', 'birth_date': '180'}\n",
            "{'name': 'Amirkabir', 'full_name': 'Mirza Taghi Khan Farahani', 'birth_date': '1807'}\n",
            "{'name': 'Amirkabir', 'full_name': 'Mirza Taghi Khan Farahani', 'birth_date': '1807', 'death_date': ''}\n",
            "{'name': 'Amirkabir', 'full_name': 'Mirza Taghi Khan Farahani', 'birth_date': '1807', 'death_date': '185'}\n",
            "{'name': 'Amirkabir', 'full_name': 'Mirza Taghi Khan Farahani', 'birth_date': '1807', 'death_date': '1852'}\n",
            "{'name': 'Amirkabir', 'full_name': 'Mirza Taghi Khan Farahani', 'birth_date': '1807', 'death_date': '1852', 'nationality': ''}\n",
            "{'name': 'Amirkabir', 'full_name': 'Mirza Taghi Khan Farahani', 'birth_date': '1807', 'death_date': '1852', 'nationality': 'Iran'}\n",
            "{'name': 'Amirkabir', 'full_name': 'Mirza Taghi Khan Farahani', 'birth_date': '1807', 'death_date': '1852', 'nationality': 'Iranian'}\n",
            "{'name': 'Amirkabir', 'full_name': 'Mirza Taghi Khan Farahani', 'birth_date': '1807', 'death_date': '1852', 'nationality': 'Iranian', 'known_for': ''}\n",
            "{'name': 'Amirkabir', 'full_name': 'Mirza Taghi Khan Farahani', 'birth_date': '1807', 'death_date': '1852', 'nationality': 'Iranian', 'known_for': 'Being'}\n",
            "{'name': 'Amirkabir', 'full_name': 'Mirza Taghi Khan Farahani', 'birth_date': '1807', 'death_date': '1852', 'nationality': 'Iranian', 'known_for': 'Being a'}\n",
            "{'name': 'Amirkabir', 'full_name': 'Mirza Taghi Khan Farahani', 'birth_date': '1807', 'death_date': '1852', 'nationality': 'Iranian', 'known_for': 'Being a modern'}\n",
            "{'name': 'Amirkabir', 'full_name': 'Mirza Taghi Khan Farahani', 'birth_date': '1807', 'death_date': '1852', 'nationality': 'Iranian', 'known_for': 'Being a modernizer'}\n",
            "{'name': 'Amirkabir', 'full_name': 'Mirza Taghi Khan Farahani', 'birth_date': '1807', 'death_date': '1852', 'nationality': 'Iranian', 'known_for': 'Being a modernizer and'}\n",
            "{'name': 'Amirkabir', 'full_name': 'Mirza Taghi Khan Farahani', 'birth_date': '1807', 'death_date': '1852', 'nationality': 'Iranian', 'known_for': 'Being a modernizer and reform'}\n",
            "{'name': 'Amirkabir', 'full_name': 'Mirza Taghi Khan Farahani', 'birth_date': '1807', 'death_date': '1852', 'nationality': 'Iranian', 'known_for': 'Being a modernizer and reformer'}\n",
            "{'name': 'Amirkabir', 'full_name': 'Mirza Taghi Khan Farahani', 'birth_date': '1807', 'death_date': '1852', 'nationality': 'Iranian', 'known_for': 'Being a modernizer and reformer,'}\n",
            "{'name': 'Amirkabir', 'full_name': 'Mirza Taghi Khan Farahani', 'birth_date': '1807', 'death_date': '1852', 'nationality': 'Iranian', 'known_for': 'Being a modernizer and reformer, serving'}\n",
            "{'name': 'Amirkabir', 'full_name': 'Mirza Taghi Khan Farahani', 'birth_date': '1807', 'death_date': '1852', 'nationality': 'Iranian', 'known_for': 'Being a modernizer and reformer, serving as'}\n",
            "{'name': 'Amirkabir', 'full_name': 'Mirza Taghi Khan Farahani', 'birth_date': '1807', 'death_date': '1852', 'nationality': 'Iranian', 'known_for': 'Being a modernizer and reformer, serving as the'}\n",
            "{'name': 'Amirkabir', 'full_name': 'Mirza Taghi Khan Farahani', 'birth_date': '1807', 'death_date': '1852', 'nationality': 'Iranian', 'known_for': 'Being a modernizer and reformer, serving as the chief'}\n",
            "{'name': 'Amirkabir', 'full_name': 'Mirza Taghi Khan Farahani', 'birth_date': '1807', 'death_date': '1852', 'nationality': 'Iranian', 'known_for': 'Being a modernizer and reformer, serving as the chief minister'}\n",
            "{'name': 'Amirkabir', 'full_name': 'Mirza Taghi Khan Farahani', 'birth_date': '1807', 'death_date': '1852', 'nationality': 'Iranian', 'known_for': 'Being a modernizer and reformer, serving as the chief minister ('}\n",
            "{'name': 'Amirkabir', 'full_name': 'Mirza Taghi Khan Farahani', 'birth_date': '1807', 'death_date': '1852', 'nationality': 'Iranian', 'known_for': 'Being a modernizer and reformer, serving as the chief minister (Grand'}\n",
            "{'name': 'Amirkabir', 'full_name': 'Mirza Taghi Khan Farahani', 'birth_date': '1807', 'death_date': '1852', 'nationality': 'Iranian', 'known_for': 'Being a modernizer and reformer, serving as the chief minister (Grand V'}\n",
            "{'name': 'Amirkabir', 'full_name': 'Mirza Taghi Khan Farahani', 'birth_date': '1807', 'death_date': '1852', 'nationality': 'Iranian', 'known_for': 'Being a modernizer and reformer, serving as the chief minister (Grand Viz'}\n",
            "{'name': 'Amirkabir', 'full_name': 'Mirza Taghi Khan Farahani', 'birth_date': '1807', 'death_date': '1852', 'nationality': 'Iranian', 'known_for': 'Being a modernizer and reformer, serving as the chief minister (Grand Vizier'}\n",
            "{'name': 'Amirkabir', 'full_name': 'Mirza Taghi Khan Farahani', 'birth_date': '1807', 'death_date': '1852', 'nationality': 'Iranian', 'known_for': 'Being a modernizer and reformer, serving as the chief minister (Grand Vizier)'}\n",
            "{'name': 'Amirkabir', 'full_name': 'Mirza Taghi Khan Farahani', 'birth_date': '1807', 'death_date': '1852', 'nationality': 'Iranian', 'known_for': 'Being a modernizer and reformer, serving as the chief minister (Grand Vizier) to'}\n",
            "{'name': 'Amirkabir', 'full_name': 'Mirza Taghi Khan Farahani', 'birth_date': '1807', 'death_date': '1852', 'nationality': 'Iranian', 'known_for': 'Being a modernizer and reformer, serving as the chief minister (Grand Vizier) to N'}\n",
            "{'name': 'Amirkabir', 'full_name': 'Mirza Taghi Khan Farahani', 'birth_date': '1807', 'death_date': '1852', 'nationality': 'Iranian', 'known_for': 'Being a modernizer and reformer, serving as the chief minister (Grand Vizier) to Naser'}\n",
            "{'name': 'Amirkabir', 'full_name': 'Mirza Taghi Khan Farahani', 'birth_date': '1807', 'death_date': '1852', 'nationality': 'Iranian', 'known_for': 'Being a modernizer and reformer, serving as the chief minister (Grand Vizier) to Naser al'}\n",
            "{'name': 'Amirkabir', 'full_name': 'Mirza Taghi Khan Farahani', 'birth_date': '1807', 'death_date': '1852', 'nationality': 'Iranian', 'known_for': 'Being a modernizer and reformer, serving as the chief minister (Grand Vizier) to Naser al-D'}\n",
            "{'name': 'Amirkabir', 'full_name': 'Mirza Taghi Khan Farahani', 'birth_date': '1807', 'death_date': '1852', 'nationality': 'Iranian', 'known_for': 'Being a modernizer and reformer, serving as the chief minister (Grand Vizier) to Naser al-Din'}\n",
            "{'name': 'Amirkabir', 'full_name': 'Mirza Taghi Khan Farahani', 'birth_date': '1807', 'death_date': '1852', 'nationality': 'Iranian', 'known_for': 'Being a modernizer and reformer, serving as the chief minister (Grand Vizier) to Naser al-Din Shah'}\n",
            "{'name': 'Amirkabir', 'full_name': 'Mirza Taghi Khan Farahani', 'birth_date': '1807', 'death_date': '1852', 'nationality': 'Iranian', 'known_for': 'Being a modernizer and reformer, serving as the chief minister (Grand Vizier) to Naser al-Din Shah Q'}\n",
            "{'name': 'Amirkabir', 'full_name': 'Mirza Taghi Khan Farahani', 'birth_date': '1807', 'death_date': '1852', 'nationality': 'Iranian', 'known_for': 'Being a modernizer and reformer, serving as the chief minister (Grand Vizier) to Naser al-Din Shah Qajar'}\n",
            "{'name': 'Amirkabir', 'full_name': 'Mirza Taghi Khan Farahani', 'birth_date': '1807', 'death_date': '1852', 'nationality': 'Iranian', 'known_for': 'Being a modernizer and reformer, serving as the chief minister (Grand Vizier) to Naser al-Din Shah Qajar', 'contributions': []}\n",
            "{'name': 'Amirkabir', 'full_name': 'Mirza Taghi Khan Farahani', 'birth_date': '1807', 'death_date': '1852', 'nationality': 'Iranian', 'known_for': 'Being a modernizer and reformer, serving as the chief minister (Grand Vizier) to Naser al-Din Shah Qajar', 'contributions': [{}]}\n",
            "{'name': 'Amirkabir', 'full_name': 'Mirza Taghi Khan Farahani', 'birth_date': '1807', 'death_date': '1852', 'nationality': 'Iranian', 'known_for': 'Being a modernizer and reformer, serving as the chief minister (Grand Vizier) to Naser al-Din Shah Qajar', 'contributions': [{'title': ''}]}\n",
            "{'name': 'Amirkabir', 'full_name': 'Mirza Taghi Khan Farahani', 'birth_date': '1807', 'death_date': '1852', 'nationality': 'Iranian', 'known_for': 'Being a modernizer and reformer, serving as the chief minister (Grand Vizier) to Naser al-Din Shah Qajar', 'contributions': [{'title': 'Educ'}]}\n",
            "{'name': 'Amirkabir', 'full_name': 'Mirza Taghi Khan Farahani', 'birth_date': '1807', 'death_date': '1852', 'nationality': 'Iranian', 'known_for': 'Being a modernizer and reformer, serving as the chief minister (Grand Vizier) to Naser al-Din Shah Qajar', 'contributions': [{'title': 'Educational'}]}\n",
            "{'name': 'Amirkabir', 'full_name': 'Mirza Taghi Khan Farahani', 'birth_date': '1807', 'death_date': '1852', 'nationality': 'Iranian', 'known_for': 'Being a modernizer and reformer, serving as the chief minister (Grand Vizier) to Naser al-Din Shah Qajar', 'contributions': [{'title': 'Educational reforms'}]}\n",
            "{'name': 'Amirkabir', 'full_name': 'Mirza Taghi Khan Farahani', 'birth_date': '1807', 'death_date': '1852', 'nationality': 'Iranian', 'known_for': 'Being a modernizer and reformer, serving as the chief minister (Grand Vizier) to Naser al-Din Shah Qajar', 'contributions': [{'title': 'Educational reforms', 'description': ''}]}\n",
            "{'name': 'Amirkabir', 'full_name': 'Mirza Taghi Khan Farahani', 'birth_date': '1807', 'death_date': '1852', 'nationality': 'Iranian', 'known_for': 'Being a modernizer and reformer, serving as the chief minister (Grand Vizier) to Naser al-Din Shah Qajar', 'contributions': [{'title': 'Educational reforms', 'description': 'Founded'}]}\n",
            "{'name': 'Amirkabir', 'full_name': 'Mirza Taghi Khan Farahani', 'birth_date': '1807', 'death_date': '1852', 'nationality': 'Iranian', 'known_for': 'Being a modernizer and reformer, serving as the chief minister (Grand Vizier) to Naser al-Din Shah Qajar', 'contributions': [{'title': 'Educational reforms', 'description': 'Founded Dar'}]}\n",
            "{'name': 'Amirkabir', 'full_name': 'Mirza Taghi Khan Farahani', 'birth_date': '1807', 'death_date': '1852', 'nationality': 'Iranian', 'known_for': 'Being a modernizer and reformer, serving as the chief minister (Grand Vizier) to Naser al-Din Shah Qajar', 'contributions': [{'title': 'Educational reforms', 'description': 'Founded Dar ul'}]}\n",
            "{'name': 'Amirkabir', 'full_name': 'Mirza Taghi Khan Farahani', 'birth_date': '1807', 'death_date': '1852', 'nationality': 'Iranian', 'known_for': 'Being a modernizer and reformer, serving as the chief minister (Grand Vizier) to Naser al-Din Shah Qajar', 'contributions': [{'title': 'Educational reforms', 'description': 'Founded Dar ul-F'}]}\n",
            "{'name': 'Amirkabir', 'full_name': 'Mirza Taghi Khan Farahani', 'birth_date': '1807', 'death_date': '1852', 'nationality': 'Iranian', 'known_for': 'Being a modernizer and reformer, serving as the chief minister (Grand Vizier) to Naser al-Din Shah Qajar', 'contributions': [{'title': 'Educational reforms', 'description': 'Founded Dar ul-Fun'}]}\n",
            "{'name': 'Amirkabir', 'full_name': 'Mirza Taghi Khan Farahani', 'birth_date': '1807', 'death_date': '1852', 'nationality': 'Iranian', 'known_for': 'Being a modernizer and reformer, serving as the chief minister (Grand Vizier) to Naser al-Din Shah Qajar', 'contributions': [{'title': 'Educational reforms', 'description': 'Founded Dar ul-Funun'}]}\n",
            "{'name': 'Amirkabir', 'full_name': 'Mirza Taghi Khan Farahani', 'birth_date': '1807', 'death_date': '1852', 'nationality': 'Iranian', 'known_for': 'Being a modernizer and reformer, serving as the chief minister (Grand Vizier) to Naser al-Din Shah Qajar', 'contributions': [{'title': 'Educational reforms', 'description': 'Founded Dar ul-Funun,'}]}\n",
            "{'name': 'Amirkabir', 'full_name': 'Mirza Taghi Khan Farahani', 'birth_date': '1807', 'death_date': '1852', 'nationality': 'Iranian', 'known_for': 'Being a modernizer and reformer, serving as the chief minister (Grand Vizier) to Naser al-Din Shah Qajar', 'contributions': [{'title': 'Educational reforms', 'description': 'Founded Dar ul-Funun, the'}]}\n",
            "{'name': 'Amirkabir', 'full_name': 'Mirza Taghi Khan Farahani', 'birth_date': '1807', 'death_date': '1852', 'nationality': 'Iranian', 'known_for': 'Being a modernizer and reformer, serving as the chief minister (Grand Vizier) to Naser al-Din Shah Qajar', 'contributions': [{'title': 'Educational reforms', 'description': 'Founded Dar ul-Funun, the first'}]}\n",
            "{'name': 'Amirkabir', 'full_name': 'Mirza Taghi Khan Farahani', 'birth_date': '1807', 'death_date': '1852', 'nationality': 'Iranian', 'known_for': 'Being a modernizer and reformer, serving as the chief minister (Grand Vizier) to Naser al-Din Shah Qajar', 'contributions': [{'title': 'Educational reforms', 'description': 'Founded Dar ul-Funun, the first modern'}]}\n",
            "{'name': 'Amirkabir', 'full_name': 'Mirza Taghi Khan Farahani', 'birth_date': '1807', 'death_date': '1852', 'nationality': 'Iranian', 'known_for': 'Being a modernizer and reformer, serving as the chief minister (Grand Vizier) to Naser al-Din Shah Qajar', 'contributions': [{'title': 'Educational reforms', 'description': 'Founded Dar ul-Funun, the first modern university'}]}\n",
            "{'name': 'Amirkabir', 'full_name': 'Mirza Taghi Khan Farahani', 'birth_date': '1807', 'death_date': '1852', 'nationality': 'Iranian', 'known_for': 'Being a modernizer and reformer, serving as the chief minister (Grand Vizier) to Naser al-Din Shah Qajar', 'contributions': [{'title': 'Educational reforms', 'description': 'Founded Dar ul-Funun, the first modern university in'}]}\n",
            "{'name': 'Amirkabir', 'full_name': 'Mirza Taghi Khan Farahani', 'birth_date': '1807', 'death_date': '1852', 'nationality': 'Iranian', 'known_for': 'Being a modernizer and reformer, serving as the chief minister (Grand Vizier) to Naser al-Din Shah Qajar', 'contributions': [{'title': 'Educational reforms', 'description': 'Founded Dar ul-Funun, the first modern university in Iran'}]}\n",
            "{'name': 'Amirkabir', 'full_name': 'Mirza Taghi Khan Farahani', 'birth_date': '1807', 'death_date': '1852', 'nationality': 'Iranian', 'known_for': 'Being a modernizer and reformer, serving as the chief minister (Grand Vizier) to Naser al-Din Shah Qajar', 'contributions': [{'title': 'Educational reforms', 'description': 'Founded Dar ul-Funun, the first modern university in Iran.'}]}\n",
            "{'name': 'Amirkabir', 'full_name': 'Mirza Taghi Khan Farahani', 'birth_date': '1807', 'death_date': '1852', 'nationality': 'Iranian', 'known_for': 'Being a modernizer and reformer, serving as the chief minister (Grand Vizier) to Naser al-Din Shah Qajar', 'contributions': [{'title': 'Educational reforms', 'description': 'Founded Dar ul-Funun, the first modern university in Iran.'}, {}]}\n"
          ]
        }
      ]
    },
    {
      "cell_type": "code",
      "source": [
        "\n",
        "model_parser = llm | StrOutputParser()\n",
        "\n",
        "### terapist chain\n",
        "terapist_prompt = PromptTemplate(template=\"You are a helpful therapy assistant. Please answer {question}.\", input_variables=[\"question\"])\n",
        "terapist = terapist_prompt | model_parser\n",
        "\n",
        "\n",
        "### code developer chain\n",
        "code_developer_prompt = PromptTemplate(template='you are an excellent {language} developer. please answer {question}', input_variables=['language', 'question'])\n",
        "code_developer = code_developer_prompt | model_parser\n",
        "\n",
        "\n",
        "\n",
        "### general chain\n",
        "general_chain = (\n",
        "    PromptTemplate.from_template(\n",
        "        \"\"\"Respond to the following question:Question: {question} Answer:\"\"\"\n",
        "    )\n",
        "    | model_parser\n",
        ")\n"
      ],
      "metadata": {
        "id": "B-vxGHFCkfGj"
      },
      "execution_count": null,
      "outputs": []
    },
    {
      "cell_type": "code",
      "source": [
        "from langchain_core.runnables import RunnableBranch, RunnableParallel\n",
        "### A RunnableBranch is initialized with a list of (condition, runnable) pairs and a default runnable.\n",
        "\n",
        "branch = RunnableBranch(\n",
        "    (lambda x: \"terapy\" ==x[\"topic\"].lower(), terapist),\n",
        "    (lambda x: \"code\" in x[\"topic\"].lower(), code_developer),\n",
        "    general_chain\n",
        ")"
      ],
      "metadata": {
        "id": "-mUD8p4OCbm4"
      },
      "execution_count": null,
      "outputs": []
    },
    {
      "cell_type": "code",
      "source": [
        "full_chain = {\"topic\": lambda x: x[\"topic\"],\n",
        "              \"question\": lambda x: x[\"question\"], \"language\":lambda x: x.get('language', None)} | branch\n",
        "\n"
      ],
      "metadata": {
        "id": "2bffiqOBsrJY"
      },
      "execution_count": null,
      "outputs": []
    },
    {
      "cell_type": "code",
      "source": [
        "full_chain.invoke({'topic': 'code', 'question': 'What is the difference between a list and a tuple?', 'language': 'python'})"
      ],
      "metadata": {
        "colab": {
          "base_uri": "https://localhost:8080/",
          "height": 140
        },
        "id": "QVd0C13vtDb7",
        "outputId": "fa83873f-749f-406f-f395-256789751feb"
      },
      "execution_count": null,
      "outputs": [
        {
          "output_type": "execute_result",
          "data": {
            "text/plain": [
              "'In Python, both lists and tuples are used to store collections of items. However, there are several key differences between the two:\\n\\n1. Mutability:\\n   - List: Lists are mutable, which means that you can change, add, or remove items after the list has been created.\\n   - Tuple: Tuples are immutable, which means that once a tuple is created, you cannot change, add, or remove items from it.\\n\\n2. Syntax:\\n   - List: Lists are defined using square brackets `[]`.\\n     Example: `my_list = [1, 2, 3]`\\n   - Tuple: Tuples are defined using parentheses `()`.\\n     Example: `my_tuple = (1, 2, 3)`\\n\\n3. Performance:\\n   - List: Due to their mutability, lists have a slightly larger memory overhead and can be slower to iterate through compared to tuples.\\n   - Tuple: Tuples have a smaller memory footprint and can be faster to iterate through because they are immutable and their size is fixed.\\n\\n4. Use Cases:\\n   - List: Lists are generally used when you have a collection of items that may need to be modified during the execution of a program, such as a list of user inputs or a list of results from a series of computations.\\n   - Tuple: Tuples are typically used for heterogeneous data (data of different types) and to create records that should not change, such as the coordinates of a point (x, y) or a record from a database.\\n\\n5. Methods:\\n   - List: Lists have several methods available for performing operations such as `append()`, `remove()`, `pop()`, `insert()`, `sort()`, and more.\\n   - Tuple: Tuples have fewer methods available, such as `count()` and `index()`, because they are immutable and cannot be modified after creation.\\n\\n6. Hashability:\\n   - List: Lists cannot be used as keys in dictionaries because they are mutable and thus unhashable.\\n   - Tuple: Tuples can be used as keys in dictionaries, provided that all of the elements within the tuple are also immutable and hashable.\\n\\nIn summary, the choice between a list and a tuple in Python often comes down to whether you need a mutable or immutable collection, with lists being appropriate for mutable collections and tuples for immutable ones.'"
            ],
            "application/vnd.google.colaboratory.intrinsic+json": {
              "type": "string"
            }
          },
          "metadata": {},
          "execution_count": 22
        }
      ]
    },
    {
      "cell_type": "code",
      "source": [
        "\n",
        "template = \"\"\"Just classify the topic of the following question: {question} into one of these three categories:\n",
        " ['code', 'therapy', 'general'] with just one category without any explanation.\"\"\"\n",
        "\n",
        "prompt = PromptTemplate(template=template,\n",
        "                        input_variables=['question'])\n",
        "classifier_chain = prompt | model_parser\n",
        "\n"
      ],
      "metadata": {
        "id": "Qbt8_RNpyTXM"
      },
      "execution_count": null,
      "outputs": []
    },
    {
      "cell_type": "code",
      "source": [
        "classifier_chain.invoke({'question': 'I lost my father 4 years ago and I still miss him'})"
      ],
      "metadata": {
        "colab": {
          "base_uri": "https://localhost:8080/",
          "height": 35
        },
        "id": "lFQxQVzHNjLn",
        "outputId": "b1e092b4-29f4-4e74-804f-b081a4543d20"
      },
      "execution_count": null,
      "outputs": [
        {
          "output_type": "execute_result",
          "data": {
            "text/plain": [
              "'therapy'"
            ],
            "application/vnd.google.colaboratory.intrinsic+json": {
              "type": "string"
            }
          },
          "metadata": {},
          "execution_count": 24
        }
      ]
    },
    {
      "cell_type": "code",
      "source": [
        "from operator import itemgetter\n",
        "final_chain = ({'topic': classifier_chain, 'question': itemgetter(\"question\"), 'language': lambda x: x.get(\"language\",None)} | branch)\n"
      ],
      "metadata": {
        "id": "eEzFyJz7KqER"
      },
      "execution_count": null,
      "outputs": []
    },
    {
      "cell_type": "code",
      "source": [
        "final_chain.invoke({'question': 'I lost my father 4 years ago and I still miss him'})"
      ],
      "metadata": {
        "colab": {
          "base_uri": "https://localhost:8080/",
          "height": 105
        },
        "id": "Mo9yYDTLHNo4",
        "outputId": "c5617c8f-cd6c-47ed-8eb0-25bebdf69691"
      },
      "execution_count": null,
      "outputs": [
        {
          "output_type": "execute_result",
          "data": {
            "text/plain": [
              "\"I'm truly sorry for your loss. It's completely natural to miss someone who played such a significant role in your life, no matter how much time has passed. Grief doesn't have a set timeline, and it's okay to feel the absence of your father even years later. Remember that it's important to allow yourself to experience these feelings and to seek support from friends, family, or a professional if you find that your grief is overwhelming. Cherish the memories you have of your father, and know that it's a testament to the love you shared that he is still so dearly missed. Take care of yourself, and don't hesitate to reach out to others when you need comfort.\""
            ],
            "application/vnd.google.colaboratory.intrinsic+json": {
              "type": "string"
            }
          },
          "metadata": {},
          "execution_count": 26
        }
      ]
    },
    {
      "cell_type": "code",
      "source": [
        "final_chain.invoke({ 'question': 'What is the difference between a list and a tuple?', 'language': 'python'})"
      ],
      "metadata": {
        "colab": {
          "base_uri": "https://localhost:8080/",
          "height": 140
        },
        "id": "Ee5U4JlBt-7G",
        "outputId": "4ff31f38-e3de-4a91-81cb-bb8552a4eda4"
      },
      "execution_count": null,
      "outputs": [
        {
          "output_type": "execute_result",
          "data": {
            "text/plain": [
              "'In Python, both lists and tuples are used to store collections of items. However, there are some key differences between the two:\\n\\n1. Mutability:\\n   - List: Lists are mutable, which means that you can change, add, or remove items after the list has been created.\\n   - Tuple: Tuples are immutable, which means that once a tuple is created, you cannot change, add, or remove items from it.\\n\\n2. Syntax:\\n   - List: Lists are defined using square brackets `[]`. For example: `my_list = [1, 2, 3]`.\\n   - Tuple: Tuples are defined using parentheses `()`. For example: `my_tuple = (1, 2, 3)`. Note that for a single-element tuple, a trailing comma is required, e.g., `single_element_tuple = (1,)`.\\n\\n3. Performance:\\n   - List: Due to their mutability, lists have a slightly larger memory overhead and can be a bit slower for certain operations compared to tuples.\\n   - Tuple: Tuples have a smaller memory footprint and can be more efficient when it comes to iteration and other operations due to their immutability.\\n\\n4. Use Cases:\\n   - List: Lists are generally used when you have a collection of items that may need to be modified during the course of your program. They are suitable for maintaining an ordered sequence of items that can change over time.\\n   - Tuple: Tuples are typically used for heterogeneous data (data of different types) and can act as a record with no need for modification. They are often used for functions that return multiple values or for packing and unpacking sequences.\\n\\n5. Methods:\\n   - List: Lists have several methods available for performing operations such as `append()`, `remove()`, `pop()`, `insert()`, `sort()`, and more.\\n   - Tuple: Tuples have fewer methods available, such as `count()` and `index()`, because they cannot be modified after creation.\\n\\nIn summary, the choice between a list and a tuple in Python often comes down to whether you need a mutable or immutable sequence. Lists are more flexible for handling data that can change, while tuples are more suitable for fixed collections of items.'"
            ],
            "application/vnd.google.colaboratory.intrinsic+json": {
              "type": "string"
            }
          },
          "metadata": {},
          "execution_count": 27
        }
      ]
    },
    {
      "cell_type": "code",
      "source": [],
      "metadata": {
        "id": "xL4hYud-x8v8"
      },
      "execution_count": null,
      "outputs": []
    }
  ],
  "metadata": {
    "colab": {
      "provenance": []
    },
    "kernelspec": {
      "display_name": "Python 3 (ipykernel)",
      "name": "python3",
      "language": "python"
    },
    "language_info": {
      "name": "python"
    }
  },
  "nbformat": 4,
  "nbformat_minor": 0
}